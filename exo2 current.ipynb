{
 "cells": [
  {
   "cell_type": "code",
   "execution_count": 1,
   "metadata": {},
   "outputs": [
    {
     "name": "stdout",
     "output_type": "stream",
     "text": [
      "Tolerance Parameter (pct): 5\n",
      "[0.61296458199967674, 1.4915489950003575, 1.879789167999661, 2.0431688260000556, 2.6152551519999179, 2.7583321279998927, 21.555452195999806]\n"
     ]
    },
    {
     "ename": "NameError",
     "evalue": "name 'period_undershoot' is not defined",
     "output_type": "error",
     "traceback": [
      "\u001b[0;31m---------------------------------------------------------------------------\u001b[0m",
      "\u001b[0;31mNameError\u001b[0m                                 Traceback (most recent call last)",
      "\u001b[0;32m<ipython-input-1-f85bae2f98b5>\u001b[0m in \u001b[0;36m<module>\u001b[0;34m\u001b[0m\n\u001b[1;32m    106\u001b[0m     \u001b[0mperiod_undershoot\u001b[0m \u001b[0;34m=\u001b[0m \u001b[0;36m0.90\u001b[0m\u001b[0;34m*\u001b[0m\u001b[0mperiod_guess\u001b[0m\u001b[0;34m\u001b[0m\u001b[0;34m\u001b[0m\u001b[0m\n\u001b[1;32m    107\u001b[0m \u001b[0;34m\u001b[0m\u001b[0m\n\u001b[0;32m--> 108\u001b[0;31m \u001b[0mperiodogram\u001b[0m \u001b[0;34m=\u001b[0m \u001b[0mlc\u001b[0m\u001b[0;34m.\u001b[0m\u001b[0mto_periodogram\u001b[0m\u001b[0;34m(\u001b[0m\u001b[0mmethod\u001b[0m\u001b[0;34m=\u001b[0m\u001b[0;34m\"bls\"\u001b[0m\u001b[0;34m,\u001b[0m \u001b[0mperiod\u001b[0m\u001b[0;34m=\u001b[0m\u001b[0mnp\u001b[0m\u001b[0;34m.\u001b[0m\u001b[0marange\u001b[0m\u001b[0;34m(\u001b[0m\u001b[0mperiod_undershoot\u001b[0m\u001b[0;34m,\u001b[0m \u001b[0mperiod_overshoot\u001b[0m\u001b[0;34m,\u001b[0m \u001b[0;36m0.00001\u001b[0m\u001b[0;34m)\u001b[0m\u001b[0;34m)\u001b[0m\u001b[0;34m\u001b[0m\u001b[0;34m\u001b[0m\u001b[0m\n\u001b[0m\u001b[1;32m    109\u001b[0m \u001b[0mbest_fit_period\u001b[0m \u001b[0;34m=\u001b[0m \u001b[0mperiodogram\u001b[0m\u001b[0;34m.\u001b[0m\u001b[0mperiod_at_max_power\u001b[0m\u001b[0;34m\u001b[0m\u001b[0;34m\u001b[0m\u001b[0m\n\u001b[1;32m    110\u001b[0m \u001b[0mprint\u001b[0m\u001b[0;34m(\u001b[0m\u001b[0;34m'Best fit period: {:.3f}'\u001b[0m\u001b[0;34m.\u001b[0m\u001b[0mformat\u001b[0m\u001b[0;34m(\u001b[0m\u001b[0mbest_fit_period\u001b[0m\u001b[0;34m)\u001b[0m\u001b[0;34m)\u001b[0m\u001b[0;34m\u001b[0m\u001b[0;34m\u001b[0m\u001b[0m\n",
      "\u001b[0;31mNameError\u001b[0m: name 'period_undershoot' is not defined"
     ]
    },
    {
     "data": {
      "image/png": "[encoded data removed]",
      "text/plain": [
       "<Figure size 432x288 with 1 Axes>"
      ]
     },
     "metadata": {
      "needs_background": "light"
     },
     "output_type": "display_data"
    }
   ],
   "source": [
    "import numpy as np\n",
    "from keplersplinev2 import *\n",
    "import itertools\n",
    "import lightkurve as lk\n",
    "import matplotlib.pyplot as plt\n",
    "import seaborn\n",
    "%matplotlib inline\n",
    "\n",
    "with open(\"hlsp_k2sff_k2_lightcurve_201461473-c14_kepler_v1_llc-default-aper.txt\", \"r\") as f:\n",
    "    data = np.genfromtxt(f, delimiter=',', usecols=[0, 1], names=[\"time\", \"flux\"], encoding=\"Latin_1\")\n",
    "data = np.delete(data, 0)\n",
    "input_mask = np.ones_like(data[\"time\"], dtype=np.bool)\n",
    "input_mask[595:625] = False\n",
    "s, metadata = choosekeplersplinev2(data[\"time\"], data[\"flux\"], return_metadata=True)\n",
    "l = list(data[\"flux\"] / s)\n",
    "xs = list(data[\"time\"])\n",
    "lc = lk.LightCurve(xs, l)\n",
    "xy = [x for x in itertools.chain.from_iterable(itertools.zip_longest(xs, l)) if x]\n",
    "coords = [xy[x:x + 2] for x in range(0, len(xy), 2)]\n",
    "quartiles = np.percentile(l, [25, 50, 75])\n",
    "iqr = float(quartiles[2] - quartiles[0])\n",
    "outlier_threshold = float(1.5 * iqr) + float(quartiles[1])\n",
    "revised = [x for x in l if x < outlier_threshold]\n",
    "revised_x = []\n",
    "for x, y in coords:\n",
    "    if y in revised:\n",
    "        revised_x.append(x)\n",
    "xy2 = [x for x in itertools.chain.from_iterable(itertools.zip_longest(revised_x, revised)) if x]\n",
    "coords2 = [xy2[x:x + 2] for x in range(0, len(xy2), 2)]\n",
    "x_coordinates = [row[0] for row in coords2]\n",
    "y_coordinates = [row[1] for row in coords2]\n",
    "plt.scatter(x_coordinates, y_coordinates)\n",
    "list_of_lists = []\n",
    "for index in range(len(revised)):\n",
    "    if index > 19:\n",
    "        lower = index - 20\n",
    "        upper = index + 21\n",
    "        new_list = revised[lower:upper]\n",
    "        list_of_lists.append(new_list)\n",
    "    else:\n",
    "        new_list = revised[0:int(index + 21)]\n",
    "        list_of_lists.append(new_list)\n",
    "booleans = []\n",
    "for a, b in zip(revised, list_of_lists):\n",
    "    if a == min(b):\n",
    "        booleans.append(True)\n",
    "    else:\n",
    "        booleans.append(False)\n",
    "median_offsets = []\n",
    "for a, b in zip(booleans, list_of_lists):\n",
    "    if a is True:\n",
    "        offset = abs(np.median(b) - min(b))\n",
    "        median_offsets.append(offset)\n",
    "    else:\n",
    "        median_offsets.append(0)\n",
    "good_list = [x for x in median_offsets if x != 0]\n",
    "threshold = np.mean(good_list) + 0.8 * np.std(good_list)\n",
    "final_list = []\n",
    "for x in median_offsets:\n",
    "    if x >= threshold:\n",
    "        final_list.append(x)\n",
    "    else:\n",
    "        final_list.append(0)\n",
    "tuples = []\n",
    "for a, b in zip(final_list, revised):\n",
    "    if a != 0:\n",
    "        g = b\n",
    "        for x, y in coords2:\n",
    "            if y == g:\n",
    "                tuples.append((x, y))\n",
    "x_coords = []\n",
    "for x, y in tuples:\n",
    "    x_coords.append(x)\n",
    "minima_x = [element[0] for element in tuples]\n",
    "minima_y = [element[1] for element in tuples]\n",
    "plt.scatter(minima_x, minima_y)\n",
    "l = [x2 - x for x, x2 in zip(x_coords[: -1], x_coords[1:])]\n",
    "tolerance_parameter = float(input('Tolerance Parameter (pct): ')) / 100\n",
    "l2 = []\n",
    "for element_1 in l:\n",
    "    boolean = True\n",
    "    for element_2 in l2:\n",
    "        lower_bound = (1 - tolerance_parameter) * element_2\n",
    "        upper_bound = (1 + tolerance_parameter) * element_2\n",
    "        if lower_bound < element_1 < upper_bound:\n",
    "            boolean = False\n",
    "    if boolean is True:\n",
    "        l2.append(element_1)\n",
    "l2.sort()\n",
    "index_initial = 0\n",
    "while index_initial < len(l2):\n",
    "    index_after = index_initial + 1\n",
    "    while index_after < len(l2):\n",
    "        near_zero = tolerance_parameter * l2[index_initial]\n",
    "        near_smaller = (1 - tolerance_parameter) * l2[index_initial]\n",
    "        mod_val = l2[index_after] % l2[index_initial]\n",
    "        if mod_val < near_zero or mod_val >= near_smaller:\n",
    "            l2.remove(l2[index_after])\n",
    "        else:\n",
    "            index_after += 1\n",
    "    index_initial += 1\n",
    "print(l2)\n",
    "if len(l2) == 1:\n",
    "    period_guess = l2[0]\n",
    "    period_overshoot = 1.10*period_guess\n",
    "    period_undershoot = 0.90*period_guess\n",
    "    \n",
    "periodogram = lc.to_periodogram(method=\"bls\", period=np.arange(period_undershoot, period_overshoot, 0.00001))\n",
    "best_fit_period = periodogram.period_at_max_power\n",
    "print('Best fit period: {:.3f}'.format(best_fit_period))\n",
    "lc = lc.fold(best_fit_period)\n",
    "lc.scatter();\n"
   ]
  },
  {
   "cell_type": "code",
   "execution_count": 23,
   "metadata": {},
   "outputs": [
    {
     "ename": "SyntaxError",
     "evalue": "EOF while scanning triple-quoted string literal (<ipython-input-23-7cab48b9a37d>, line 1)",
     "output_type": "error",
     "traceback": [
      "\u001b[0;36m  File \u001b[0;32m\"<ipython-input-23-7cab48b9a37d>\"\u001b[0;36m, line \u001b[0;32m1\u001b[0m\n\u001b[0;31m    \"\"\"The code has succeeded in file: epic - 201613023, epic - 211525389,\u001b[0m\n\u001b[0m                                                                           ^\u001b[0m\n\u001b[0;31mSyntaxError\u001b[0m\u001b[0;31m:\u001b[0m EOF while scanning triple-quoted string literal\n"
     ]
    }
   ],
   "source": [
    "\"\"\"The code has succeeded in file: epic - 201613023, epic - 211525389, \n",
    "\n",
    "\n",
    "epic - 220194974 is very noisy, did not work;\n",
    "\n"
   ]
  },
  {
   "cell_type": "code",
   "execution_count": 1,
   "metadata": {
    "scrolled": true
   },
   "outputs": [
    {
     "name": "stdout",
     "output_type": "stream",
     "text": [
      "2969\n",
      "Tolerance Parameter (pct): 5\n"
     ]
    },
    {
     "data": {
      "image/png": "[encoded data removed]",
      "text/plain": [
       "<Figure size 864x432 with 1 Axes>"
      ]
     },
     "metadata": {
      "needs_background": "light"
     },
     "output_type": "display_data"
    }
   ],
   "source": [
    "import numpy as np\n",
    "from keplersplinev2 import *\n",
    "import itertools\n",
    "import lightkurve as lk\n",
    "import matplotlib.pyplot as plt\n",
    "%matplotlib inline\n",
    "plt.figure(figsize=(12,6))\n",
    "with open(\"hlsp_k2sff_k2_lightcurve_206082454-c03_kepler_v1_llc-default-aper.txt\", \"r\") as f:\n",
    "    data = np.genfromtxt(f, delimiter=',', usecols=[0, 1], names=[\"time\", \"flux\"], encoding=\"Latin_1\")\n",
    "data = np.delete(data, 0)\n",
    "input_mask = np.ones_like(data[\"time\"], dtype=np.bool)\n",
    "input_mask[595:625] = False\n",
    "s, metadata = choosekeplersplinev2(data[\"time\"], data[\"flux\"], return_metadata=True)\n",
    "l = list(data[\"flux\"] / s)\n",
    "h = 0\n",
    "index_list = []\n",
    "for point in l:\n",
    "    index_list.append(h)\n",
    "    h+=1 \n",
    "print(len(index_list))\n",
    "percentile = np.percentile(l, 2.75)\n",
    "                      \n",
    "xs = list(data[\"time\"])\n",
    "some_xs = xs\n",
    "#median_values = []\n",
    "#for x in range(len(xs)):\n",
    "    #median_values.append(median)\n",
    "lc = lk.LightCurve(xs, l)\n",
    "xy = [x for x in itertools.chain.from_iterable(itertools.zip_longest(xs, l)) if x]\n",
    "coords = [xy[x:x + 2] for x in range(0, len(xy), 2)]\n",
    "quartiles = np.percentile(l, [25, 50, 75])\n",
    "iqr = float(quartiles[2] - quartiles[0])\n",
    "outlier_threshold = float(1.5 * iqr) + float(quartiles[1])\n",
    "revised = [x for x in l if x < outlier_threshold]\n",
    "revised_x = []\n",
    "for x, y in coords:\n",
    "    if y in revised:\n",
    "        revised_x.append(x)\n",
    "xy2 = [x for x in itertools.chain.from_iterable(itertools.zip_longest(revised_x, revised)) if x]\n",
    "coords2 = [xy2[x:x + 2] for x in range(0, len(xy2), 2)]\n",
    "x_coordinates = [row[0] for row in coords2]\n",
    "y_coordinates = [row[1] for row in coords2]\n",
    "plt.scatter(x_coordinates, y_coordinates)\n",
    "list_of_lists = []\n",
    "for index in range(len(revised)):\n",
    "    if index > 19:\n",
    "        lower = index - 20\n",
    "        upper = index + 21\n",
    "        new_list = revised[lower:upper]\n",
    "        list_of_lists.append(new_list)\n",
    "    else:\n",
    "        new_list = revised[0:int(index + 21)]\n",
    "        list_of_lists.append(new_list)\n",
    "booleans = []\n",
    "for a, b in zip(revised, list_of_lists):\n",
    "    if a == min(b):\n",
    "        booleans.append(True)\n",
    "    else:\n",
    "        booleans.append(False)\n",
    "median_offsets = []\n",
    "for a, b in zip(booleans, list_of_lists):\n",
    "    if a is True:\n",
    "        offset = abs(np.median(b) - min(b))\n",
    "        median_offsets.append(offset)\n",
    "    else:\n",
    "        median_offsets.append(0)\n",
    "good_list = [x for x in median_offsets if x != 0]\n",
    "threshold = np.mean(good_list) + 0.8 * np.std(good_list)\n",
    "final_list = []\n",
    "for x in median_offsets:\n",
    "    if x >= threshold:\n",
    "        final_list.append(x)\n",
    "    else:\n",
    "        final_list.append(0)\n",
    "tuples = []\n",
    "\n",
    "for a, b in zip(final_list, revised):\n",
    "    if a != 0:\n",
    "        g = b\n",
    "        for index, (x, y) in enumerate(coords2):\n",
    "            if y == g:\n",
    "                a_tuple = (x, y, index)\n",
    "                tuples.append(a_tuple)\n",
    "\n",
    "x_coords = []\n",
    "for x, y, z in tuples:\n",
    "    x_coords.append(x)\n",
    "indices_of_minima = []\n",
    "for x, y, z in tuples:\n",
    "    indices_of_minima.append(z)\n",
    "minima_x = [element[0] for element in tuples]\n",
    "minima_y = [element[1] for element in tuples]\n",
    "plt.scatter(minima_x, minima_y)\n",
    "#plt.scatter(some_xs, median_values)\n",
    "l = [x2 - x for x, x2 in zip(x_coords[: -1], x_coords[1:])]\n",
    "tolerance_parameter = float(input('Tolerance Parameter (pct): ')) / 100\n",
    "l2 = []\n",
    "for element_1 in l:\n",
    "    boolean = True\n",
    "    for element_2 in l2:\n",
    "        lower_bound = (1 - tolerance_parameter) * element_2\n",
    "        upper_bound = (1 + tolerance_parameter) * element_2\n",
    "        if lower_bound < element_1 < upper_bound:\n",
    "            boolean = False\n",
    "    if boolean is True:\n",
    "        l2.append(element_1)\n",
    "l2.sort()\n",
    "index_initial = 0\n",
    "while index_initial < len(l2):\n",
    "    index_after = index_initial + 1\n",
    "    while index_after < len(l2):\n",
    "        near_zero = tolerance_parameter * l2[index_initial]\n",
    "        near_smaller = (1 - tolerance_parameter) * l2[index_initial]\n",
    "        mod_val = l2[index_after] % l2[index_initial]\n",
    "        if mod_val < near_zero or mod_val >= near_smaller:\n",
    "            l2.remove(l2[index_after])\n",
    "        else:\n",
    "            index_after += 1\n",
    "    index_initial += 1\n",
    "    \n",
    "\n",
    "\n",
    "number_of_planets = len(l2)\n",
    "if number_of_planets == 0:\n",
    "    print(\"NTP detected.\")\n",
    "#if number_of_planets == 1:\n",
    "    #do established procedures\n",
    "#else:\n",
    "    #do forthcoming procedures\n",
    "    \n",
    "#periodogram = lc.to_periodogram(method=\"bls\", period=np.arange(period_undershoot, period_overshoot, 0.00001))\n",
    "#best_fit_period = periodogram.period_at_max_power\n",
    "#print('Best fit period: {:.3f}'.format(best_fit_period))\n",
    "#lc = lc.fold(19.307044)\n",
    "#lc.scatter();\n",
    "#lc.to_csv(\"folded.csv\")\n",
    "\n",
    "dip_zones = []\n",
    "for x, y, z in tuples:\n",
    "    index_index = z - 1\n",
    "    while coords2[index_index][1] < percentile:\n",
    "        index_index = index_index - 1\n",
    "    first_x = coords2[index_index][0] \n",
    "    first_y = coords2[index_index][1]\n",
    "    first_index = index_index\n",
    "    index_index = z + 1\n",
    "    while coords2[index_index][1] < percentile:\n",
    "        index_index = index_index + 1\n",
    "    third_x = coords2[index_index][0] \n",
    "    third_y = coords2[index_index][1]\n",
    "    third_index = index_index\n",
    "    dip_zone = [first_x, first_y, first_index, x, y, z, third_x, third_y, third_index]\n",
    "    dip_zones.append(dip_zone)\n",
    "possible_durations = []\n",
    "for element in dip_zones:\n",
    "    first_guess = abs(element[6] - element[0])\n",
    "    possible_durations.append(first_guess)\n",
    "#print(possible_durations)\n",
    "#print(l2)\n",
    "#for x, y, z in tuples:\n",
    "    #for x1, y1 in coords2:"
   ]
  },
  {
   "cell_type": "code",
   "execution_count": 2,
   "metadata": {
    "scrolled": false
   },
   "outputs": [
    {
     "name": "stdout",
     "output_type": "stream",
     "text": [
      "[0.99859591938153613, 0.99952370911155686]\n",
      "[[(0.99866017148565545, 0.99859591938153613), (0.99866017148565545, 0.99952370911155686), (0.99956234254866916, 0.99859591938153613), (0.99956234254866916, 0.99952370911155686)], [(0.99956234254866916, 0.99859591938153613), (0.99956234254866916, 0.99952370911155686)]]\n",
      "[0.99859591938153613, 0.99952370911155686]\n",
      "[[2160.4282560649999, 1.000009085066204, 619, 2160.5304155150002, 0.99859591938153613, 624, 2160.6530067210001, 0.99988519379892471, 630], [2177.9382454199999, 0.99981520410864988, 1354, 2177.958676923, 0.99952370911155686, 1355, 2178.0199717300002, 1.0000483210697368, 1358], [2190.0541599940002, 1.0001232637019668, 1891, 2190.135886088, 0.99866017148565545, 1894, 2190.2993382720001, 1.0000638248780793, 1901], [2206.4811145439999, 1.0000503234905507, 2587, 2206.6037038509999, 0.99956234254866916, 2592, 2206.6445670879998, 1.000005168783225, 2594]]\n"
     ]
    }
   ],
   "source": [
    "l = []\n",
    "for thing in itertools.combinations(x_coords, 2):\n",
    "    l.append((abs(thing[1] - thing[0])))\n",
    "\n",
    "\n",
    "l2 = []\n",
    "for element_1 in l:\n",
    "    boolean = True\n",
    "    for element_2 in l2:\n",
    "        lower_bound = (1 - tolerance_parameter) * element_2\n",
    "        upper_bound = (1 + tolerance_parameter) * element_2\n",
    "        if lower_bound < element_1 < upper_bound:\n",
    "            boolean = False\n",
    "    if boolean is True:\n",
    "        l2.append(element_1)\n",
    "        \n",
    "l2.sort()\n",
    "\n",
    "index_initial = 0\n",
    "\n",
    "while index_initial < len(l2):\n",
    "    index_after = index_initial + 1\n",
    "    while index_after < len(l2):\n",
    "        near_zero = tolerance_parameter * l2[index_initial]\n",
    "        near_smaller = (1 - tolerance_parameter) * l2[index_initial]\n",
    "        mod_val = l2[index_after] % l2[index_initial]\n",
    "        if mod_val < near_zero or mod_val >= near_smaller:\n",
    "            l2.remove(l2[index_after])\n",
    "        else:\n",
    "            index_after += 1\n",
    "    index_initial += 1\n",
    "\n",
    "no_planets = False\n",
    "minima_found = False\n",
    "\n",
    "if len(l2) == 0:\n",
    "    no_planets = True\n",
    "\n",
    "if len(l2) == 1:\n",
    "    minima_found = True\n",
    "    number_of_planets = 1\n",
    "\n",
    "elif len(l2) > 1:\n",
    "    segregated_fluxes = []\n",
    "    min_fluxes = minima_y\n",
    "    for index1 in range(len(min_fluxes)):\n",
    "        for index2 in range(index1 + 1, len(min_fluxes)):\n",
    "            if .9999*min_fluxes[index2] < min_fluxes[index1] < 1.0001*min_fluxes[index2]:\n",
    "                segregated_fluxes.append((min_fluxes[index1], min_fluxes[index2]))\n",
    "            \n",
    "    number_of_planets = len(segregated_fluxes)\n",
    "    \n",
    "    filtered_fluxes = [a_flux for a_class in segregated_fluxes for a_flux in a_class] \n",
    "    unmatched_fluxes = []\n",
    "\n",
    "    for a_flux in min_fluxes:\n",
    "        if not a_flux in filtered_fluxes:\n",
    "            unmatched_fluxes.append(a_flux)\n",
    "\n",
    "    if 1 < number_of_planets < 9:\n",
    "        minima_found = True\n",
    "        \n",
    "    unique_fluxes = []\n",
    "    for element_1 in min_fluxes:\n",
    "        boolean = True\n",
    "        for element_2 in unique_fluxes:\n",
    "            lower_bound = (1 - .0001) * element_2\n",
    "            upper_bound = (1 + .0001) * element_2\n",
    "            if lower_bound < element_1 < upper_bound:\n",
    "                boolean = False\n",
    "        if boolean is True:\n",
    "            unique_fluxes.append(element_1)\n",
    "    \n",
    "    print(unique_fluxes)\n",
    "    \n",
    "    # We have the base list\n",
    "    # We have the total flux list\n",
    "    # We start by removing from the flux list whatever is already in the base list\n",
    "\n",
    "    for value in unique_fluxes:\n",
    "        if value in min_fluxes:\n",
    "            min_fluxes.remove(value)\n",
    "    split_list = []\n",
    "    c = list(itertools.product(min_fluxes, unique_fluxes))\n",
    "    for index in range(0, len(c), len(unique_fluxes)):\n",
    "        split_list.append(c[index : index + len(c)])\n",
    "    print((split_list))\n",
    "    print(unique_fluxes)\n",
    "    print(dip_zones)"
   ]
  },
  {
   "cell_type": "code",
   "execution_count": 4,
   "metadata": {
    "scrolled": true
   },
   "outputs": [
    {
     "name": "stdout",
     "output_type": "stream",
     "text": [
      "[[2160.4282560649999, 1.000009085066204, 619, 2160.5304155150002, 0.99859591938153613, 624, 2160.6530067210001, 0.99988519379892471, 630, 29.60547057299982, 29.60547057299982], [2190.0541599940002, 1.0001232637019668, 1891, 2190.135886088, 0.99866017148565545, 1894, 2190.2993382720001, 1.0000638248780793, 1901, 29.60547057299982, 29.60547057299982]]\n",
      "[[2177.9382454199999, 0.99981520410864988, 1354, 2177.958676923, 0.99952370911155686, 1355, 2178.0199717300002, 1.0000483210697368, 1358, 28.645026927999879, 28.645026927999879], [2206.4811145439999, 1.0000503234905507, 2587, 2206.6037038509999, 0.99956234254866916, 2592, 2206.6445670879998, 1.000005168783225, 2594, 28.645026927999879, 28.645026927999879]]\n",
      "[[[2160.4282560649999, 1.000009085066204, 619, 2160.5304155150002, 0.99859591938153613, 624, 2160.6530067210001, 0.99988519379892471, 630, 29.60547057299982, 29.60547057299982], [2190.0541599940002, 1.0001232637019668, 1891, 2190.135886088, 0.99866017148565545, 1894, 2190.2993382720001, 1.0000638248780793, 1901, 29.60547057299982, 29.60547057299982]], [[2177.9382454199999, 0.99981520410864988, 1354, 2177.958676923, 0.99952370911155686, 1355, 2178.0199717300002, 1.0000483210697368, 1358, 28.645026927999879, 28.645026927999879], [2206.4811145439999, 1.0000503234905507, 2587, 2206.6037038509999, 0.99956234254866916, 2592, 2206.6445670879998, 1.000005168783225, 2594, 28.645026927999879, 28.645026927999879]]]\n"
     ]
    }
   ],
   "source": [
    "unique_fluxes = unique_fluxes\n",
    "#(unique_fluxes)\n",
    "# any value in unique_fluxes is considered to be a \"base case\"\n",
    "# unqcomputed in the cell above = [0.9994737591114569, 0.9985959193815361]\n",
    "\n",
    "# not sure why but min_fluxes isn't printing correctly, so here it is being declared again\n",
    "\n",
    "min_fluxes = list(set(min_fluxes) - set(unique_fluxes)) # remove the base cases in unique_fluxes from min_fluxes\n",
    "\n",
    "correspondence_list = [] #will contain tuples of flux and its closest base match, unsorted, unmatched\n",
    "for value in min_fluxes:\n",
    "    list_of_differences = [] #list to contain base case, value, and difference for each value in min_fluxes (two each)\n",
    "    for value2 in unique_fluxes: # value2 is base case\n",
    "        information = (value2, value, abs(value - value2)) #create tuple to avoid syntax errors when appending\n",
    "        list_of_differences.append(information) #list will have len(unique_fluxes) elements\n",
    "    list_of_differences = sorted(list_of_differences, key = lambda x: x[2]) #sort list by smallest abs(value - value2)\n",
    "    minimum = [list_of_differences[0][0], list_of_differences[0][1]]  #tuple of flux and the base case closest to it\n",
    "    correspondence_list.append(minimum)\n",
    "\n",
    "list_of_classes = [[] for n in range(len(unique_fluxes))] #create list of lists with as many lists as unique_fluxes\n",
    "\n",
    "for index in range(len(list_of_classes)): #populate each blank list with one unqiue flux\n",
    "    list_of_classes[index].append(unique_fluxes[index]) #double loop not necessary because len(nested_list) == len(unique_fluxes)\n",
    "\n",
    "\n",
    "for a_class in list_of_classes: #each list will correspond to one class of flux\n",
    "    for value in correspondence_list:\n",
    "        if value[0] in a_class: #if the base case for each flux is equal to the base case in the list\n",
    "            a_class.append(value[1]) #append to the flux class the non-base flux\n",
    "\n",
    "\n",
    "for a_tuple in tuples:\n",
    "    for a_class in list_of_classes:\n",
    "        for element in a_class: \n",
    "            if element == a_tuple[1]: # if a flux in the internal list is equal to the flux of a single tuple\n",
    "                a_class.append(a_tuple[0]) # append to the class list the x coord associated with that flux\n",
    "\n",
    "        \n",
    "for index in range(len(list_of_classes)):\n",
    "    list_of_classes[index] = list_of_classes[index][len(list_of_classes[index])//2:] #split internal class lists in half so that only the x_coords remain, b/c as many x_coords as fluxes by def\n",
    "\n",
    "classified_times = list_of_classes \n",
    "del list_of_classes #dont want the same object in memory twice ?\n",
    "\n",
    "\n",
    "classified_times = classified_times #redeclare because of IDE issues, or something\n",
    "period_values = []\n",
    "periods = [] #will house period_guesses to be fed into bls\n",
    "for time_list in classified_times:\n",
    "    differences = [] \n",
    "    for element in itertools.combinations(time_list, 2):\n",
    "        differences.append((abs(element[0] - element[1])))#append to differences the difference between the two elements of every possible tuple\n",
    "    periods.append((min(differences), time_list)) #choose smallest of differences as period and associate it with the time_list i.e. minima that generated it\n",
    "    period_values.append((min(differences)))\n",
    "\n",
    "for period_and_time_list in periods:\n",
    "    for dip_zone in dip_zones:\n",
    "        if dip_zone[3] in period_and_time_list[1]:\n",
    "            period = period_and_time_list[0]\n",
    "            dip_zone += (period,) #make the tenth element of a dip zone the period with which the time is associated (classification)\n",
    "            \n",
    "classified_dip_zones = [[] for n in range(len(periods))]\n",
    "for dip_zone in dip_zones:\n",
    "    for index in range(len(period_values)):\n",
    "        if dip_zone[9] == period_values[index]: #dip zone 9 is the period, numeric period houses the periods only\n",
    "            classified_dip_zones[index].append(dip_zone) #now each dip zone is in a list with its class\n",
    "            \n",
    "for element in classified_dip_zones:\n",
    "    print(element)\n",
    "print(classified_dip_zones)"
   ]
  },
  {
   "cell_type": "code",
   "execution_count": 75,
   "metadata": {},
   "outputs": [
    {
     "name": "stdout",
     "output_type": "stream",
     "text": [
      "[[[2177.9382454199999, 0.99981520410864988, 1354, 2177.958676923, 0.99952370911155686, 1355, 2178.0199717300002, 1.0000483210697368, 1358, 28.645026927999879], [2206.4811145439999, 1.0000503234905507, 2587, 2206.6037038509999, 0.99956234254866916, 2592, 2206.6445670879998, 1.000005168783225, 2594, 28.645026927999879]]]\n",
      "[[[2160.4282560649999, 1.000009085066204, 619, 2160.5304155150002, 0.99859591938153613, 624, 2160.6530067210001, 0.99988519379892471, 630, 29.60547057299982], [2190.0541599940002, 1.0001232637019668, 1891, 2190.135886088, 0.99866017148565545, 1894, 2190.2993382720001, 1.0000638248780793, 1901, 29.60547057299982]]]\n"
     ]
    }
   ],
   "source": [
    "list_of_removal_targets = [] #all classes that are not the target class\n",
    "for index in range(len(period_values)): #len(numeric_period) = len(classified_dip_zones) so eliminates need for double loop\n",
    "    target_period = period_values[index]\n",
    "    target_planet = classified_dip_zones[index] # we want to keep this one, get the others into a removal list\n",
    "    if target_planet[0][9] == target_period: \n",
    "        filtered = [planet for planet in classified_dip_zones if planet != target_planet]#remove the target class, i.e. the planet you want to keep, based on period\n",
    "            # use list comprehension to avoid mutatiing classified_dip_zones\n",
    "        list_of_removal_targets.append(filtered)\n",
    "\n",
    "for element in list_of_removal_targets:\n",
    "    print(element)\n"
   ]
  },
  {
   "cell_type": "code",
   "execution_count": 9,
   "metadata": {},
   "outputs": [],
   "source": [
    "planets_to_remove = [] \n",
    "for index in range(len(period_values)): \n",
    "    target_period = period_values[index]\n",
    "    target_planet = classified_dip_zones[index]\n",
    "    if target_planet[0][9] == target_period: \n",
    "        filtered = [planet for planet in classified_dip_zones if planet != target_planet]\n",
    "        filtered.append(target_period)\n",
    "        planets_to_remove.append(filtered)"
   ]
  },
  {
   "cell_type": "code",
   "execution_count": 83,
   "metadata": {},
   "outputs": [
    {
     "name": "stdout",
     "output_type": "stream",
     "text": [
      "[[[2177.9382454199999, 0.99981520410864988, 1354, 2177.958676923, 0.99952370911155686, 1355, 2178.0199717300002, 1.0000483210697368, 1358, 28.645026927999879], [2206.4811145439999, 1.0000503234905507, 2587, 2206.6037038509999, 0.99956234254866916, 2592, 2206.6445670879998, 1.000005168783225, 2594, 28.645026927999879]], 29.60547057299982]\n",
      "[[[2160.4282560649999, 1.000009085066204, 619, 2160.5304155150002, 0.99859591938153613, 624, 2160.6530067210001, 0.99988519379892471, 630, 29.60547057299982], [2190.0541599940002, 1.0001232637019668, 1891, 2190.135886088, 0.99866017148565545, 1894, 2190.2993382720001, 1.0000638248780793, 1901, 29.60547057299982]], 28.645026927999879]\n"
     ]
    }
   ],
   "source": [
    "for list_of_removal_targets in planets_to_remove:\n",
    "    print(list_of_removal_targets)"
   ]
  },
  {
   "cell_type": "code",
   "execution_count": 134,
   "metadata": {},
   "outputs": [
    {
     "name": "stdout",
     "output_type": "stream",
     "text": [
      "5716\n"
     ]
    }
   ],
   "source": [
    "single_planet_times = []\n",
    "overall_fluxes = y_coordinates \n",
    "overall_times = x_coordinates\n",
    "for list_of_removal_targets in planets_to_remove:\n",
    "    filtered_times_per_class = []\n",
    "    removal_targets = list_of_removal_targets[0] # list_of_removal_targets but without period key\n",
    "    for a_dip_zone in removal_targets:\n",
    "        start_of_transit = a_dip_zone[0]\n",
    "        end_of_transit = a_dip_zone[6]\n",
    "        filtered_times_per_dip_zone = [time for time in overall_times \n",
    "                                       if not start_of_transit <= time <= end_of_transit] #filter for a single dip zone\n",
    "        single_planet_times.append(filtered_times)\n",
    "\n",
    "print(len(single_planet_times[2]) + len(single_planet_times[3]))"
   ]
  },
  {
   "cell_type": "code",
   "execution_count": 123,
   "metadata": {},
   "outputs": [
    {
     "data": {
      "text/plain": [
       "23"
      ]
     },
     "execution_count": 123,
     "metadata": {},
     "output_type": "execute_result"
    }
   ],
   "source": [
    "2869*2- 5715"
   ]
  },
  {
   "cell_type": "code",
   "execution_count": 113,
   "metadata": {
    "scrolled": true
   },
   "outputs": [
    {
     "name": "stdout",
     "output_type": "stream",
     "text": [
      "[[[[2177.9382454199999, 0.99981520410864988, 1354, 2177.958676923, 0.99952370911155686, 1355, 2178.0199717300002, 1.0000483210697368, 1358, 28.645026927999879], [2206.4811145439999, 1.0000503234905507, 2587, 2206.6037038509999, 0.99956234254866916, 2592, 2206.6445670879998, 1.000005168783225, 2594, 28.645026927999879]], 29.60547057299982], [[[2160.4282560649999, 1.000009085066204, 619, 2160.5304155150002, 0.99859591938153613, 624, 2160.6530067210001, 0.99988519379892471, 630, 29.60547057299982], [2190.0541599940002, 1.0001232637019668, 1891, 2190.135886088, 0.99866017148565545, 1894, 2190.2993382720001, 1.0000638248780793, 1901, 29.60547057299982]], 28.645026927999879]]\n"
     ]
    }
   ],
   "source": [
    "print(planets_to_remove)"
   ]
  },
  {
   "cell_type": "code",
   "execution_count": 112,
   "metadata": {},
   "outputs": [
    {
     "name": "stdout",
     "output_type": "stream",
     "text": [
      "[2146.4527488210001, 2146.473181115, 2146.5140454010002, 2146.5344776930001, 2146.5549097849998, 2146.5753419759999, 2146.5957742659998, 2146.616206356, 2146.6366385460001, 2146.6570707350002, 2146.6775029229998, 2146.6979352110002, 2146.718367298, 2146.7387994860001, 2146.759231772, 2146.7796639580001, 2146.8000960429999, 2146.840960512, 2146.8613925959999, 2146.8818248789999, 2146.902257061, 2146.9226891429998, 2146.9431214249998, 2146.963553606, 2146.9839856869999, 2147.0044179659999, 2147.0248501460001, 2147.0452822249999, 2147.065714503, 2147.0861466820002, 2147.1065788589999, 2147.1270110350001, 2147.1474432119999, 2147.1678754869999, 2147.1883075629999, 2147.2087397380001, 2147.2291720120002, 2147.249604185, 2147.3109007039998, 2147.3313327750002, 2147.3517650459999, 2147.3926292870001, 2147.4130615559998, 2147.4334936250002, 2147.453925794, 2147.515222296, 2147.5356545620002, 2147.5560866279998, 2147.5765187940001, 2147.5969510579998, 2147.6173832230002, 2147.6378152860002, 2147.6786797119998, 2147.6991118750002, 2147.7195440360001, 2147.739976197, 2147.7604084579998, 2147.7808405179999, 2147.821704937, 2147.8625691530001, 2147.8830014109999, 2147.903433468, 2147.923865624, 2147.9442978799998, 2147.9851620909999, 2148.0055943450002, 2148.0260263989999, 2148.0464585519999, 2148.0668908050002, 2148.0873229570002, 2148.1077550089999, 2148.1281872599998, 2148.1486193109999, 2148.169051461, 2148.1894837109999, 2148.2099157600001, 2148.2303479090001, 2148.250780157, 2148.2712122040002, 2148.2916444520001, 2148.3120765980002, 2148.332508644, 2148.3529408899999, 2148.373373035, 2148.3938050800002, 2148.4142373240002, 2148.4346694669998, 2148.475533753, 2148.4959658950002, 2148.5163980369998, 2148.536830177, 2148.5572623180001, 2148.5776944569998, 2148.5981266970002, 2148.6185587360001, 2148.6389908739998, 2148.6594231119998, 2148.7002872859998, 2148.7207195229998, 2148.7411515590002, 2148.7615836939999, 2148.782015929, 2148.8024479629998, 2148.8228800960001, 2148.8433123300001, 2148.863744363, 2148.904608627, 2148.9250407579998, 2148.9454729879999, 2148.9659050189998, 2148.9863371480001, 2149.0067693770002, 2149.0476335339999, 2149.0680657620001, 2149.0884978889999, 2149.1089299159999, 2149.129362142, 2149.2110906409998, 2149.2315226639998, 2149.251954887, 2149.2723870099999, 2149.2928191320002, 2149.3132512540001, 2149.333683374, 2149.3541154949999, 2149.3745476150002, 2149.3949797350001, 2149.415411853, 2149.4562760899998, 2149.4767083070001, 2149.497140424, 2149.5175724410001, 2149.5380046569999, 2149.5584367719998, 2149.5788687869999, 2149.5993010020002, 2149.6197330149998, 2149.6401651289998, 2149.6605973410001, 2149.6810293540002, 2149.7014614660002, 2149.721893677, 2149.7627577980002, 2149.783190008, 2149.8036220180002, 2149.8240541270002, 2149.8444863350001, 2149.8649184430001, 2149.9466467689999, 2149.9670789739998, 2149.9875110789999, 2150.0079430830001, 2150.028375287, 2150.0488073910001, 2150.069239593, 2150.0896715949998, 2150.1101036969999, 2150.1305358979998, 2150.1509678990001, 2150.1714000000002, 2150.1918322000001, 2150.2122641989999, 2150.2326962980001, 2150.2735605940002, 2150.293992591, 2150.314424788, 2150.3348568840001, 2150.35528888, 2150.375721075, 2150.3961530699999, 2150.416585164, 2150.437017358, 2150.4574493509999, 2150.4778814440001, 2150.4983136360001, 2150.518745628, 2150.5391777200002, 2150.5596099099998, 2150.5800419010002, 2150.60047399, 2150.620906179, 2150.6413381679999, 2150.6822024439998, 2150.702634532, 2150.7230666179998, 2150.7434987050001, 2150.7639307909999, 2150.784362976, 2150.804794961, 2150.8252270449998, 2150.8456592289999, 2150.8660912119999, 2150.8865232950002, 2150.9069554769999, 2150.9273874589999, 2150.9478195410002, 2150.9682517209999, 2150.9886837019999, 2151.0091157820002, 2151.0295478610001, 2151.0704120189998, 2151.090844196, 2151.1112761740001, 2151.131708251, 2151.1521404270002, 2151.1725724029998, 2151.1930044790001, 2151.2134366529999, 2151.233868628, 2151.2543008020002, 2151.2747328750002, 2151.2951648479998, 2151.315597021, 2151.336029093, 2151.3564610640001, 2151.3768932349999, 2151.3973253059999, 2151.417757276, 2151.4381894449998, 2151.4586215139998, 2151.4790534829999, 2151.4994856510002, 2151.5199177180002, 2151.5403497850002, 2151.5607818520002, 2151.5812139179998, 2151.6016459839998, 2151.6220781490001, 2151.6425101139998, 2151.6629421769999, 2151.6833743410002, 2151.703806304, 2151.724238367, 2151.7446705289999, 2151.8263986729999, 2151.8468307329999, 2151.867262792, 2151.9081270090001, 2151.9285589669998, 2151.9694231809999, 2151.989855237, 2152.0102871929998, 2152.0307193479998, 2152.0511514029999, 2152.0715833580002, 2152.0920155120002, 2152.1124475649999, 2152.1328795180002, 2152.1533116700002, 2152.1737437219999, 2152.1941756739998, 2152.2146078249998, 2152.235039875, 2152.2554718249999, 2152.2759039749999, 2152.2963360240001, 2152.316767973, 2152.33720012, 2152.3576321679998, 2152.378064215, 2152.3984962620002, 2152.4393603540002, 2152.4597924989998, 2152.4802244440002, 2152.5006565879999, 2152.5210886320001, 2152.5619527170002, 2152.58238476, 2152.6232488430001, 2152.643680784, 2152.6641128239999, 2152.684544964, 2152.7254089419998, 2152.745841081, 2152.766273019, 2152.7867050559998, 2152.807137193, 2152.8275692299999, 2152.8480011659999, 2152.8684333010001, 2152.888865336, 2152.909297271, 2152.9297294050002, 2152.9501614390001, 2152.9705933720002, 2152.9910255049999, 2153.0114575369998, 2153.0318894689999, 2153.0523216000001, 2153.0727536310001, 2153.0931857609999, 2153.1136176909999, 2153.1340497199999, 2153.1544818490001, 2153.1749137779998, 2153.1953458060002, 2153.215777933, 2153.2362098600001, 2153.2566418870001, 2153.2770739130001, 2153.2975060379999, 2153.3179379630001, 2153.3383699880001, 2153.3792340350001, 2153.3996661589999, 2153.4200980820001, 2153.4405301040001, 2153.4813941470002, 2153.5018261680002, 2153.5222582880001, 2153.5426902079998, 2153.5631222269999, 2153.5835543459998, 2153.603986264, 2153.6244182830001, 2153.6448504, 2153.6652824170001, 2153.7061464499998, 2153.7265784649999, 2153.747010481, 2153.7674424950001, 2153.7878745100002, 2153.8083066230001, 2153.8287385369999, 2153.8900345729999, 2153.910466585, 2153.930898696, 2153.9513306059998, 2153.971762616, 2153.992194725, 2154.0126266349998, 2154.033058643, 2154.0739226589999, 2154.0943546660001, 2154.1147866729998, 2154.135218679, 2154.1556506850002, 2154.1760826899999, 2154.1965146950001, 2154.2169466989999, 2154.237378803, 2154.2578107069999, 2154.2782428099999, 2154.2986748120002, 2154.3191067140001, 2154.3395388160002, 2154.359970817, 2154.3804027169999, 2154.400834818, 2154.4212668169998, 2154.4416987159998, 2154.4621308149999, 2154.4825628140002, 2154.502994812, 2154.5234268089998, 2154.5438588060001, 2154.5847227979998, 2154.6051547940001, 2154.625586789, 2154.6460188830001, 2154.6664507780001, 2154.686882771, 2154.7073148650002, 2154.7277467570002, 2154.7481787500001, 2154.768610741, 2154.7890427329999, 2154.8094748240001, 2154.8299067140001, 2154.850338704, 2154.8707707939998, 2154.8912026829998, 2154.9116346709998, 2154.932066759, 2154.9524986470001, 2154.972930634, 2154.9933627209998, 2155.0137946069999, 2155.0342265929999, 2155.0546586790001, 2155.0750906630001, 2155.0955225480002, 2155.115954632, 2155.136386615, 2155.1568184980001, 2155.177250581, 2155.1976825629999, 2155.2181144450001, 2155.2385465259999, 2155.2589785069999, 2155.2794103870001, 2155.299842467, 2155.320274447, 2155.340706426, 2155.361138404, 2155.3815703820001, 2155.4020024599999, 2155.4224343370001, 2155.4428663130002, 2155.4632983900001, 2155.4837302649998, 2155.5041622409999, 2155.524594215, 2155.54502619, 2155.5654581640001, 2155.585890238, 2155.6063221109998, 2155.6471861549999, 2155.6676180270001, 2155.6880499980002, 2155.7084820690002, 2155.728913939, 2155.7493459090001, 2155.7697779790001, 2155.7902098469999, 2155.8515057509999, 2155.871937719, 2155.892369785, 2155.9128017520002, 2155.933233617, 2155.9536656830001, 2155.9740976480002, 2155.994529612, 2156.0149615760001, 2156.0353935399999, 2156.0558256029999, 2156.0762574649998, 2156.096689428, 2156.1171214890001, 2156.1579853120002, 2156.1784173719998, 2156.1988492320002, 2156.2192811909999, 2156.23971325, 2156.260145109, 2156.2805770670002, 2156.301009025, 2156.3214409819998, 2156.4031688069999, 2156.4236008610001, 2156.4644646699999, 2156.505328577, 2156.5257605299998, 2156.546192582, 2156.566624434, 2156.5870564860002, 2156.607488437, 2156.6279202870001, 2156.6483523369998, 2156.6687842870001, 2156.6892161360001, 2156.7096481849999, 2156.7300801329998, 2156.7505120810001, 2156.770944029, 2156.7913759759999, 2156.8118079219998, 2156.8322398680002, 2156.8526718140001, 2156.8731037590001, 2156.8935358039998, 2156.9139676489999, 2156.9343995919999, 2156.9548316360001, 2156.9752634790002, 2156.9956954210002, 2157.0161273640001, 2157.056991247, 2157.077423187, 2157.097855128, 2157.118287068, 2157.138719007, 2157.159150946, 2157.1795829849998, 2157.2000148229999, 2157.2204467609999, 2157.2408787979998, 2157.3021746069999, 2157.3226065429999, 2157.3430383780001, 2157.363470413, 2157.383902347, 2157.4043341810002, 2157.4247662140001, 2157.4451981470002, 2157.4656299789999, 2157.4860620109998, 2157.5064939429999, 2157.5269257740001, 2157.547357805, 2157.5677897350001, 2157.5882216650002, 2157.6086535939999, 2157.6290855239999, 2157.6495174520001, 2157.6699493800002, 2157.6903813079998, 2157.7108132349999, 2157.7312451620001, 2157.7516770880002, 2157.8129728650001, 2157.8334048900001, 2157.853836714, 2157.8742686370001, 2157.8947006610001, 2157.915132484, 2157.9355644060001, 2157.9559964290002, 2157.97642825, 2157.9968601710002, 2158.0172921919998, 2158.0377240120001, 2158.0581559319999, 2158.0785879519999, 2158.0990198710001, 2158.119451689, 2158.1398837070001, 2158.1603156249998, 2158.2011794589998, 2158.2216113760001, 2158.242043192, 2158.2624752070001, 2158.2829071229999, 2158.3033389369998, 2158.3237709519999, 2158.3442028660002, 2158.3646348789998, 2158.3850666919998, 2158.4054986040001, 2158.4259306170002, 2158.4463624280002, 2158.46679434, 2158.4872263500001, 2158.5485219809998, 2158.5689538900001, 2158.589385799, 2158.6302496150001, 2158.650681522, 2158.6711135290002, 2158.6915453360002, 2158.7119772420001, 2158.7324092479998, 2158.7732729579998, 2158.793704963, 2158.83456867, 2158.8550006730002, 2158.8754324759998, 2158.895864479, 2158.9162963809999, 2158.9367282819999, 2158.9571601829998, 2158.9775920840002, 2158.9980239840002, 2159.0184558840001, 2159.0388877830001, 2159.059319682, 2159.0797516809998, 2159.100183479, 2159.1206153769999, 2159.1410473740002, 2159.1614791709999, 2159.1819110679999, 2159.2023430640002, 2159.2227748589999, 2159.2432067549998, 2159.2636386489999, 2159.3045024369999, 2159.3249343309999, 2159.3453662239999, 2159.3657981169999, 2159.386230009, 2159.406661901, 2159.4270937920001, 2159.4475257829999, 2159.4679575740001, 2159.5088214540001, 2159.5292532429999, 2159.5496852319998, 2159.5701171209998, 2159.5905489090001, 2159.610980897, 2159.6314127840001, 2159.6518445709999, 2159.6722765569998, 2159.6927084429999, 2159.7131402290001, 2159.7540040990002, 2159.7744359829999, 2159.794867867, 2159.8152997510001, 2159.8357316339998, 2159.8561635159999, 2159.8765953990001, 2159.8970272810002, 2159.9174592620002, 2159.937891043, 2159.9583229230002, 2159.9787548039999, 2159.9991866840001, 2160.0196184629999, 2160.0400504419999, 2160.0604823210001, 2160.0809142990001, 2160.101346076, 2160.1217779540002, 2160.1422099309998, 2160.1626417080001, 2160.1830735839999, 2160.203505559, 2160.2239373339999, 2160.2443692090001, 2160.2648011840001, 2160.2852330579999, 2160.3056648319998, 2160.3260968049999, 2160.3465286780001, 2160.3669604500001, 2160.3873924220002, 2160.407824294, 2160.4282560649999, 2160.448688036, 2160.4691199059998, 2160.4895516759998, 2160.5099836459999, 2160.5304155150002, 2160.5508472840002, 2160.5712792519998, 2160.5917111200001, 2160.612142987, 2160.6325748539998, 2160.6530067210001, 2160.6734386869998, 2160.6938704539998, 2160.7347342839998, 2160.7551660489999, 2160.7755979130002, 2160.7960297770001, 2160.8164616399999, 2160.8368935029998, 2160.857325466, 2160.8777572280001, 2160.89818909, 2160.9186210520002, 2160.9390528130002, 2160.9594846730001, 2160.9799166329999, 2161.000348393, 2161.0616439700002, 2161.0820758290001, 2161.1025077869999, 2161.1229396439999, 2161.143371401, 2161.1638033580002, 2161.1842352140002, 2161.2046669699998, 2161.2250989250001, 2161.2455307800001, 2161.2659625350002, 2161.286394489, 2161.306826343, 2161.347690049, 2161.3885538539998, 2161.408985606, 2161.470281159, 2161.490713009, 2161.5111448590001, 2161.5315767090001, 2161.5520085580001, 2161.5724404070002, 2161.5928722550002, 2161.6133041029998, 2161.6337359499998, 2161.6541677969999, 2161.674599644, 2161.7358951810002, 2161.7563271270001, 2161.7767588709999, 2161.7971907159999, 2161.8176226599999, 2161.8380544030001, 2161.8584863460001, 2161.8789181890002, 2161.899349932, 2161.9197818729999, 2161.940213715, 2161.9606455560001, 2161.9810773969998, 2162.0015092369999, 2162.0219410770001, 2162.0423729170002, 2162.0628047559999, 2162.083236595, 2162.1036684330002, 2162.1241002709999, 2162.144532109, 2162.164964046, 2162.205827619, 2162.2262594560002, 2162.2466912909999, 2162.2671230269998, 2162.2875549619998, 2162.307986796, 2162.3284185299999, 2162.348850464, 2162.3692822970002, 2162.3897141299999, 2162.4305777949999, 2162.4510097269999, 2162.4714414579998, 2162.4918732890001, 2162.5123052200001, 2162.5327370499999, 2162.5531687799999, 2162.5736007099999, 2162.5940325390002, 2162.6144642670001, 2162.6348961960002, 2162.6961916780001, 2162.7166235049999, 2162.7370552319999, 2162.757487158, 2162.7779189829998, 2162.7983508080001, 2162.818782633, 2162.8392144579998, 2162.8596462820001, 2162.8800781059999, 2162.9005099289998, 2162.9209417520001, 2162.941373574, 2162.9618053969998, 2162.9822372180001, 2163.0435327820001, 2163.0639645020001, 2163.084396322, 2163.1048282410002, 2163.1252599600002, 2163.1865554149999, 2163.2069872329998, 2163.2274191500001, 2163.2478508670001, 2163.268282684, 2163.2887145999998, 2163.3091463149999, 2163.3295781309998, 2163.3500100460001, 2163.37044186, 2163.3908735750001, 2163.4113054879999, 2163.4317373019999, 2163.452169015, 2163.4726009279998, 2163.4930327400002, 2163.5134644519999, 2163.5338963630002, 2163.5543281750001, 2163.574760085, 2163.5951917960001, 2163.6156236060001, 2163.6973508420001, 2163.7177826510001, 2163.7382144580001, 2163.7995098790002, 2163.8199416860002, 2163.8403734919998, 2163.8608052969998, 2163.8812372020002, 2163.922100712, 2163.9425326159999, 2163.9629643200001, 2163.9833961230001, 2164.0038280260001, 2164.0242597279998, 2164.0446915309999, 2164.0651234329998, 2164.0855551340001, 2164.1059869350001, 2164.1264188360001, 2164.1468505359999, 2164.1672824359998, 2164.1877142359999, 2164.208146035, 2164.2285778340001, 2164.2490096319998, 2164.2694414309999, 2164.2898733279999, 2164.3103050260002, 2164.3307368229998, 2164.3511687199998, 2164.4124640069999, 2164.4328958030001, 2164.4533275980002, 2164.4737593919999, 2164.4941911860001, 2164.5146228799999, 2164.535054773, 2164.5554865660001, 2164.5759183589998, 2164.596350151, 2164.6167819430002, 2164.6372137349999, 2164.6576455260001, 2164.6780773169999, 2164.6985092069999, 2164.7189409970001, 2164.739372687, 2164.7598045760001, 2164.7802363649998, 2164.8006680540002, 2164.8210999419998, 2164.84153173, 2164.861963418, 2164.9028270919998, 2164.9232587780002, 2164.9436906639999, 2164.9641224500001, 2164.984554136, 2165.0049860200002, 2165.025417805, 2165.0458495890002, 2165.066281373, 2165.0867131569998, 2165.1071449400001, 2165.1275767229999, 2165.1480085060002, 2165.1684402880001, 2165.1888721690002, 2165.2093038510002, 2165.2297357319999, 2165.2501674129999, 2165.2705991930002, 2165.2910310729999, 2165.3114627529999, 2165.3318945320002, 2165.3931898679998, 2165.413621745, 2165.434053423, 2165.4544851999999, 2165.4749170770001, 2165.4953487530001, 2165.515780529, 2165.5362124049998, 2165.5566441810001, 2165.5770758560002, 2165.59750773, 2165.6383711789999, 2165.6588030520002, 2165.6792348250001, 2165.6996664980002, 2165.7200983709999, 2165.7405301429999, 2165.7609620150001, 2165.7813936859998, 2165.8018254570002, 2165.822257328, 2165.8426889990001, 2165.9857113819999, 2166.0061431489999, 2166.0265749169998, 2166.0470066829998, 2166.0878702159998, 2166.1287338480001, 2166.1491655129998, 2166.1695972779999, 2166.1900291420002, 2166.2104608059999, 2166.2308925699999, 2166.2513244339998, 2166.271756096, 2166.2921879589999, 2166.3126197219999, 2166.3330513840001, 2166.3739150070001, 2166.3943467680001, 2166.4147785280002, 2166.4352102890002, 2166.4556420489998, 2166.4760738079999, 2166.5169373260001, 2166.537369185, 2166.5578008430002, 2166.5782326009999, 2166.5986644589998, 2166.619096116, 2166.6395278730001, 2166.6599596299998, 2166.6803913859999, 2166.700823141, 2166.7212548970001, 2166.7416866520002, 2166.7621184069999, 2166.782550161, 2166.8029819160001, 2166.8234137690001, 2166.8642771760001, 2166.8847090290001, 2166.9051407809998, 2166.9255724330001, 2166.9460042850001, 2166.9664360359998, 2166.9868676870001, 2167.0072995380001, 2167.0277312889998, 2167.0481629390001, 2167.0685947880002, 2167.1094581870002, 2167.1298900359998, 2167.150321784, 2167.1707534319999, 2167.2116170270001, 2167.2320487739998, 2167.2524805210001, 2167.293344013, 2167.3137757589998, 2167.3546393490001, 2167.375070994, 2167.3955027379998, 2167.4159345819999, 2167.4363662259998, 2167.456797969, 2167.4772298120001, 2167.4976614550001, 2167.5180931969999, 2167.538525039, 2167.5589566809999, 2167.5998202629999, 2167.6406836440001, 2167.6611154840002, 2167.6815471240002, 2167.701978863, 2167.7224107020002, 2167.742842441, 2167.763274079, 2167.7837059170001, 2167.804137655, 2167.8450011290001, 2167.865432866, 2167.8858647020002, 2167.9062963380002, 2167.926728074, 2167.9471599090002, 2167.9675915439998, 2167.9880232790001, 2168.0084551129999, 2168.0493184809998, 2168.090181948, 2168.1106136799999, 2168.1310454129998, 2168.1514771450002, 2168.192340608, 2168.2127723389999, 2168.2536359010001, 2168.2740675310001, 2168.2944992610001, 2168.3353629190001, 2168.355794648, 2168.3762264769998, 2168.3966582050002, 2168.417090033, 2168.4375216600001, 2168.4579533880001, 2168.4783852149999, 2168.498816841, 2168.519248567, 2168.5396803929998, 2168.6009755690002, 2168.6418389179998, 2168.6622707420001, 2168.7235659120001, 2168.7439976350001, 2168.7644292579998, 2168.7848610790002, 2168.8665878649999, 2168.887019585, 2168.9074514049998, 2168.927883025, 2168.9483148449999, 2168.968746564, 2168.9891781830001, 2169.009610002, 2169.0300417200001, 2169.0709051550002, 2169.0913368729998, 2169.1117685899999, 2169.132200306, 2169.152632023, 2169.1730637390001, 2169.2139271699998, 2169.2343588849999, 2169.2547906999998, 2169.3160858430001, 2169.3365174559999, 2169.35694917, 2169.377380983, 2169.3978125949998, 2169.4182444070002, 2169.4386761189999, 2169.459107831, 2169.4795395420001, 2169.4999711529999, 2169.5204029639999, 2169.5612663850002, 2169.581697995, 2169.602129804, 2169.6225615130002, 2169.642993122, 2169.663424931, 2169.6838566390002, 2169.704288247, 2169.724720055, 2169.7451517620002, 2169.7655833690001, 2169.8064468819998, 2169.8268784890001, 2169.8473102940002, 2169.8677419999999, 2169.888173805, 2169.9086054099998, 2169.929037114, 2169.9494689190001, 2169.969900523, 2169.9903322260002, 2170.0107640299998, 2170.0516273359999, 2170.072059138, 2170.0924908400002, 2170.1129224420001, 2170.1333542440002, 2170.153785945, 2170.1742175459999, 2170.194649346, 2170.2150810469998, 2170.2355126470002, 2170.2559444459998, 2170.296807745, 2170.3172395440001, 2170.3376711420001, 2170.3581028399999, 2170.378534638, 2170.3989663359998, 2170.4193980330001, 2170.4602614270002, 2170.480693123, 2170.5011248189999, 2170.5215565150002, 2170.5419883109998, 2170.5624199059998, 2170.5828516010001, 2170.6032833949998, 2170.6237149899998, 2170.6441466840001, 2170.6645784769998, 2170.6850100709999, 2170.7054417640002, 2170.7258735569999, 2170.7463051489999, 2170.787168633, 2170.807600225, 2170.8280319159999, 2170.8688953979999, 2170.8893270889998, 2170.9097587790002, 2170.9301904690001, 2170.950622158, 2170.9710538479999, 2170.9914854359999, 2171.0527805020001, 2171.0732122889999, 2171.0936439769998, 2171.1140755639999, 2171.1345073510001, 2171.1549390380001, 2171.1753706240002, 2171.1958024099999, 2171.2162340959999, 2171.2366657809998, 2171.2775291510002, 2171.2979608360001, 2171.3183925200001, 2171.338824204, 2171.3592559879999, 2171.3796876709998, 2171.4001192539999, 2171.4205510370002, 2171.4409827200002, 2171.4614143019999, 2171.4818460840002, 2171.5227093469998, 2171.5431411280001, 2171.5840043899998, 2171.6044361700001, 2171.6452994299998, 2171.6861628880001, 2171.7065944669998, 2171.7270262460002, 2171.7474579240002, 2171.7678895019999, 2171.7883212789998, 2171.8087529569998, 2171.8291846339998, 2171.8496163109999, 2171.8700479869999, 2171.8904796639999, 2171.910911339, 2171.931343015, 2171.9517747909999, 2171.9722063660001, 2172.0130698150001, 2172.0335013889999, 2172.0539330629999, 2172.0743648369998, 2172.0947964110001, 2172.1152280840001, 2172.1356598570001, 2172.1560914289998, 2172.1765231019999, 2172.1969548739999, 2172.217386545, 2172.2786815589998, 2172.2991132299999, 2172.3195449, 2172.3399765700001, 2172.3604082400002, 2172.3808399089999, 2172.401271579, 2172.4217032470001, 2172.4421349160002, 2172.4625665849999, 2172.5034299210001, 2172.5442932559999, 2172.5647249230001, 2172.5851565889998, 2172.6055882559999, 2172.6260199220001, 2172.6668832539999, 2172.6873149190001, 2172.7486099140001, 2172.7690416780001, 2172.7894733419998, 2172.8099049050002, 2172.8303366690002, 2172.8507683319999, 2172.8711998949998, 2172.91206332, 2172.9324948819999, 2172.9529266439999, 2172.993789867, 2173.0142216280001, 2173.0346532889998, 2173.055084949, 2173.0755166089998, 2173.095948269, 2173.1163799289998, 2173.136811588, 2173.1572432480002, 2173.177674906, 2173.2389699810001, 2173.259401539, 2173.2798331969998, 2173.3002649539999, 2173.3411281680001, 2173.3615599240002, 2173.3819914800001, 2173.4024231359999, 2173.443286447, 2173.4841498569999, 2173.5045814119999, 2173.5250130660002, 2173.5454448199998, 2173.5658763739998, 2173.5863081279999, 2173.6067397810002, 2173.627171434, 2173.6476030869999, 2173.6680347390002, 2173.688466391, 2173.7293296950002, 2173.749761347, 2173.7701930980002, 2173.7906246490002, 2173.811056299, 2173.8314880500002, 2173.8519196000002, 2173.8723512500001, 2173.8927828989999, 2173.9132145489998, 2173.9336460979998, 2173.954077847, 2173.9745094949999, 2173.9949412430001, 2174.0153727920001, 2174.035804439, 2174.0562361870002, 2174.0766678340001, 2174.0970993810001, 2174.1175311279999, 2174.1379627749998, 2174.1583943209998, 2174.178826067, 2174.2401210029998, 2174.2605526480002, 2174.2809841930002, 2174.301415937, 2174.3218475809999, 2174.342279125, 2174.3627108689998, 2174.3831425130002, 2174.4035740559998, 2174.424005799, 2174.4648691839998, 2174.4853007259999, 2174.5057323679998, 2174.5261640099998, 2174.546595751, 2174.5670272920001, 2174.5874589330001, 2174.6078905740001, 2174.628322214, 2174.6487539539999, 2174.669185494, 2174.6896171339999, 2174.7100488729998, 2174.7304804129999, 2174.7509120509999, 2174.7713437900002, 2174.7917753289998, 2174.8122069669998, 2174.8326387050001, 2174.8530702419998, 2174.8735019800001, 2174.8939336170001, 2174.9143652540001, 2174.9552285270001, 2174.9756601630002, 2174.9960917990002, 2175.0165234350002, 2175.0369550700002, 2175.0573868050001, 2175.0982499749998, 2175.1186817090002, 2175.1391132439999, 2175.200408145, 2175.220839778, 2175.2412715109999, 2175.2617030440001, 2175.282134776, 2175.3025664080001, 2175.3229979399998, 2175.3434296720002, 2175.3638612039999, 2175.4047245659999, 2175.4660194580001, 2175.4864510880002, 2175.506882618, 2175.5273143469999, 2175.547745976, 2175.5681775060002, 2175.5886092350001, 2175.6090408629998, 2175.629472392, 2175.64990412, 2175.6703357480001, 2175.690767475, 2175.7111990029998, 2175.7316306299999, 2175.7520623569999, 2175.7724938840001, 2175.7929255099998, 2175.8133572359998, 2175.833788762, 2175.8542203880002, 2175.8746521140001, 2175.8950837389998, 2175.9155152640001, 2175.9359469890001, 2175.9563786130002, 2175.976810138, 2175.997241862, 2176.0176733859998, 2176.058536733, 2176.0789683560001, 2176.119831602, 2176.1402631239998, 2176.181126468, 2176.2015579899999, 2176.2219897119999, 2176.242421333, 2176.2628528539999, 2176.2832845749999, 2176.3037161960001, 2176.344579436, 2176.3650110560002, 2176.3854426759999, 2176.4263059149998, 2176.446737534, 2176.4671692530001, 2176.487600771, 2176.50803249, 2176.5284641080002, 2176.5488956260001, 2176.5693273430002, 2176.5897589609999, 2176.6101904779998, 2176.6306221949999, 2176.6919170440001, 2176.7123486609999, 2176.7532118919999, 2176.7736434069998, 2176.794075022, 2176.8145067380001, 2176.8349383519999, 2176.8553698669998, 2176.8758015809999, 2176.8962331950001, 2176.9166648089999, 2176.9370964220002, 2176.957528036, 2176.9779597490001, 2176.998391262, 2177.039254587, 2177.0596860989999, 2177.0801177110002, 2177.1005494229998, 2177.1209809349998, 2177.1618442570002, 2177.1822757680002, 2177.202707379, 2177.2231390890001, 2177.2435706000001, 2177.2844339190001, 2177.3048655289999, 2177.3252971380002, 2177.3457287470001, 2177.3661603569999, 2177.4274551819999, 2177.4478868900001, 2177.4683183980001, 2177.4887500059999, 2177.5091816129998, 2177.5296132200001, 2177.5909080410001, 2177.6113395470002, 2177.6522028590002, 2177.6726344650001, 2177.69306607, 2177.7134976759999, 2177.7339293810001, 2177.7543608860001, 2177.77479249, 2177.8156557990001, 2177.8360873030001, 2177.8565190069999, 2177.8973821139998, 2177.917813817, 2177.9382454199999, 2177.958676923, 2177.9791086250002, 2177.9995402270001, 2178.0199717300002, 2178.040403431, 2178.0608350329999, 2178.0812665349999, 2178.1016982360002, 2178.1221298370001, 2178.142561438, 2178.162993038, 2178.1834246389999, 2178.2038562389998, 2178.2242878390002, 2178.2447194390002, 2178.2651510380001, 2178.2855826380001, 2178.306014237, 2178.3264458359999, 2178.3468774349999, 2178.3673090329999, 2178.3877407320001, 2178.4081722300002, 2178.4286038280002, 2178.449035526, 2178.4694670230001, 2178.4898986210001, 2178.5103303179999, 2178.530761815, 2178.5511935109998, 2178.5716251079998, 2178.5920566039999, 2178.6329198960002, 2178.6533514920002, 2178.6737830880002, 2178.6942146830002, 2178.7146462780001, 2178.7350778730001, 2178.7555094670001, 2178.7759410620001, 2178.796372756, 2178.8168042500001, 2178.8372358440001, 2178.857667538, 2178.8780990320001, 2178.898530725, 2178.9189622180002, 2178.9393938110002, 2178.959825504, 2178.9802569960002, 2179.0211202810001, 2179.0415517729998, 2179.0619833639998, 2179.0824150560002, 2179.1232781379999, 2179.1437098289998, 2179.16414132, 2179.18457291, 2179.2050046009999, 2179.225436191, 2179.2458676810002, 2179.2662993710001, 2179.2867309600001, 2179.3275941390002, 2179.409320494, 2179.4297521819999, 2179.4501836700001, 2179.4706152580002, 2179.4910469450001, 2179.5114784329999, 2179.5319100199999, 2179.5523417069999, 2179.5727731940001, 2179.5932047810002, 2179.6136364670001, 2179.6340679539999, 2179.6544996399998, 2179.6749312259999, 2179.6953627110001, 2179.7157943970001, 2179.7362259820002, 2179.756657468, 2179.7770891519999, 2179.797520737, 2179.8383839060002, 2179.8588154909999, 2179.8792469750001, 2179.8996786580001, 2179.9201102420002, 2179.940541726, 2179.960973409, 2179.9814049920001, 2180.001836675, 2180.0222681579999, 2180.04269974, 2180.1039944869999, 2180.1244261689999, 2180.14485775, 2180.1652892319999, 2180.1857209129998, 2180.206152494, 2180.2265839749998, 2180.2470156559998, 2180.267447236, 2180.2878787169998, 2180.3083103969998, 2180.3491734569998, 2180.3696051359998, 2180.3900366160001, 2180.4104682950001, 2180.4308998739998, 2180.4513313530001, 2180.4717630320001, 2180.4921946099998, 2180.512626189, 2180.5330577670002, 2180.5534893449999, 2180.5739209230001, 2180.614784078, 2180.6352156550001, 2180.6556473320002, 2180.676078809, 2180.6965103860002, 2180.7169420629998, 2180.7373735390001, 2180.7578052150002, 2180.7782367909999, 2180.7986682669998, 2180.839531519, 2180.8599629939999, 2180.880394669, 2180.9008262440002, 2180.9212577190001, 2180.9416893940002, 2180.9621209689999, 2180.9825525430001, 2181.0029841169999, 2181.0234156910001, 2181.0438472649998, 2181.0642788380001, 2181.0847104119998, 2181.105141985, 2181.1255735579998, 2181.146005131, 2181.1664367039998, 2181.186868277, 2181.2072998489998, 2181.2277315209999, 2181.2481629929998, 2181.2685945650001, 2181.2890262370001, 2181.3298892799999, 2181.3503209519999, 2181.3707524219999, 2181.3911839940001, 2181.4116156639998, 2181.4320471350002, 2181.452478705, 2181.4729103750001, 2181.4933419459999, 2181.5137735160001, 2181.5342050849999, 2181.5546366550002, 2181.575068224, 2181.5954997939998, 2181.6159313630001, 2181.6363629319999, 2181.6567945000002, 2181.677226069, 2181.7180892060001, 2181.7385207739999, 2181.7589523420002, 2181.8202470450001, 2181.8406786119999, 2181.8611102790001, 2181.881541746, 2181.9019733129999, 2181.922404979, 2181.942836446, 2181.9632680119998, 2181.983699679, 2182.004131145, 2182.0245627099998, 2182.044994376, 2182.0654259419998, 2182.0858574069998, 2182.106289072, 2182.1267206369998, 2182.1471521019998, 2182.167583767, 2182.1880153309999, 2182.208446996, 2182.22887846, 2182.2493100239999, 2182.2697416880001, 2182.2901731520001, 2182.3106047159999, 2182.3310363790001, 2182.3514678420001, 2182.371899406, 2182.3923310690002, 2182.4127625320002, 2182.4331940940001, 2182.453625657, 2182.4740572189999, 2182.4944887810002, 2182.535351905, 2182.5557835670002, 2182.576215129, 2182.5966465900001, 2182.6170782519998, 2182.6375098130002, 2182.6579412740002, 2182.678372935, 2182.6988044949999, 2182.7192359559999, 2182.7396676160001, 2182.760099177, 2182.8009622969998, 2182.8213938570002, 2182.8418253159998, 2182.862256976, 2182.8826885349999, 2182.9031201940002, 2182.9235516529998, 2182.9439832120001, 2182.9644148709999, 2182.98484633, 2183.0052778879999, 2183.0257095470001, 2183.0461411050001, 2183.0665725630001, 2183.0870042209999, 2183.1074357779999, 2183.1278672359999, 2183.1482988940002, 2183.1687303509998, 2183.1891619080002, 2183.209593565, 2183.2300250220001, 2183.2504566789999, 2183.2913196919999, 2183.3117513480001, 2183.3321829040001, 2183.3526143600002, 2183.373046016, 2183.3934775719999, 2183.4139091269999, 2183.4343406829998, 2183.4547722379998, 2183.4752037930002, 2183.4956353480002, 2183.5364984580001, 2183.5569301129999, 2183.577361567, 2183.6182247749998, 2183.6386562299999, 2183.6590878830002, 2183.6795194370002, 2183.6999508909998, 2183.7203825440001, 2183.7408140980001, 2183.7816772040001, 2183.802108757, 2183.8225402100002, 2183.842971862, 2183.883834967, 2183.90426652, 2183.9451296239999, 2183.9655611759999, 2183.9859927269999, 2184.0064242789999, 2184.0472873819999, 2184.0677190329998, 2184.0881504839999, 2184.1085820349999, 2184.1290136859998, 2184.1494451359999, 2184.1698766869999, 2184.1903083369998, 2184.210739787, 2184.231171338, 2184.272034437, 2184.2924660869999, 2184.3128976369999, 2184.333329086, 2184.3537607349999, 2184.3741922849999, 2184.394623834, 2184.415055383, 2184.435486932, 2184.45591848, 2184.4763500290001, 2184.4967815770001, 2184.5172131260001, 2184.537644774, 2184.5580762220002, 2184.5785077700002, 2184.5989394170001, 2184.6193708649998, 2184.6398025130002, 2184.6602339599999, 2184.680665507, 2184.7010971539999, 2184.721528602, 2184.7419601490001, 2184.762391795, 2184.8032547890002, 2184.8441178809999, 2184.8645494269999, 2184.8849810729998, 2184.9258440650001, 2184.946275711, 2184.9667072560001, 2185.0075703470002, 2185.0280018919998, 2185.0484335370002, 2185.089296527, 2185.1301596170001, 2185.1505911610002, 2185.1710228050001, 2185.1914542499999, 2185.211885794, 2185.2527488820001, 2185.2731804250002, 2185.2936120690001, 2185.3140435119999, 2185.3344751559998, 2185.3549065990001, 2185.375338242, 2185.3957697850001, 2185.4162013280002, 2185.4366327709999, 2185.4570644139999, 2185.4979273990002, 2185.5183590410002, 2185.5387905839998, 2185.579653668, 2185.6000852100001, 2185.620516851, 2185.6409482929998, 2185.6613798349999, 2185.6818114759999, 2185.7022429180001, 2185.7226744589998, 2185.7431061000002, 2185.763537541, 2185.7839690820001, 2185.8044007220001, 2185.8248321629999, 2185.845263704, 2185.865695344, 2185.8861268850001, 2185.9065583249999, 2185.9269899649998, 2185.947421505, 2185.9678530450001, 2185.9882845850002, 2186.0087161239999, 2186.029147664, 2186.0700106429999, 2186.0904422819999, 2186.110873821, 2186.1313052599999, 2186.1517368989998, 2186.172168438, 2186.1925998769998, 2186.2130315149998, 2186.2334630539999, 2186.2538945920001, 2186.2743261300002, 2186.2947576689999, 2186.3151893069999, 2186.3356207450001, 2186.3560522829998, 2186.3764839199998, 2186.3969153580001, 2186.4173468959998, 2186.4377785329998, 2186.45821007, 2186.4786415079998, 2186.4990731449998, 2186.5195046819999, 2186.5399361189998, 2186.5603677559998, 2186.5807992919999, 2186.6012309289999, 2186.6216623659998, 2186.6420939019999, 2186.662525538, 2186.6829569749998, 2186.7238200470001, 2186.7442515829998, 2186.764683119, 2186.7851146550001, 2186.8055461899999, 2186.8668407959999, 2186.8872723320001, 2186.9077038669998, 2186.948567037, 2186.9689985720001, 2186.989430007, 2187.009861641, 2187.0302931760002, 2187.0507246100001, 2187.0711562450001, 2187.0915877789998, 2187.1120192130002, 2187.1324508480002, 2187.1528823819999, 2187.1733138149998, 2187.214176983, 2187.2346084169999, 2187.2550400499999, 2187.2754715840001, 2187.2959032170002, 2187.316334651, 2187.3367661840002, 2187.3571978169998, 2187.3776292500002, 2187.3980607829999, 2187.4184924159999, 2187.4389238479998, 2187.459355381, 2187.4797870140001, 2187.500218446, 2187.5206499780002, 2187.5410816110002, 2187.5615130430001, 2187.5819446750002, 2187.6023762069999, 2187.6228076389998, 2187.6432392709999, 2187.6636708030001, 2187.684102234, 2187.704533866, 2187.7249653980002, 2187.7453968290001, 2187.7658284600002, 2187.7862599919999, 2187.8066915230002, 2187.8271230539999, 2187.8475545850001, 2187.8679862160002, 2187.8884176470001, 2187.9088491769999, 2187.9292808079999, 2187.9497123390001, 2187.9701437690001, 2187.9905754000001, 2188.0110069299999, 2188.0314383599998, 2188.0518699899999, 2188.0723015200001, 2188.09273295, 2188.1335961099999, 2188.1540275399998, 2188.1744591699999, 2188.1948905989998, 2188.2153222289999, 2188.2357537580001, 2188.256185188, 2188.2766168170001, 2188.2970483459999, 2188.3174798750001, 2188.3379114039999, 2188.3583429330001, 2188.3787744619999, 2188.4196375199999, 2188.4400690480002, 2188.5013637339998, 2188.5217952620001, 2188.542226691, 2188.5626583190001, 2188.5830898469999, 2188.6035212749998, 2188.6239529029999, 2188.6443844310002, 2188.6648158590001, 2188.6852474870002, 2188.705679014, 2188.7261104419999, 2188.74654207, 2188.7669735969998, 2188.7874052239999, 2188.8078366519999, 2188.8486997059999, 2188.8691312330002, 2188.88956276, 2188.930425814, 2188.9508573409998, 2188.971288968, 2189.0325835479998, 2189.0530149739998, 2189.0938781270002, 2189.1143095530001, 2189.1347411800002, 2189.1960357580001, 2189.2164672839999, 2189.2368987099999, 2189.257330336, 2189.2777618609998, 2189.2981933870001, 2189.3390564380002, 2189.359487964, 2189.3799194889998, 2189.4003510150001, 2189.4207826400002, 2189.441214165, 2189.46164559, 2189.4820772150001, 2189.5025087399999, 2189.5229401649999, 2189.54337179, 2189.5638033149999, 2189.5842347399998, 2189.604666365, 2189.6250977889999, 2189.6659609389999, 2189.6863923629999, 2189.706823988, 2189.7272555119998, 2189.7476869359998, 2189.7681185609999, 2189.8089816090001, 2189.8294131329999, 2189.8498446570002, 2189.870276181, 2189.8907077049998, 2189.9111392290001, 2189.931570753, 2189.9520023760001, 2189.9724338000001, 2189.9928654239998, 2190.0132969470001, 2190.0337283710001, 2190.0541599940002, 2190.074591518, 2190.1154545640002, 2190.135886088, 2190.156317511, 2190.1767491340001, 2190.197180657, 2190.21761208, 2190.2380437030001, 2190.2584751260001, 2190.2993382720001, 2190.3197696940001, 2190.3402013169998, 2190.3606328400001, 2190.381064362, 2190.4014958849998, 2190.4219274070001, 2190.44235893, 2190.4627904519998, 2190.4832219750001, 2190.503653497, 2190.5240851190001, 2190.5445165420001, 2190.5649481639998, 2190.5853796860001, 2190.6466742520001, 2190.6671056740001, 2190.6875372959998, 2190.7079688180002, 2190.7284002390002, 2190.7488318609999, 2190.7692633830002, 2190.789694904, 2190.8101264259999, 2190.8509895689999, 2190.8714209909999, 2190.8918525119998, 2190.912284133, 2190.932715555, 2190.9531470759998, 2190.973578697, 2190.994010119, 2191.0144416399999, 2191.034873261, 2191.055304682, 2191.0757362029999, 2191.0961678240001, 2191.1370308659998, 2191.1574623870001, 2191.1778938070001, 2191.1983254279999, 2191.2187569490002, 2191.2596199899999, 2191.2800515109998, 2191.3004829319998, 2191.320914552, 2191.3413460729998, 2191.3617775930002, 2191.382209114, 2191.4026406339999, 2191.4230722540001, 2191.443503775, 2191.463935195, 2191.4843668150002, 2191.504798336, 2191.525229756, 2191.5456613760002, 2191.5660928960001, 2191.6273873559999, 2191.6478188760002, 2191.6682504959999, 2191.7091135360001, 2191.729545056, 2191.7704080950002, 2191.8112710350001, 2191.8317026539999, 2191.8521341740002, 2191.8725656940001, 2191.9134287329998, 2191.933860352, 2191.954291772, 2191.9747232909999, 2191.9951549110001, 2192.01558643, 2192.03601785, 2192.0564494690002, 2192.0768809880001, 2192.1177440269998, 2192.1381755460002, 2192.1586069650002, 2192.179038584, 2192.1994701039998, 2192.219901723, 2192.2403331420001, 2192.2607646609999, 2192.2811962800001, 2192.3016276990002, 2192.322059218, 2192.3424908369998, 2192.3629222559998, 2192.3833537750002, 2192.403785294, 2192.4242168129999, 2192.4446483319998, 2192.4650798500002, 2192.4855113690001, 2192.5059429879998, 2192.5263745070001, 2192.5468059250002, 2192.5672375439999, 2192.6081004819998, 2192.6285321, 2192.6489636189999, 2192.6898266560002, 2192.7306897929998, 2192.7511212119998, 2192.7715527300002, 2192.7919843489999, 2192.8124157669999, 2192.853278904, 2192.8737103220001, 2192.894141841, 2192.9145734590002, 2192.9350048780002, 2192.9554363960001, 2192.9758680139998, 2192.9962994329999, 2193.0167310510001, 2193.037162569, 2193.0575940879999, 2193.0984571240001, 2193.1188885420001, 2193.1597516789998, 2193.1801830969998, 2193.200614715, 2193.2210462329999, 2193.2414778510001, 2193.2619092690002, 2193.2823407880001, 2193.3027724059998, 2193.3436353420002, 2193.3640669599999, 2193.384498378, 2193.4049298959999, 2193.4253615140001, 2193.4457929320001, 2193.46622445, 2193.4866560679998, 2193.5070875860001, 2193.527519104, 2193.5479506219999, 2193.5888136580002, 2193.6092451760001, 2193.629676694, 2193.6501083120002, 2193.6705397300002, 2193.6909712480001, 2193.7114028659998, 2193.7318342839999, 2193.7522658019998, 2193.7726973190001, 2193.793128837, 2193.8339918729998, 2193.8544233910002, 2193.8748550089999, 2193.895286427, 2193.9157179449999, 2193.9361495620001, 2193.9565809800001, 2193.9974441160002, 2194.0178755339998, 2194.038307152, 2194.0791701869998, 2194.0996017050002, 2194.1200332230001, 2194.140464741, 2194.1608963590002, 2194.1813277770002, 2194.2017592940001, 2194.2221909119999, 2194.2426223299999, 2194.2630538479998, 2194.283485466, 2194.303916884, 2194.3243485019998, 2194.3447800190002, 2194.3652114370002, 2194.3856430549999, 2194.406074473, 2194.4265059909999, 2194.4469376090001, 2194.4673690270001, 2194.5082321619998, 2194.5286636800001, 2194.5695267159999, 2194.5899582339998, 2194.6103897520002, 2194.6308212700001, 2194.651252788, 2194.6716844050002, 2194.6921158230002, 2194.7125473410001, 2194.7329789589999, 2194.7534103769999, 2194.8147049310001, 2194.8351365489998, 2194.8555680670001, 2194.8759994850002, 2194.8964311029999, 2194.9372940389999, 2194.9577256570001, 2194.978157175, 2194.9985886929999, 2195.0190202110002, 2195.0803147649999, 2195.1007462839998, 2195.1211778020001, 2195.14160932, 2195.1620408379999, 2195.1824723559998, 2195.2029038740002, 2195.2437670109998, 2195.2641984289999, 2195.2846300470001, 2195.305061565, 2195.325492984, 2195.3459246020002, 2195.3663561200001, 2195.3867875380001, 2195.4072191569999, 2195.4276506750002, 2195.4480820929998, 2195.468513712, 2195.4889452299999, 2195.5093768490001, 2195.550239785, 2195.5706714040002, 2195.5911028219998, 2195.6115343410002, 2195.6319659589999, 2195.6523973779999, 2195.6728288959998, 2195.693260515, 2195.7136920339999, 2195.7341235519998, 2195.7545550710001, 2195.7954181079999, 2195.8158496269998, 2195.8362810459998, 2195.856712664, 2195.8771441829999, 2195.897575602, 2195.9180072210002, 2195.938438739, 2195.9588703579998, 2195.9793017769998, 2195.9997332960002, 2196.0405963339999, 2196.0610278529998, 2196.081459472, 2196.101890891, 2196.1223224099999, 2196.1427540290001, 2196.1631854480001, 2196.183616967, 2196.2040485860002, 2196.2244801060001, 2196.244911625, 2196.2857746630002, 2196.3062061830001, 2196.326637702, 2196.3470692209999, 2196.367500841, 2196.3879322600001, 2196.408363779, 2196.4287952989998, 2196.4492268180002, 2196.4696584379999, 2196.4900898569999, 2196.530952997, 2196.551384416, 2196.5922475560001, 2196.6126789750001, 2196.633110495, 2196.6535421150002, 2196.6739735350002, 2196.6944051549999, 2196.7148366749998, 2196.7352681950001, 2196.7761312349999, 2196.8169942750001, 2196.8374257949999, 2196.8578573149998, 2196.878288935, 2196.898720355, 2196.9191519760002, 2196.9395834960001, 2196.9600149160001, 2196.9804465369998, 2197.0213094770002, 2197.0417410979999, 2197.0621726180002, 2197.0826040390002, 2197.1030356599999, 2197.1234671799998, 2197.143898801, 2197.164330222, 2197.184761642, 2197.2051932630002, 2197.225624784, 2197.2664878259998, 2197.2869193470001, 2197.307350868, 2197.3277823889998, 2197.3482139100001, 2197.3890770520002, 2197.4095084730002, 2197.4299400949999, 2197.4503716160002, 2197.4708030370002, 2197.593392367, 2197.613823788, 2197.6342553099998, 2197.654686932, 2197.675118353, 2197.6955498749999, 2197.715981497, 2197.7568444409999, 2197.777276063, 2197.797707485, 2197.8181391070002, 2197.8385705290002, 2197.8590021519999, 2197.8794336740002, 2197.8998650960002, 2197.9202966190001, 2197.9407282410002, 2198.0020228090002, 2198.0224543310001, 2198.0428858539999, 2198.0633173770002, 2198.0837488990001, 2198.1041805220002, 2198.1246119450002, 2198.145043468, 2198.1859065140002, 2198.206338037, 2198.2472010830002, 2198.2676327069998, 2198.2880642300001, 2198.3084956530001, 2198.3289272769998, 2198.3493588000001, 2198.369790324, 2198.3902218469998, 2198.4106533710001, 2198.4310848949999, 2198.4515164190002, 2198.4923794659999, 2198.5128109900002, 2198.533242514, 2198.5536740379998, 2198.5741055620001, 2198.5945370859999, 2198.6149687110001, 2198.6354001350001, 2198.6558316589999, 2198.676263284, 2198.696694708, 2198.737557857, 2198.7579892819999, 2198.7784209070001, 2198.7988524309999, 2198.8192838559999, 2198.839715481, 2198.8601470059998, 2198.8805784309998, 2198.9010100559999, 2198.9214415810002, 2198.9418732059999, 2199.0031677820002, 2199.023599308, 2199.044030733, 2199.0644623590001, 2199.0848938849999, 2199.1053254100002, 2199.125756936, 2199.1461884619998, 2199.1666199880001, 2199.1870515139999, 2199.227914566, 2199.2483460919998, 2199.2687775190002, 2199.2892091449999, 2199.3096406710001, 2199.3300722979998, 2199.3505037240002, 2199.3913668770001, 2199.4117983040001, 2199.4322298309999, 2199.4730928849999, 2199.4935244120002, 2199.5139560389998, 2199.5343874660002, 2199.5548190929999, 2199.5752506210001, 2199.5956821479999, 2199.6161136750002, 2199.636545203, 2199.6569767310002, 2199.677408258, 2199.718271314, 2199.7387029420001, 2199.7591343700001, 2199.7795659980002, 2199.799997526, 2199.8204289539999, 2199.840860582, 2199.8612920109999, 2199.8817235390002, 2199.9021551669998, 2199.9225865960002, 2199.9634497530001, 2199.983881182, 2200.0043128110001, 2200.0451757689998, 2200.0656073979999, 2200.0860389270001, 2200.1064704569999, 2200.1269019860001, 2200.1473335149999, 2200.167765145, 2200.2086281040001, 2200.2290597340002, 2200.249491264, 2200.2699226939999, 2200.290354324, 2200.3107858540002, 2200.3312172840001, 2200.3516489140002, 2200.3720804439999, 2200.392512075, 2200.4129435049999, 2200.4538066670002, 2200.4742380970001, 2200.4946696279999, 2200.5151011590001, 2200.5355326899999, 2200.5559642210001, 2200.5763957519998, 2200.596827284, 2200.6172589150001, 2200.637690346, 2200.6989849410002, 2200.7194164729999, 2200.739848105, 2200.7602795369999, 2200.7807110690001, 2200.8011427010001, 2200.8420057650001, 2200.88286883, 2200.9033004630001, 2200.9441634280001, 2200.9645950610002, 2200.9850264940001, 2201.0054581270001, 2201.0258896599998, 2201.0463210930002, 2201.0667527259998, 2201.08718426, 2201.1076156929998, 2201.1280473269999, 2201.1484788600001, 2201.189341928, 2201.2097734620002, 2201.2302049959999, 2201.2506365300001, 2201.2710680639998, 2201.291499599, 2201.3119311330001, 2201.3323626679999, 2201.352794202, 2201.3732257370002, 2201.3936572719999, 2201.4345203419998, 2201.4549519769998, 2201.475383512, 2201.4958149469999, 2201.5162465829999, 2201.5571095539999, 2201.5775411889999, 2201.5979727250001, 2201.6184041609999, 2201.638835797, 2201.6592673330001, 2201.6796989690001, 2201.700130405, 2201.7205619420001, 2201.7409935780001, 2201.761425015, 2201.7818565520001, 2201.8022881880001, 2201.822719625, 2201.843151262, 2201.8635827990001, 2201.884014237, 2201.9248773109998, 2201.945308849, 2201.965740486, 2201.9861720240001, 2202.0066034619999, 2202.0270350999999, 2202.0474666380001, 2202.0678981760002, 2202.0883297139999, 2202.108761252, 2202.129192891, 2202.170055868, 2202.1904875069999, 2202.2109189460002, 2202.2313504849999, 2202.2517821239999, 2202.2722135630002, 2202.2926452020001, 2202.3130767419998, 2202.3335081810001, 2202.353939821, 2202.3743713610002, 2202.4152344399999, 2202.4356659810001, 2202.4765290609998, 2202.496960601, 2202.5173921420001, 2202.5378236830002, 2202.5582552229998, 2202.5786867639999, 2202.599118305, 2202.6195498460002, 2202.6604129289999, 2202.6808445699999, 2202.7217075530002, 2202.7421391950002, 2202.7625707369998, 2202.7830021790001, 2202.803433821, 2202.8238653630001, 2202.8442968059999, 2202.8647284479998, 2202.9260230760001, 2202.9464546190002, 2202.9668862620001, 2202.9873177049999, 2203.007749248, 2203.0281808919999, 2203.0486123350001, 2203.0690439790001, 2203.0894755230001, 2203.1099070659998, 2203.1507701549999, 2203.171201699, 2203.1916332430001, 2203.2120647880001, 2203.2324963320002, 2203.2529278769998, 2203.2733594219999, 2203.2937910669998, 2203.314222512, 2203.3346540570001, 2203.355085702, 2203.3959486929998, 2203.4163803390002, 2203.4368117849999, 2203.457243331, 2203.4776749769999, 2203.4981064230001, 2203.538969616, 2203.5594010619998, 2203.5798327090001, 2203.6002642560002, 2203.6411273499998, 2203.6615588969998, 2203.7024219919999, 2203.722853539, 2203.7432851869999, 2203.7637167349999, 2203.7841481830001, 2203.804579831, 2203.825011379, 2203.8454428270002, 2203.8863060240001, 2203.9067375730001, 2203.9271691220001, 2203.9476005709998, 2203.9680322200002, 2203.9884637690002, 2204.0088952179999, 2204.0293268680002, 2204.0497584179998, 2204.070189867, 2204.0906215169998, 2204.1314847170001, 2204.1519161679998, 2204.1723477179999, 2204.2336423699999, 2204.2540740210002, 2204.2949371240002, 2204.3153686750002, 2204.3358002270002, 2204.3766633300002, 2204.3970948820001, 2204.4175264340001, 2204.4379579860001, 2204.4583895380001, 2204.478821191, 2204.4992526430001, 2204.5196842959999, 2204.5401157490001, 2204.560547302, 2204.5809789549999, 2204.6422736159998, 2204.6627050689999, 2204.6831367230002, 2204.7239997309998, 2204.7444313860001, 2204.7648629400001, 2204.7852943950002, 2204.805726049, 2204.8261576039999, 2204.8670207139999, 2204.8874522689998, 2204.9078839250001, 2204.92831548, 2204.9487469360001, 2204.9691785919999, 2204.9896101479999, 2205.010041604, 2205.0304732599998, 2205.0509048170002, 2205.0713362729998, 2205.112199487, 2205.1326311439998, 2205.1530626009999, 2205.1734941589998, 2205.1939257160002, 2205.2143572740001, 2205.2347888310001, 2205.255220389, 2205.2756519469999, 2205.2960836050001, 2205.3165150640002, 2205.3573782809999, 2205.37780974, 2205.3982412989999, 2205.4186729580001, 2205.4391044170002, 2205.4799676359999, 2205.5003991960002, 2205.5208307550001, 2205.541262315, 2205.5616938759999, 2205.6025569960002, 2205.6229885570001, 2205.6434202179998, 2205.6638516789999, 2205.6842832399998, 2205.704714901, 2205.725146362, 2205.7455780240002, 2205.7660095850001, 2205.7864410470002, 2205.8068727089999, 2205.8477357339998, 2205.868167396, 2205.8885989589999, 2205.9090305210002, 2205.9294620840001, 2205.9498935470001, 2205.9703252109998, 2205.9907567740001, 2206.011188338, 2206.0316199009999, 2206.0520514650002, 2206.1133461579998, 2206.133777822, 2206.1542093869998, 2206.1746408519998, 2206.195072517, 2206.2155040819998, 2206.2359355469998, 2206.256367213, 2206.2767987779998, 2206.3380934759998, 2206.358525142, 2206.3789566089999, 2206.4402513089999, 2206.4606828760002, 2206.4811145439999, 2206.5015460109998, 2206.521977679, 2206.5424092459998, 2206.5832723819999, 2206.6037038509999, 2206.6241354190001, 2206.6445670879998, 2206.685430125, 2206.7058617940002, 2206.726293364, 2206.7467249330002, 2206.767156503, 2206.7875880719998, 2206.8284512119999, 2206.8488827830001, 2206.8693144529998, 2206.8897459240002, 2206.9101775939998, 2206.9306091650001, 2206.951040636, 2206.9714723080001, 2207.0123353509998, 2207.0327670219999, 2207.0736300670001, 2207.0940617390002, 2207.1144933109999, 2207.134924984, 2207.1553564569999, 2207.1757880300001, 2207.1962197030002, 2207.2166511760001, 2207.2370827499999, 2207.2575143240001, 2207.2779459970002, 2207.3596722950001, 2207.3801038689999, 2207.4005353440002, 2207.4209670189998, 2207.441398595, 2207.4618300699999, 2207.4822617459999, 2207.5026933220001, 2207.5231249980002, 2207.5639880499998, 2207.5844197269998, 2207.6048512030002, 2207.6252827799999, 2207.6457144569999, 2207.6661459339998, 2207.686577512, 2207.7274406669999, 2207.7478723449999, 2207.80916708, 2207.8295986590001, 2207.8500302379998, 2207.870461817, 2207.8908933960001, 2207.9113249749998, 2207.931756555, 2207.9521881350001, 2207.9726197149998, 2207.993051295, 2208.0134828750001, 2208.054346036, 2208.0747776170001, 2208.0952092980001, 2208.1156407799999, 2208.1360724609999, 2208.156504043, 2208.1973672059999, 2208.217798789, 2208.2382302709998, 2208.2586619540002, 2208.2995250190002, 2208.3199567020001, 2208.3403882859998, 2208.3608199690002, 2208.381251453, 2208.4016830370001, 2208.4221147210001, 2208.4425462049999, 2208.46297779, 2208.4834094739999, 2208.503841059, 2208.5447042290002, 2208.5651358149998, 2208.5855673999999, 2208.605998986, 2208.6264304719998, 2208.6672937449998, 2208.6877252310001, 2208.708156918, 2208.7285885050001, 2208.749020192, 2208.7898832669998, 2208.8103149550002, 2208.830746443, 2208.851178031, 2208.8716097189999, 2208.8920412070001, 2208.9124728960001, 2208.9329044850001, 2208.9533359739999, 2208.9737676630002, 2209.0350624329999, 2209.0554940229999, 2209.075925613, 2209.096357203, 2209.1167887940001, 2209.1372204849999, 2209.157652076, 2209.1780835670002, 2209.198515259, 2209.2189468500001, 2209.2393783419998, 2209.2802415269998, 2209.3006732190001, 2209.3211048120002, 2209.3415363049999, 2209.3619679980002, 2209.3823995910002, 2209.4232627780002, 2209.4436943720002, 2209.4641258659999, 2209.4845575610002, 2209.52542085, 2209.5458523450002, 2209.5662839400002, 2209.586715635, 2209.6071471310001, 2209.6275787260001, 2209.648010422, 2209.6684420189999, 2209.6888736149999, 2209.7093052109999, 2209.7297368079999, 2209.7706000019998, 2209.7910316000002, 2209.811463297, 2209.8318947950002, 2209.8523263930001, 2209.8727579910001, 2209.89318959, 2209.9136212879998, 2209.9340527869999, 2209.9544843859999, 2209.9749160860001, 2210.0157791850002, 2210.0362108849999, 2210.056642385, 2210.0770740849998, 2210.0975056860002, 2210.1179371859998, 2210.1383688870001, 2210.158800488, 2210.1792320899999, 2210.1996636909998, 2210.2200952930002, 2210.260958498, 2210.2813901, 2210.3018218030002, 2210.3222533060002, 2210.3426849090001, 2210.3631166119999, 2210.3835482149998, 2210.4039797189998, 2210.424411423, 2210.4448430269999, 2210.4652747320001, 2210.4857062360002, 2210.5061378410001, 2210.5265694459999, 2210.5470010509998, 2210.5674326570002, 2210.5878643629999, 2210.6082958679999, 2210.6287274749998, 2210.6491590810001, 2210.669590688, 2210.6900223940002, 2210.7104539010002, 2210.7513172160002, 2210.7717487240002, 2210.7921803310001, 2210.8126120400002, 2210.8330436480001, 2210.8534752559999, 2210.8739068650002, 2210.8943384740001, 2210.9352016930002, 2211.016928133, 2211.0577913540001, 2211.0782230650002, 2211.098654676, 2211.119086188, 2211.1395179000001, 2211.1599495109999, 2211.1803810239999, 2211.200812736, 2211.2416759610001, 2211.2825390879998, 2211.3029708009999, 2211.3234024150001, 2211.3438339290001, 2211.3642656430002, 2211.384697257, 2211.4051288720002, 2211.425560487, 2211.4459921020002, 2211.4868553330002, 2211.507286948, 2211.5277186640001, 2211.5481502799998, 2211.5685817970002, 2211.5890135129998, 2211.60944513, 2211.6298767469998, 2211.650308365, 2211.6707399820002, 2211.6911716999998, 2211.7320348369999, 2211.752466555, 2211.793329693, 2211.8137614120001, 2211.834192932, 2211.8750562710002, 2211.895487792, 2211.9159195120001, 2211.9363510329999, 2211.997645896, 2212.018077618, 2212.0385092390002, 2212.0589408609999, 2212.079372484, 2212.1202357289999, 2212.140667352, 2212.1815305989999, 2212.2019623229999, 2212.2223938470001, 2212.2428255710001, 2212.2632571949998, 2212.2836887200001, 2212.3041204450001, 2212.3245520700002, 2212.344983596, 2212.365415321, 2212.4062786730001, 2212.4267101999999, 2212.4880050800002, 2212.5288684349998, 2212.5492999630001, 2212.5697315910002, 2212.5901632199998, 2212.6105948479999, 2212.6310265769998, 2212.6514581060001, 2212.6718897350001, 2212.7127530950002, 2212.7331846249999, 2212.7536163549998, 2212.7740479849999, 2212.7944795160001, 2212.8149112470001, 2212.8353428780001, 2212.85577461, 2212.8762061419998, 2212.9170695060002, 2212.957932671, 2212.9783644039999, 2212.9987959380001, 2213.019227671, 2213.039659305, 2213.0600908390002, 2213.0805225730001, 2213.1009542080001, 2213.1213857419998, 2213.1418174770001, 2213.1622491130001, 2213.2031123840002, 2213.2235440200002, 2213.2439756560002]\n"
     ]
    }
   ],
   "source": [
    "print(overall_times)"
   ]
  },
  {
   "cell_type": "code",
   "execution_count": 10,
   "metadata": {},
   "outputs": [],
   "source": [
    "single_planet_times = []\n",
    "time_flux_pairs = coords2\n",
    "for list_of_removal_targets in planets_to_remove:\n",
    "    filtered_times_per_class = []\n",
    "    removal_targets = list_of_removal_targets[0] # list_of_removal_targets but without period key\n",
    "    for a_dip_zone in removal_targets:\n",
    "        start_of_transit = a_dip_zone[0]\n",
    "        end_of_transit = a_dip_zone[6]\n",
    "        filtered_times_per_dip_zone = [tuple(coordinate) for coordinate in time_flux_pairs\n",
    "                                       if not start_of_transit <= coordinate[0] <= end_of_transit] #filter for a single dip zone\n",
    "        filtered_times_per_class.append(filtered_times_per_dip_zone)\n",
    "    single_planet_times.append(filtered_times_per_class)"
   ]
  },
  {
   "cell_type": "code",
   "execution_count": 29,
   "metadata": {},
   "outputs": [],
   "source": [
    "for partially_filtered_time_list in single_planet_times:\n",
    "    for index in range(len(partially_filtered_time_list)):\n",
    "        partially_filtered_time_list[index] = tuple(partially_filtered_time_list[index])\n",
    "for index in range(len(single_planet_times)):\n",
    "    single_planet_times[index] = list(set(single_planet_times[index][0]).intersection(*single_planet_times[index]))"
   ]
  },
  {
   "cell_type": "code",
   "execution_count": 32,
   "metadata": {},
   "outputs": [
    {
     "name": "stdout",
     "output_type": "stream",
     "text": [
      "2846\n"
     ]
    }
   ],
   "source": [
    "print(len(single_planet_times[1]))"
   ]
  },
  {
   "cell_type": "code",
   "execution_count": 33,
   "metadata": {},
   "outputs": [
    {
     "data": {
      "text/plain": [
       "13"
      ]
     },
     "execution_count": 33,
     "metadata": {},
     "output_type": "execute_result"
    }
   ],
   "source": [
    "2869 - 2856"
   ]
  },
  {
   "cell_type": "code",
   "execution_count": null,
   "metadata": {},
   "outputs": [],
   "source": [
    "#2856\n",
    "#2846"
   ]
  },
  {
   "cell_type": "code",
   "execution_count": 27,
   "metadata": {},
   "outputs": [
    {
     "name": "stdout",
     "output_type": "stream",
     "text": [
      "[[((5, 6), (2, 3), (9, 2)), ((5, 6), (2, 3), (6, 1))], [((1, 6), (2, 3), (6, 1)), ((1, 6), (4, 5), (6, 1))]]\n",
      "[(2, 3), (5, 6)]\n",
      "[(1, 6), (6, 1)]\n"
     ]
    }
   ],
   "source": [
    "ll = [[[(5,6), (2,3), (9,2)], [(5,6), (2,3), (6,1)]], [[(1,6), (2,3), (6,1)], [(1,6), (4,5), (6,1)]]]\n",
    "for i in ll:\n",
    "    for h in range(len(i)):\n",
    "        i[h] = tuple(i[h])\n",
    "print(ll)\n",
    "\n",
    "for i in ll:\n",
    "    print(list(set(i[0]).intersection(*i)))"
   ]
  },
  {
   "cell_type": "code",
   "execution_count": null,
   "metadata": {},
   "outputs": [],
   "source": []
  },
  {
   "cell_type": "code",
   "execution_count": null,
   "metadata": {},
   "outputs": [],
   "source": []
  },
  {
   "cell_type": "code",
   "execution_count": null,
   "metadata": {},
   "outputs": [],
   "source": []
  },
  {
   "cell_type": "code",
   "execution_count": null,
   "metadata": {},
   "outputs": [],
   "source": [
    "["
   ]
  },
  {
   "cell_type": "code",
   "execution_count": null,
   "metadata": {},
   "outputs": [],
   "source": []
  },
  {
   "cell_type": "code",
   "execution_count": null,
   "metadata": {},
   "outputs": [],
   "source": []
  },
  {
   "cell_type": "code",
   "execution_count": null,
   "metadata": {},
   "outputs": [],
   "source": []
  },
  {
   "cell_type": "code",
   "execution_count": null,
   "metadata": {},
   "outputs": [],
   "source": []
  },
  {
   "cell_type": "code",
   "execution_count": null,
   "metadata": {},
   "outputs": [],
   "source": [
    "l = [(5,6), (2,4), (9,6)] \n",
    "l2 = [(5,6), (2,5), (9,6)] \n",
    "print(list(set()))"
   ]
  },
  {
   "cell_type": "code",
   "execution_count": null,
   "metadata": {},
   "outputs": [],
   "source": []
  },
  {
   "cell_type": "code",
   "execution_count": 182,
   "metadata": {},
   "outputs": [
    {
     "name": "stdout",
     "output_type": "stream",
     "text": [
      "[(2, 3)]\n"
     ]
    }
   ],
   "source": [
    "ll = [[(5,6), (2,3), (9,2)], [(5,6), (2,3), (6,1)], [(1,6), (2,3), (6,1)]]\n",
    "print(list(set(ll[0]).intersection(*ll)))"
   ]
  },
  {
   "cell_type": "code",
   "execution_count": null,
   "metadata": {},
   "outputs": [],
   "source": []
  },
  {
   "cell_type": "code",
   "execution_count": null,
   "metadata": {},
   "outputs": [],
   "source": []
  },
  {
   "cell_type": "code",
   "execution_count": null,
   "metadata": {},
   "outputs": [],
   "source": []
  },
  {
   "cell_type": "code",
   "execution_count": null,
   "metadata": {},
   "outputs": [],
   "source": []
  },
  {
   "cell_type": "code",
   "execution_count": null,
   "metadata": {},
   "outputs": [],
   "source": []
  },
  {
   "cell_type": "code",
   "execution_count": 140,
   "metadata": {},
   "outputs": [
    {
     "name": "stdout",
     "output_type": "stream",
     "text": [
      "2858\n"
     ]
    }
   ],
   "source": [
    "print(len(single_planet_times[0]))"
   ]
  },
  {
   "cell_type": "code",
   "execution_count": 101,
   "metadata": {},
   "outputs": [
    {
     "name": "stdout",
     "output_type": "stream",
     "text": [
      "[2160.4282560649999, 1.000009085066204, 619, 2160.5304155150002, 0.99859591938153613, 624, 2160.6530067210001, 0.99988519379892471, 630, 29.60547057299982]\n",
      "[2177.9382454199999, 0.99981520410864988, 1354, 2177.958676923, 0.99952370911155686, 1355, 2178.0199717300002, 1.0000483210697368, 1358, 28.645026927999879]\n",
      "[2190.0541599940002, 1.0001232637019668, 1891, 2190.135886088, 0.99866017148565545, 1894, 2190.2993382720001, 1.0000638248780793, 1901, 29.60547057299982]\n",
      "[2206.4811145439999, 1.0000503234905507, 2587, 2206.6037038509999, 0.99956234254866916, 2592, 2206.6445670879998, 1.000005168783225, 2594, 28.645026927999879]\n"
     ]
    }
   ],
   "source": [
    "for element in dip_zones:\n",
    "    print(element)"
   ]
  },
  {
   "cell_type": "code",
   "execution_count": 110,
   "metadata": {},
   "outputs": [
    {
     "name": "stdout",
     "output_type": "stream",
     "text": [
      "23 13\n"
     ]
    }
   ],
   "source": [
    "counter = 0\n",
    "counter2 = 0\n",
    "for element in x_coordinates:\n",
    "    if 2160.4282560649999 <= element <= 2160.6530067210001 or 2190.0541599940002 <= element <= 2190.2993382720001:\n",
    "        counter +=1\n",
    "for element in x_coordinates:\n",
    "    if 2177.9382454199999 <= element <= 2178.0199717300002 or 2206.4811145439999 <= element <= 2206.6445670879998:\n",
    "        counter2 +=1\n",
    "print(counter, counter2)\n"
   ]
  },
  {
   "cell_type": "code",
   "execution_count": 107,
   "metadata": {},
   "outputs": [
    {
     "name": "stdout",
     "output_type": "stream",
     "text": [
      "2869\n"
     ]
    }
   ],
   "source": [
    "print(len(y_coordinates))"
   ]
  },
  {
   "cell_type": "code",
   "execution_count": null,
   "metadata": {},
   "outputs": [],
   "source": []
  },
  {
   "cell_type": "code",
   "execution_count": 89,
   "metadata": {},
   "outputs": [
    {
     "name": "stdout",
     "output_type": "stream",
     "text": [
      "2869\n"
     ]
    }
   ],
   "source": []
  },
  {
   "cell_type": "code",
   "execution_count": 71,
   "metadata": {},
   "outputs": [
    {
     "ename": "SyntaxError",
     "evalue": "invalid syntax (<ipython-input-71-b28071931c81>, line 2)",
     "output_type": "error",
     "traceback": [
      "\u001b[0;36m  File \u001b[0;32m\"<ipython-input-71-b28071931c81>\"\u001b[0;36m, line \u001b[0;32m2\u001b[0m\n\u001b[0;31m    print(\"hi\")\u001b[0m\n\u001b[0m    ^\u001b[0m\n\u001b[0;31mSyntaxError\u001b[0m\u001b[0;31m:\u001b[0m invalid syntax\n"
     ]
    }
   ],
   "source": []
  },
  {
   "cell_type": "code",
   "execution_count": 132,
   "metadata": {},
   "outputs": [
    {
     "name": "stdout",
     "output_type": "stream",
     "text": [
      "[2198.369790324, 2198.4923794659999, 2198.5945370859999, 2198.737557857, 2198.8192838559999, 2198.8805784309998, 2158.7732729579998, 2158.0172921919998, 2158.9367282819999, 2158.6711135290002, 2199.3096406710001, 2199.3505037240002, 2199.5343874660002, 2199.6569767310002, 2199.718271314, 2199.799997526, 2199.8612920109999, 2159.7540040990002, 2159.937891043, 2200.2086281040001, 2200.290354324, 2200.392512075, 2200.4538066670002, 2200.5355326899999, 2200.5559642210001, 2200.7194164729999, 2200.9645950610002, 2160.203505559, 2160.3873924220002, 2160.9390528130002, 2187.684102234, 2187.8475545850001, 2201.1484788600001, 2201.3732257370002, 2201.475383512, 2201.5775411889999, 2201.638835797, 2201.700130405, 2201.7818565520001, 2201.884014237, 2161.8789181890002, 2161.0616439700002, 2161.2659625350002, 2161.9606455560001, 2161.9810773969998, 2202.0678981760002, 2202.0883297139999, 2202.2313504849999, 2202.2722135630002, 2202.4152344399999, 2202.5173921420001, 2202.599118305, 2202.6604129289999, 2202.7625707369998, 2202.9464546190002, 2162.9822372180001, 2162.0628047559999, 2162.5736007099999, 2162.8596462820001, 2203.314222512, 2202.5786867639999, 2203.4368117849999, 2203.4776749769999, 2163.4726009279998, 2163.9629643200001, 2204.2949371240002, 2204.7239997309998, 2204.7648629400001, 2204.9487469360001, 2164.0446915309999, 2164.9232587780002, 2164.7598045760001, 2164.84153173, 2205.1326311439998, 2205.1530626009999, 2205.37780974, 2205.6229885570001, 2205.6434202179998, 2205.7864410470002, 2165.2297357319999, 2165.3318945320002, 2165.3931898679998, 2206.195072517, 2206.2767987779998, 2206.3380934759998, 2206.4402513089999, 2166.0470066829998, 2166.6803913859999, 2166.782550161, 2166.8642771760001, 2207.1757880300001, 2207.2575143240001, 2207.6048512030002, 2203.0486123350001, 2167.701978863, 2167.926728074, 2167.8858647020002, 2167.9675915439998, 2203.9271691220001, 2208.217798789, 2208.5651358149998, 2208.6264304719998, 2208.9737676630002, 2168.3353629190001, 2168.0084551129999, 2168.090181948, 2168.7848610790002, 2168.4579533880001, 2209.157652076, 2209.3211048120002, 2209.4436943720002, 2209.5662839400002, 2209.648010422, 2209.811463297, 2209.8318947950002, 2169.6225615130002, 2169.8677419999999, 2169.8268784890001, 2210.3426849090001, 2210.3835482149998, 2210.5061378410001, 2210.6900223940002, 2210.8330436480001, 2210.8739068650002, 2170.2559444459998, 2170.296807745, 2170.3376711420001, 2170.5011248189999, 2211.1395179000001, 2211.2825390879998, 2211.384697257, 2211.507286948, 2185.5183590410002, 2185.8861268850001, 2171.1549390380001, 2171.1958024099999, 2171.2162340959999, 2171.5227093469998, 2171.8700479869999, 2212.2836887200001, 2212.4062786730001, 2212.8353428780001, 2172.1560914289998, 2172.217386545, 2172.8507683319999, 2172.8711998949998, 2213.039659305, 2213.1009542080001, 2173.4841498569999, 2173.5045814119999, 2173.5250130660002, 2173.0755166089998, 2173.688466391, 2174.7917753289998, 2174.546595751, 2175.3229979399998, 2175.8133572359998, 2175.8542203880002, 2176.8962331950001, 2180.2878787169998, 2177.3252971380002, 2177.9382454199999, 2203.355085702, 2178.142561438, 2178.2242878390002, 2178.449035526, 2178.7555094670001, 2179.18457291, 2179.5727731940001, 2179.756657468, 2179.940541726, 2179.9814049920001, 2180.3083103969998, 2180.3696051359998, 2180.5534893449999, 2180.880394669, 2180.9825525430001, 2187.0711562450001, 2181.146005131, 2181.3503209519999, 2181.5137735160001, 2181.6567945000002, 2181.7180892060001, 2182.106289072, 2182.22887846, 2182.4740572189999, 2182.6170782519998, 2182.7396676160001, 2182.8009622969998, 2183.1278672359999, 2183.6795194370002, 2183.7816772040001, 2184.210739787, 2184.3741922849999, 2184.8645494269999, 2185.620516851, 2185.7431061000002, 2186.1925998769998, 2186.2538945920001, 2186.2947576689999, 2186.662525538, 2146.8613925959999, 2146.5549097849998, 2187.0507246100001, 2187.2346084169999, 2187.8679862160002, 2147.7604084579998, 2147.2087397380001, 2147.065714503, 2188.0518699899999, 2188.3787744619999, 2188.5626583190001, 2188.8078366519999, 2188.9508573409998, 2148.169051461, 2148.9454729879999, 2148.332508644, 2189.1143095530001, 2189.3390564380002, 2149.783190008, 2149.2110906409998, 2149.2723870099999, 2149.7627577980002, 2149.9875110789999, 2190.156317511, 2190.4014958849998, 2190.44235893, 2190.4627904519998, 2190.4832219750001, 2190.503653497, 2190.5445165420001, 2190.6466742520001, 2190.6875372959998, 2187.8271230539999, 2150.028375287, 2150.0488073910001, 2150.1918322000001, 2191.1983254279999, 2191.4843668150002, 2191.5660928960001, 2191.6273873559999, 2191.7091135360001, 2191.7704080950002, 2151.090844196, 2151.417757276, 2151.4994856510002, 2151.703806304, 2151.724238367, 2151.8263986729999, 2151.5403497850002, 2151.4381894449998, 2151.5812139179998, 2151.233868628, 2192.1381755460002, 2192.1994701039998, 2192.5059429879998, 2192.7715527300002, 2152.1941756739998, 2152.807137193, 2152.5619527170002, 2152.9910255049999, 2152.2759039749999, 2152.7867050559998, 2193.200614715, 2193.2823407880001, 2193.4866560679998, 2193.8748550089999, 2153.5835543459998, 2153.3179379630001, 2153.747010481, 2153.971762616, 2153.7674424950001, 2194.6308212700001, 2194.6716844050002, 2194.9372940389999, 2154.0943546660001, 2154.2169466989999, 2154.237378803, 2154.2986748120002, 2154.4621308149999, 2154.7277467570002, 2195.1824723559998, 2195.2641984289999, 2195.5706714040002, 2195.6523973779999, 2195.7954181079999, 2195.8362810459998, 2155.0750906630001, 2155.4428663130002, 2155.6063221109998, 2155.6471861549999, 2196.183616967, 2196.3062061830001, 2196.898720355, 2196.9191519760002, 2156.770944029, 2156.8526718140001, 2156.0353935399999, 2156.0558256029999, 2156.1171214890001, 2156.1579853120002, 2156.2805770670002, 2156.546192582, 2156.7505120810001, 2156.9752634790002, 2197.1030356599999, 2197.3277823889998, 2197.797707485, 2197.9202966190001, 2157.056991247, 2157.077423187, 2157.138719007, 2157.1795829849998, 2157.363470413, 2157.7312451620001, 2157.9559964290002, 2198.2472010830002, 2198.7988524309999, 2198.8601470059998, 2158.0581559319999, 2158.650681522, 2158.6302496150001, 2158.46679434, 2158.793704963, 2199.125756936, 2199.2687775190002, 2199.3300722979998, 2199.4935244120002, 2199.5548190929999, 2199.7387029420001, 2199.9634497530001, 2159.0797516809998, 2159.1614791709999, 2159.3249343309999, 2159.4475257829999, 2200.2699226939999, 2200.3107858540002, 2200.4946696279999, 2200.5151011590001, 2200.8011427010001, 2160.1217779540002, 2160.2239373339999, 2160.2443692090001, 2160.3056648319998, 2160.3260968049999, 2160.448688036, 2160.9186210520002, 2187.0302931760002, 2187.5410816110002, 2201.189341928, 2201.8022881880001, 2161.143371401, 2161.1638033580002, 2161.3885538539998, 2161.408985606, 2161.6541677969999, 2161.7358951810002, 2161.8584863460001, 2202.108761252, 2202.170055868, 2202.2109189460002, 2202.7217075530002, 2162.8800781059999, 2162.164964046, 2162.5327370499999, 2162.6961916780001, 2162.941373574, 2203.1099070659998, 2203.171201699, 2203.2324963320002, 2203.457243331, 2203.7024219919999, 2203.722853539, 2203.9476005709998, 2163.0639645020001, 2163.5338963630002, 2163.9425326159999, 2204.1723477179999, 2204.2540740210002, 2204.3970948820001, 2204.6422736159998, 2204.805726049, 2204.8261576039999, 2204.8670207139999, 2204.8874522689998, 2164.5759183589998, 2164.208146035, 2164.2898733279999, 2164.4328958030001, 2164.3307368229998, 2164.8006680540002, 2205.2143572740001, 2205.2756519469999, 2165.025417805, 2165.6792348250001, 2165.1684402880001, 2206.5832723819999, 2206.6241354190001, 2206.6445670879998, 2206.685430125, 2206.7875880719998, 2206.951040636, 2184.946275711, 2166.7212548970001, 2166.2308925699999, 2166.5578008430002, 2180.5739209230001, 2207.134924984, 2207.1553564569999, 2207.3596722950001, 2207.4618300699999, 2207.5231249980002, 2207.5639880499998, 2207.686577512, 2207.80916708, 2167.1094581870002, 2167.1298900359998, 2167.2116170270001, 2167.9062963380002, 2208.1360724609999, 2208.3608199690002, 2208.4425462049999, 2208.503841059, 2208.6672937449998, 2168.5396803929998, 2168.1514771450002, 2168.4375216600001, 2168.9483148449999, 2209.198515259, 2209.3823995910002, 2209.6071471310001, 2209.89318959, 2209.9544843859999, 2169.377380983, 2169.009610002, 2169.2343588849999, 2169.3160858430001, 2169.3978125949998, 2210.1792320899999, 2210.424411423, 2210.4448430269999, 2210.4857062360002, 2210.5878643629999, 2210.9352016930002, 2170.807600225, 2170.194649346, 2170.4193980330001, 2170.8688953979999, 2170.9097587790002, 2211.1599495109999, 2211.200812736, 2211.2416759610001, 2211.4459921020002, 2211.650308365, 2211.793329693, 2211.8137614120001, 2171.8904796639999, 2171.1345073510001, 2171.2366657809998, 2171.338824204, 2171.3592559879999, 2171.4001192539999, 2212.018077618, 2212.0385092390002, 2212.1202357289999, 2212.1815305989999, 2212.8762061419998, 2172.0539330629999, 2172.0947964110001, 2172.1356598570001, 2172.1969548739999, 2172.5034299210001, 2172.6668832539999, 2213.2031123840002, 2173.7906246490002, 2173.8927828989999, 2173.3411281680001, 2173.4024231359999, 2174.3627108689998, 2174.7713437900002, 2175.7316306299999, 2175.7520623569999, 2175.8746521140001, 2175.9563786130002, 2175.997241862, 2176.2832845749999, 2176.3037161960001, 2176.8758015809999, 2177.1822757680002, 2177.4274551819999, 2177.5296132200001, 2177.5909080410001, 2177.6113395470002, 2177.69306607, 2178.2651510380001, 2178.4694670230001, 2178.7759410620001, 2178.796372756, 2178.9189622180002, 2179.225436191, 2179.2458676810002, 2179.3275941390002, 2179.5932047810002, 2179.6136364670001, 2180.1652892319999, 2180.3491734569998, 2180.4104682950001, 2180.4308998739998, 2180.6352156550001, 2180.6965103860002, 2180.7169420629998, 2180.7578052150002, 2180.7986682669998, 2157.118287068, 2181.1255735579998, 2181.2890262370001, 2181.8611102790001, 2182.5966465900001, 2182.8418253159998, 2183.2913196919999, 2183.5569301129999, 2184.1903083369998, 2184.45591848, 2184.537644774, 2184.5785077700002, 2185.1914542499999, 2185.3957697850001, 2185.8248321629999, 2184.435486932, 2186.1313052599999, 2186.2743261300002, 2186.4786415079998, 2186.4990731449998, 2186.5807992919999, 2182.1880153309999, 2186.6012309289999, 2186.7238200470001, 2186.7851146550001, 2186.8872723320001, 2146.963553606, 2146.6775029229998, 2146.8818248789999, 2146.473181115, 2187.2754715840001, 2187.3367661840002, 2187.3980607829999, 2187.6636708030001, 2187.8884176470001, 2187.9088491769999, 2187.9701437690001, 2147.9851620909999, 2147.5356545620002, 2147.5765187940001, 2147.6378152860002, 2147.6173832230002, 2147.1270110350001, 2147.1474432119999, 2147.4334936250002, 2147.453925794, 2188.0723015200001, 2188.256185188, 2188.2766168170001, 2188.5013637339998, 2148.5572623180001, 2148.1281872599998, 2148.1894837109999, 2148.2916444520001, 2148.6185587360001, 2148.1077550089999, 2189.2368987099999, 2189.2777618609998, 2189.3799194889998, 2189.7681185609999, 2189.870276181, 2149.1089299159999, 2149.8444863350001, 2149.9670789739998, 2190.1154545640002, 2190.3402013169998, 2190.3606328400001, 2190.381064362, 2190.4219274070001, 2190.7079688180002, 2190.932715555, 2191.1778938070001, 2191.3004829319998, 2191.4026406339999, 2191.504798336, 2191.9134287329998, 2151.6425101139998, 2151.6629421769999, 2151.2951648479998, 2192.3016276990002, 2192.403785294, 2192.6489636189999, 2192.6898266560002, 2192.7919843489999, 2192.9145734590002, 2192.9962994329999, 2152.378064215, 2152.3984962620002, 2152.1328795180002, 2152.8275692299999, 2152.3576321679998, 2152.4597924989998, 2193.4049298959999, 2193.527519104, 2193.6501083120002, 2193.793128837, 2193.8339918729998, 2153.0931857609999, 2153.1953458060002, 2153.2975060379999, 2153.5018261680002, 2153.5222582880001, 2153.6244182830001, 2153.6652824170001, 2194.0996017050002, 2194.140464741, 2194.2221909119999, 2194.4469376090001, 2194.8351365489998, 2154.0739226589999, 2154.5847227979998, 2154.9933627209998, 2195.3867875380001, 2195.6115343410002, 2195.7136920339999, 2195.7545550710001, 2195.938438739, 2155.0342265929999, 2155.9128017520002, 2155.728913939, 2155.4837302649998, 2155.115954632, 2155.2385465259999, 2155.2589785069999, 2155.361138404, 2196.4287952989998, 2196.6739735350002, 2196.6944051549999, 2196.8374257949999, 2156.9139676489999, 2156.9548316360001, 2156.1988492320002, 2156.260145109, 2156.5870564860002, 2156.6687842870001, 2197.0826040390002, 2197.184761642, 2197.2051932630002, 2197.4708030370002, 2197.593392367, 2197.8385705290002, 2197.8998650960002, 2157.5064939429999, 2157.4860620109998, 2157.6086535939999, 2157.9355644060001, 2157.159150946, 2203.2529278769998, 2198.206338037, 2198.3289272769998, 2198.3493588000001, 2198.5741055620001, 2198.6558316589999, 2198.9214415810002, 2158.8754324759998, 2158.83456867, 2158.589385799, 2158.6915453360002, 2158.7324092479998, 2158.9162963809999, 2199.1666199880001, 2199.5139560389998, 2159.6314127840001, 2159.6722765569998, 2200.3516489140002, 2200.3720804439999, 2200.4129435049999, 2200.4742380970001, 2200.6989849410002, 2200.88286883, 2160.1830735839999, 2160.407824294, 2160.8368935029998, 2160.0604823210001, 2160.6734386869998, 2160.8777572280001, 2160.9799166329999, 2160.7755979130002, 2201.1280473269999, 2201.2302049959999, 2201.4345203419998, 2185.2527488820001, 2185.9065583249999, 2201.7205619420001, 2183.4343406829998, 2181.9632680119998, 2161.286394489, 2161.5928722550002, 2146.6979352110002, 2147.8625691530001, 2148.3120765980002, 2148.5163980369998, 2150.4574493509999, 2151.4790534829999, 2149.5175724410001, 2150.60047399, 2154.7073148650002, 2155.9740976480002, 2156.7913759759999, 2157.8334048900001, 2157.915132484, 2158.0990198710001, 2158.1603156249998, 2161.5315767090001, 2162.5531687799999, 2162.818782633, 2158.2216113760001, 2158.2624752070001, 2158.3033389369998, 2167.9471599090002, 2162.9005099289998, 2169.7451517620002, 2170.6645784769998, 2164.6372137349999, 2164.8210999419998, 2170.3581028399999, 2171.910911339, 2174.669185494, 2172.7894733419998, 2168.6418389179998, 2174.6078905740001, 2172.0130698150001, 2173.0142216280001, 2174.0153727920001, 2173.5863081279999, 2174.5670272920001, 2175.0165234350002, 2176.0176733859998, 2177.039254587, 2178.0199717300002, 2179.0211202810001, 2180.001836675, 2181.0029841169999, 2181.677226069, 2183.0052778879999, 2184.0064242789999, 2163.6973508420001, 2163.0435327820001, 2163.7995098790002, 2163.6156236060001, 2163.7177826510001, 2163.8608052969998, 2191.0144416399999, 2192.01558643, 2193.0167310510001, 2194.0178755339998, 2195.0190202110002, 2196.0405963339999, 2197.0213094770002, 2198.0020228090002, 2199.0031677820002, 2200.0043128110001, 2201.0054581270001, 2202.0066034619999, 2203.007749248, 2204.0088952179999, 2205.010041604, 2206.011188338, 2207.0123353509998, 2208.0134828750001, 2209.0350624329999, 2164.535054773, 2164.5554865660001, 2164.596350151, 2164.0038280260001, 2164.0242597279998, 2164.7189409970001, 2205.3573782809999, 2205.4799676359999, 2205.5208307550001, 2205.8477357339998, 2205.868167396, 2205.8885989589999, 2165.2705991930002, 2165.3114627529999, 2165.0049860200002, 2165.0458495890002, 2165.066281373, 2165.8018254570002, 2206.256367213, 2206.3789566089999, 2206.5424092459998, 2206.7058617940002, 2182.6988044949999, 2166.5782326009999, 2166.5986644589998, 2166.6395278730001, 2166.7621184069999, 2166.8234137690001, 2207.2370827499999, 2207.5844197269998, 2207.6252827799999, 2207.8295986590001, 2207.8500302379998, 2167.2524805210001, 2167.3137757589998, 2167.5589566809999, 2167.7837059170001, 2167.0481629390001, 2167.865432866, 2208.3199567020001, 2208.4016830370001, 2208.9329044850001, 2208.9533359739999, 2168.2740675310001, 2168.3762264769998, 2168.3966582050002, 2168.519248567, 2168.7235659120001, 2209.2802415269998, 2209.6275787260001, 2169.0300417200001, 2169.704288247, 2169.8064468819998, 2169.929037114, 2210.1179371859998, 2210.260958498, 2210.4039797189998, 2210.6082958679999, 2210.7921803310001, 2170.2150810469998, 2170.0107640299998, 2170.480693123, 2170.3172395440001, 2170.6032833949998, 2170.950622158, 2211.1803810239999, 2211.3642656430002, 2185.4366327709999, 2171.1753706240002, 2212.2632571949998, 2212.3041204450001, 2212.344983596, 2212.4880050800002, 2212.5288684349998, 2212.7127530950002, 2212.7331846249999, 2212.8149112470001, 2212.9170695060002, 2172.2991132299999, 2172.3195449, 2172.3399765700001, 2172.3604082400002, 2172.3808399089999, 2172.8303366690002, 2172.401271579, 2172.6260199220001, 2204.478821191, 2213.2235440200002, 2173.095948269, 2173.8519196000002, 2173.9336460979998, 2193.7726973190001, 2174.342279125, 2174.035804439, 2174.6896171339999, 2174.4648691839998, 2174.5057323679998, 2174.5874589330001, 2175.220839778, 2175.2617030440001, 2175.3025664080001, 2175.3638612039999, 2175.9155152640001, 2176.2219897119999, 2176.242421333, 2176.344579436, 2176.5488956260001, 2176.6919170440001, 2176.9779597490001, 2177.202707379, 2177.2844339190001, 2177.4683183980001, 2177.6726344650001, 2203.6615588969998, 2178.306014237, 2178.3673090329999, 2178.5716251079998, 2179.16414132, 2179.6953627110001, 2179.7157943970001, 2179.7770891519999, 2146.616206356, 2146.718367298, 2146.7387994860001, 2146.759231772, 2146.7796639580001, 2147.0861466820002, 2147.923865624, 2146.9226891429998, 2147.3517650459999, 2147.3926292870001, 2148.8433123300001, 2148.0464585519999, 2148.3529408899999, 2148.536830177, 2148.7411515590002, 2149.6401651289998, 2149.7014614660002, 2149.8036220180002, 2149.9466467689999, 2148.3938050800002, 2150.5391777200002, 2150.437017358, 2150.069239593, 2149.3745476150002, 2149.3949797350001, 2151.3973253059999, 2151.6016459839998, 2151.0091157820002, 2151.2747328750002, 2151.6220781490001, 2152.6641128239999, 2152.0307193479998, 2152.1737437219999, 2152.1124475649999, 2152.8480011659999, 2153.3383699880001, 2153.0318894689999, 2153.4813941470002, 2153.603986264, 2152.5210886320001, 2154.6664507780001, 2154.0126266349998, 2154.9116346709998, 2154.932066759, 2154.8707707939998, 2155.0137946069999, 2155.8515057509999, 2155.7084820690002, 2155.6880499980002, 2154.972930634, 2156.505328577, 2156.6483523369998, 2156.0149615760001, 2156.4031688069999, 2156.8731037590001, 2157.9968601710002, 2157.7108132349999, 2157.6495174520001, 2157.8129728650001, 2156.9956954210002, 2158.4259306170002, 2158.4463624280002, 2158.5689538900001, 2158.895864479, 2158.9571601829998, 2159.1410473740002, 2159.2227748589999, 2159.2636386489999, 2159.3045024369999, 2159.386230009, 2159.5292532429999, 2159.5496852319998, 2159.5701171209998, 2160.7960297770001, 2160.101346076, 2161.347690049, 2161.5724404070002, 2161.899349932, 2160.1422099309998, 2160.1626417080001, 2161.2046669699998, 2161.2250989250001, 2161.000348393, 2162.0015092369999, 2162.1241002709999, 2162.144532109, 2162.2262594560002, 2162.2466912909999, 2162.2875549619998, 2162.307986796, 2163.2069872329998, 2163.2887145999998, 2163.3091463149999, 2163.3500100460001, 2163.4317373019999, 2164.6985092069999, 2165.7405301429999, 2164.1672824359998, 2164.3103050260002, 2164.4124640069999, 2166.700823141, 2166.8029819160001, 2166.7416866520002, 2165.0867131569998, 2165.1071449400001, 2167.9880232790001, 2167.7224107020002, 2166.1491655129998, 2166.1900291420002, 2166.2921879589999, 2168.6622707420001, 2168.498816841, 2168.968746564, 2167.763274079, 2167.1707534319999, 2169.724720055, 2169.8473102940002, 2169.9494689190001, 2168.192340608, 2168.2127723389999, 2170.7463051489999, 2169.132200306, 2169.152632023, 2169.3365174559999, 2169.459107831, 2171.7270262460002, 2171.931343015, 2170.072059138, 2170.1333542440002, 2170.1742175459999, 2172.5647249230001, 2172.7690416780001, 2171.6452994299998, 2171.0732122889999, 2171.0936439769998, 2173.6067397810002, 2173.6476030869999, 2173.954077847, 2173.9745094949999, 2172.6873149190001, 2174.7304804129999, 2173.136811588, 2173.1572432480002, 2173.259401539, 2173.3002649539999, 2174.0766678340001, 2174.0970993810001, 2174.1175311279999, 2174.1379627749998, 2174.2401210029998, 2175.0369550700002, 2175.0573868050001, 2175.0982499749998, 2175.1186817090002, 2175.1391132439999, 2176.058536733, 2176.0789683560001, 2176.119831602, 2176.1402631239998, 2176.181126468, 2176.2015579899999, 2177.0596860989999, 2177.0801177110002, 2177.1005494229998, 2177.1209809349998, 2177.1618442570002, 2178.040403431, 2178.0608350329999, 2178.0812665349999, 2178.1016982360002, 2178.1221298370001, 2179.0415517729998, 2179.0619833639998, 2179.0824150560002, 2179.1232781379999, 2179.1437098289998, 2180.0222681579999, 2180.04269974, 2180.1039944869999, 2180.1244261689999, 2180.14485775, 2181.0234156910001, 2181.0438472649998, 2181.0642788380001, 2181.0847104119998, 2181.105141985, 2182.004131145, 2182.0245627099998, 2182.044994376, 2182.0654259419998, 2182.0858574069998, 2183.0257095470001, 2183.0461411050001, 2183.0665725630001, 2183.0870042209999, 2183.1074357779999, 2184.0472873819999, 2184.0677190329998, 2184.0881504839999, 2184.1085820349999, 2184.1290136859998, 2185.0075703470002, 2185.0280018919998, 2185.0484335370002, 2185.089296527, 2185.1301596170001, 2186.0087161239999, 2186.029147664, 2186.0700106429999, 2186.0904422819999, 2186.110873821, 2187.009861641, 2147.1678754869999, 2147.2291720120002, 2147.7195440360001, 2147.739976197, 2147.0248501460001, 2147.0452822249999, 2147.6991118750002, 2188.0110069299999, 2188.0314383599998, 2188.1335961099999, 2188.2970483459999, 2188.5830898469999, 2188.6443844310002, 2188.705679014, 2188.7669735969998, 2188.971288968, 2190.0132969470001, 2190.0337283710001, 2190.0541599940002, 2191.034873261, 2191.055304682, 2191.0757362029999, 2191.0961678240001, 2191.1370308659998, 2192.03601785, 2148.5981266970002, 2192.0564494690002, 2192.0768809880001, 2192.1177440269998, 2193.037162569, 2193.0575940879999, 2189.0938781270002, 2189.1347411800002, 2189.4207826400002, 2189.4820772150001, 2189.54337179, 2189.604666365, 2189.6250977889999, 2189.9520023760001, 2189.9724338000001, 2195.0803147649999, 2195.1007462839998, 2195.1211778020001, 2195.14160932, 2196.0610278529998, 2196.081459472, 2196.101890891, 2196.1223224099999, 2196.1427540290001, 2197.0417410979999, 2149.129362142, 2149.5788687869999, 2149.4562760899998, 2197.0621726180002, 2198.0224543310001, 2198.0428858539999, 2190.074591518, 2190.2993382720001, 2190.6671056740001, 2190.7488318609999, 2190.9531470759998, 2190.973578697, 2199.023599308, 2199.044030733, 2200.0451757689998, 2200.0656073979999, 2200.0860389270001, 2200.1064704569999, 2200.1269019860001, 2201.0258896599998, 2201.0463210930002, 2201.0667527259998, 2201.08718426, 2201.1076156929998, 2202.0270350999999, 2150.0079430830001, 2150.8865232950002, 2150.9478195410002, 2150.3348568840001, 2150.314424788, 2150.375721075, 2150.5800419010002, 2150.6822024439998, 2150.702634532, 2150.804794961, 2191.2187569490002, 2191.320914552, 2191.4230722540001, 2191.729545056, 2191.8521341740002, 2191.9747232909999, 2205.0304732599998, 2205.0509048170002, 2205.0713362729998, 2206.0316199009999, 2206.0520514650002, 2206.1133461579998, 2206.133777822, 2206.1542093869998, 2207.0327670219999, 2151.2134366529999, 2151.4586215139998, 2207.0736300670001, 2207.0940617390002, 2208.054346036, 2208.0747776170001, 2192.219901723, 2192.2607646609999, 2192.3629222559998, 2192.5468059250002, 2192.9554363960001, 2209.0554940229999, 2209.075925613, 2209.096357203, 2209.1167887940001, 2210.0157791850002, 2210.0362108849999, 2210.056642385, 2210.0770740849998, 2210.0975056860002, 2211.016928133, 2211.0577913540001, 2211.0782230650002, 2211.098654676, 2211.119086188, 2152.888865336, 2152.9297294050002, 2152.1533116700002, 2152.2146078249998, 2152.4393603540002, 2213.019227671, 2193.1188885420001, 2193.3027724059998, 2193.4457929320001, 2193.6092451760001, 2193.9157179449999, 2153.2566418870001, 2153.3792340350001, 2153.215777933, 2153.7265784649999, 2194.1813277770002, 2194.3652114370002, 2194.406074473, 2194.7125473410001, 2194.7534103769999, 2154.3804027169999, 2154.768610741, 2195.2437670109998, 2195.4072191569999, 2195.4889452299999, 2195.9588703579998, 2155.1976825629999, 2155.4632983900001, 2155.5654581640001, 2155.933233617, 2196.2040485860002, 2196.4900898569999, 2196.551384416, 2196.6126789750001, 2196.7761312349999, 2184.2924660869999, 2196.9395834960001, 2156.6892161360001, 2156.1784173719998, 2156.23971325, 2197.1234671799998, 2197.143898801, 2197.225624784, 2197.3482139100001, 2157.4451981470002, 2157.3021746069999, 2198.1859065140002, 2198.4515164190002, 2198.5536740379998, 2198.7784209070001, 2158.0785879519999, 2158.1398837070001, 2158.2829071229999, 2158.3850666919998, 2158.7119772420001, 2199.0644623590001, 2199.2483460919998, 2199.2892091449999, 2199.4117983040001, 2199.6161136750002, 2199.677408258, 2199.8817235390002, 2199.9021551669998, 2159.0184558840001, 2159.5088214540001, 2159.0388877830001, 2159.059319682, 2159.1819110679999, 2159.406661901, 2159.4270937920001, 2159.4679575740001, 2159.8357316339998, 2159.9583229230002, 2200.3312172840001, 2160.6938704539998, 2160.3465286780001, 2160.4895516759998, 2160.5508472840002, 2201.2710680639998, 2201.3936572719999, 2201.5979727250001, 2201.6592673330001, 2201.7409935780001, 2201.9248773109998, 2183.2504566789999, 2161.7563271270001, 2161.8176226599999, 2161.1842352140002, 2161.2455307800001, 2161.6133041029998, 2202.353939821, 2202.4765290609998, 2162.083236595, 2162.348850464, 2162.9618053969998, 2203.0690439790001, 2203.4981064230001, 2203.5798327090001, 2203.6002642560002, 2203.804579831, 2203.8454428270002, 2163.5951917960001, 2163.1048282410002, 2163.1252599600002, 2163.3295781309998, 2163.3908735750001, 2163.574760085, 2204.0497584179998, 2204.070189867, 2204.5401157490001, 2164.3511687199998, 2164.6167819430002, 2164.7802363649998, 2164.2285778340001, 2164.9641224500001, 2164.984554136, 2205.3165150640002, 2205.725146362, 2205.7455780240002, 2205.9703252109998, 2165.5362124049998, 2165.1888721690002, 2165.4749170770001, 2206.1746408519998, 2206.726293364, 2166.0878702159998, 2166.2513244339998, 2166.271756096, 2166.3126197219999, 2166.3330513840001, 2166.4556420489998, 2207.441398595, 2207.4822617459999, 2207.6457144569999, 2207.870461817, 2207.9726197149998, 2207.993051295, 2167.0685947880002, 2167.4159345819999, 2208.1973672059999, 2208.2586619540002, 2208.5855673999999, 2208.9124728960001, 2168.1106136799999, 2168.9891781830001, 2168.9074514049998, 2168.2536359010001, 2168.7644292579998, 2209.1372204849999, 2209.2393783419998, 2209.4641258659999, 2209.4845575610002, 2209.7910316000002, 2169.5204029639999, 2169.663424931, 2169.642993122, 2169.9086054099998, 2169.2547906999998, 2210.669590688, 2210.8943384740001, 2170.0516273359999, 2170.0924908400002, 2170.3989663359998, 2170.5419883109998, 2170.6237149899998, 2211.425560487, 2157.2408787979998, 2211.4868553330002, 2211.5277186640001, 2211.60944513, 2211.7320348369999, 2185.8044007220001, 2211.834192932, 2171.1140755639999, 2171.4205510370002, 2171.9722063660001, 2171.4614143019999, 2181.3298892799999, 2181.4116156639998, 2212.2223938470001, 2212.4267101999999, 2212.85577461, 2212.9987959380001, 2172.0743648369998, 2172.2786815589998, 2172.5851565889998, 2204.4583895380001, 2213.2439756560002, 2202.3743713610002, 2173.7293296950002, 2173.1163799289998, 2173.177674906, 2173.2389699810001, 2173.2798331969998, 2174.628322214, 2174.3831425130002, 2175.5886092350001, 2175.6090408629998, 2186.3764839199998, 2176.2628528539999, 2176.3650110560002, 2176.3854426759999, 2176.487600771, 2176.50803249, 2176.6101904779998, 2176.998391262, 2177.2231390890001, 2177.3457287470001, 2177.5091816129998, 2177.958676923, 2178.2038562389998, 2178.5511935109998, 2178.6329198960002, 2178.6533514920002, 2178.6737830880002, 2178.8780990320001, 2178.9802569960002, 2179.2050046009999, 2179.4297521819999, 2179.6340679539999, 2179.6544996399998, 2179.9201102420002, 2179.960973409, 2180.4717630320001, 2180.9212577190001, 2187.1733138149998, 2181.2481629929998, 2181.2685945650001, 2181.3707524219999, 2181.3911839940001, 2181.7385207739999, 2181.8202470450001, 2181.9019733129999, 2182.167583767, 2182.6375098130002, 2182.862256976, 2183.1687303509998, 2183.3934775719999, 2183.4139091269999, 2183.4752037930002, 2183.4956353480002, 2183.5364984580001, 2183.7203825440001, 2183.9859927269999, 2184.3537607349999, 2184.9258440650001, 2185.3549065990001, 2185.6613798349999, 2185.7226744589998, 2186.5195046819999, 2186.6829569749998, 2186.7442515829998, 2186.989430007, 2146.4527488210001, 2146.5753419759999, 2187.1528823819999, 2187.316334651, 2187.459355381, 2187.7862599919999, 2187.8066915230002, 2147.3109007039998, 2147.6786797119998, 2147.7808405179999, 2188.09273295, 2188.1744591699999, 2188.4196375199999, 2188.8691312330002, 2148.7207195229998, 2148.475533753, 2148.2303479090001, 2148.8024479629998, 2148.9250407579998, 2189.0530149739998, 2189.2164672839999, 2189.6659609389999, 2189.6863923629999, 2189.8498446570002, 2149.5584367719998, 2149.721893677, 2149.6605973410001, 2149.251954887, 2190.7692633830002, 2150.5596099099998, 2150.0896715949998, 2150.1509678990001, 2150.2326962980001, 2150.35528888, 2150.7230666179998, 2191.3413460729998, 2191.443503775, 2191.6478188760002, 2191.6682504959999, 2191.933860352, 2191.9951549110001, 2181.5342050849999, 2151.1725724029998, 2151.8468307329999, 2151.1112761740001, 2192.5672375439999, 2192.6081004819998, 2192.7511212119998, 2192.8737103220001, 2152.0511514029999, 2152.33720012, 2152.58238476, 2193.6909712480001, 2193.7318342839999, 2193.9974441160002, 2153.0727536310001, 2153.1136176909999, 2153.992194725, 2153.7061464499998, 2194.038307152, 2194.2630538479998, 2194.5286636800001, 2194.5695267159999, 2194.9577256570001, 2194.9985886929999, 2154.8912026829998, 2154.6051547940001, 2154.2578107069999, 2154.359970817, 2154.4212668169998, 2154.4416987159998, 2195.2846300470001, 2195.3663561200001, 2195.6319659589999, 2195.8158496269998, 2195.856712664, 2195.897575602, 2195.9997332960002, 2155.0546586790001, 2155.6676180270001, 2155.7902098469999, 2155.4224343370001, 2155.177250581, 2155.2181144450001, 2155.299842467, 2155.54502619, 2155.892369785, 2196.326637702, 2196.7148366749998, 2196.8578573149998, 2182.760099177, 2156.8118079219998, 2197.3890770520002, 2197.654686932, 2157.0161273640001, 2157.547357805, 2157.4247662140001, 2157.6699493800002, 2157.4656299789999, 2157.6290855239999, 2162.4714414579998, 2198.1041805220002, 2198.145043468, 2198.4310848949999, 2198.6149687110001, 2198.6354001350001, 2198.839715481, 2198.9010100559999, 2158.9980239840002, 2199.5752506210001, 2199.8204289539999, 2199.983881182, 2159.8561635159999, 2159.100183479, 2159.8765953990001, 2159.8152997510001, 2159.9787548039999, 2200.167765145, 2200.6172589150001, 2200.7807110690001, 2200.9441634280001, 2160.5304155150002, 2160.6530067210001, 2160.857325466, 2160.0196184629999, 2160.7347342839998, 2160.6325748539998, 2201.3119311330001, 2201.352794202, 2201.4549519769998, 2201.6796989690001, 2201.822719625, 2201.843151262, 2201.945308849, 2201.965740486, 2161.674599644, 2161.8380544030001, 2202.3130767419998, 2202.5582552229998, 2202.6808445699999, 2202.7421391950002, 2202.8442968059999, 2202.9260230760001, 2162.3692822970002, 2162.0219410770001, 2162.3897141299999, 2162.6144642670001, 2203.0281808919999, 2203.1916332430001, 2203.2733594219999, 2203.2937910669998, 2203.5594010619998, 2203.9067375730001, 2203.9884637690002, 2163.5134644519999, 2163.8199416860002, 2163.7382144580001, 2204.1519161679998, 2204.3153686750002, 2204.4175264340001, 2204.9896101479999, 2164.4941911860001, 2164.5146228799999, 2164.9436906639999, 2205.112199487, 2205.1939257160002, 2205.255220389, 2205.3982412989999, 2205.6638516789999, 2205.9090305210002, 2205.9294620840001, 2205.9907567740001, 2165.2910310729999, 2165.6383711789999, 2165.5566441810001, 2165.8426889990001, 2165.7813936859998, 2206.358525142, 2206.5015460109998, 2206.8284512119999, 2206.8693144529998, 2166.4352102890002, 2166.4760738079999, 2166.9460042850001, 2166.6599596299998, 2166.9051407809998, 2166.9664360359998, 2180.3900366160001, 2207.1144933109999, 2207.8908933960001, 2207.9113249749998, 2207.931756555, 2207.9521881350001, 2167.4363662259998, 2167.4772298120001, 2167.6815471240002, 2167.8450011290001, 2208.1156407799999, 2208.4221147210001, 2208.46297779, 2208.708156918, 2208.749020192, 2208.8716097189999, 2168.0493184809998, 2168.927883025, 2209.3415363049999, 2209.52542085, 2209.7706000019998, 2209.8727579910001, 2209.9340527869999, 2209.9749160860001, 2169.4795395420001, 2169.5612663850002, 2169.7655833690001, 2169.888173805, 2210.1383688870001, 2210.1996636909998, 2210.2813901, 2210.3018218030002, 2210.8126120400002, 2210.8534752559999, 2170.4602614270002, 2170.8893270889998, 2170.5828516010001, 2170.6441466840001, 2170.5624199059998, 2170.8280319159999, 2211.752466555, 2211.8750562710002, 2211.9159195120001, 2211.997645896, 2171.2775291510002, 2171.3796876709998, 2171.6044361700001, 2171.7883212789998, 2171.7474579240002, 2171.8087529569998, 2171.5431411280001, 2181.2277315209999, 2212.2019623229999, 2212.365415321, 2212.6310265769998, 2212.957932671, 2172.7486099140001, 2172.9529266439999, 2172.4217032470001, 2213.1213857419998, 2173.3819914800001, 2173.811056299, 2173.9132145489998, 2173.749761347, 2174.7509120509999, 2174.8735019800001, 2174.8939336170001, 2174.9143652540001, 2175.2412715109999, 2175.3434296720002, 2175.4047245659999, 2175.5273143469999, 2175.547745976, 2175.64990412, 2175.8950837389998, 2175.9359469890001, 2176.5693273430002, 2176.794075022, 2176.8553698669998, 2176.957528036, 2177.3048655289999, 2177.4478868900001, 2177.6522028590002, 2177.8156557990001, 2177.8565190069999, 2177.9791086250002, 2178.162993038, 2178.2447194390002, 2178.3468774349999, 2178.4286038280002, 2178.5103303179999, 2178.5920566039999, 2178.6942146830002, 2178.898530725, 2178.9393938110002, 2179.2867309600001, 2179.4910469450001, 2179.8383839060002, 2179.8792469750001, 2180.4513313530001, 2180.4921946099998, 2180.7782367909999, 2181.2072998489998, 2181.5546366550002, 2181.6363629319999, 2182.3310363790001, 2182.3923310690002, 2182.535351905, 2182.5557835670002, 2182.8213938570002, 2182.9439832120001, 2182.98484633, 2183.1482988940002, 2183.373046016, 2183.577361567, 2183.6182247749998, 2183.7408140980001, 2183.883834967, 2183.9451296239999, 2184.231171338, 2184.415055383, 2184.5172131260001, 2184.7010971539999, 2184.762391795, 2184.9667072560001, 2185.211885794, 2185.3140435119999, 2185.4570644139999, 2185.6000852100001, 2185.865695344, 2185.9882845850002, 2186.6216623659998, 2186.8055461899999, 2186.9077038669998, 2146.9431214249998, 2146.8000960429999, 2146.6570707350002, 2187.2550400499999, 2187.3571978169998, 2187.3776292500002, 2203.825011379, 2147.5969510579998, 2147.903433468, 2147.9442978799998, 2147.3313327750002, 2147.0044179659999, 2188.1540275399998, 2188.3174798750001, 2188.5217952620001, 2188.7874052239999, 2148.6594231119998, 2189.257330336, 2189.359487964, 2189.8294131329999, 2189.931570753, 2149.4767083070001, 2149.6810293540002, 2149.3541154949999, 2190.2380437030001, 2190.3197696940001, 2190.7284002390002, 2190.789694904, 2190.8101264259999, 2190.8509895689999, 2190.994010119, 2187.6432392709999, 2150.7434987050001, 2150.9273874589999, 2150.518745628, 2150.3961530699999, 2191.8725656940001, 2151.2543008020002, 2151.5607818520002, 2151.9285589669998, 2151.5199177180002, 2192.2811962800001, 2192.322059218, 2192.4242168129999, 2192.4650798500002, 2192.5263745070001, 2192.9758680139998, 2152.0920155120002, 2152.643680784, 2193.0984571240001, 2193.2210462329999, 2193.4253615140001, 2193.9565809800001, 2153.0523216000001, 2153.1340497199999, 2153.1544818490001, 2153.6448504, 2153.8900345729999, 2153.9513306059998, 2153.5426902079998, 2194.0791701869998, 2194.1608963590002, 2194.303916884, 2194.3447800190002, 2194.3856430549999, 2194.6103897520002, 2194.651252788, 2194.7329789589999, 2194.8759994850002, 2154.8094748240001, 2154.2782428099999, 2154.7481787500001, 2154.850338704, 2195.1620408379999, 2195.325492984, 2195.4480820929998, 2195.5093768490001, 2195.6728288959998, 2155.2794103870001, 2155.320274447, 2155.3815703820001, 2155.7493459090001, 2196.2244801060001, 2196.3879322600001, 2196.633110495, 2196.878288935, 2156.0762574649998, 2156.8935358039998, 2156.4644646699999, 2197.2664878259998, 2197.4299400949999, 2197.613823788, 2197.6342553099998, 2157.5269257740001, 2157.2000148229999, 2157.97642825, 2198.1246119450002, 2198.2676327069998, 2198.2880642300001, 2198.533242514, 2198.9418732059999, 2158.9775920840002, 2158.2011794589998, 2158.242043192, 2158.3237709519999, 2158.4872263500001, 2158.8550006730002, 2158.5485219809998, 2199.1053254100002, 2199.1461884619998, 2199.4730928849999, 2199.636545203, 2199.7591343700001, 2199.840860582, 2159.9174592620002, 2159.1206153769999, 2159.5905489090001, 2159.2023430640002, 2159.2432067549998, 2159.3657981169999, 2159.8970272810002, 2159.794867867, 2200.1473335149999, 2200.637690346, 2200.739848105, 2200.7602795369999, 2160.0809142990001, 2160.4691199059998, 2160.612142987, 2187.5615130430001, 2201.4958149469999, 2201.9861720240001, 2161.1025077869999, 2162.7779189829998, 2162.205827619, 2162.3284185299999, 2162.4918732890001, 2162.757487158, 2162.5940325390002, 2203.7637167349999, 2163.2274191500001, 2163.4113054879999, 2163.8812372020002, 2204.560547302, 2204.5809789549999, 2204.6627050689999, 2204.6831367230002, 2204.9691785919999, 2164.6576455260001, 2164.0651234329998, 2164.4737593919999, 2164.1264188360001, 2164.2490096319998, 2205.1734941589998, 2205.2960836050001, 2205.4391044170002, 2205.541262315, 2205.7660095850001, 2165.822257328, 2165.1275767229999, 2165.2501674129999, 2165.4544851999999, 2165.515780529, 2165.9857113819999, 2165.4953487530001, 2206.4606828760002, 2206.6037038509999, 2206.8488827830001, 2186.948567037, 2166.1695972779999, 2166.2104608059999, 2166.3943467680001, 2166.4147785280002, 2166.537369185, 2166.8847090290001, 2180.267447236, 2207.1962197030002, 2207.2166511760001, 2207.2779459970002, 2207.4005353440002, 2207.7274406669999, 2207.7478723449999, 2167.5998202629999, 2167.6406836440001, 2167.150321784, 2167.2320487739998, 2167.293344013, 2167.3955027379998, 2167.456797969, 2208.0952092980001, 2208.3403882859998, 2208.605998986, 2208.6877252310001, 2208.7285885050001, 2208.8103149550002, 2168.1310454129998, 2209.3006732190001, 2209.9136212879998, 2169.0709051550002, 2169.0913368729998, 2169.4386761189999, 2169.2139271699998, 2169.35694917, 2169.4999711529999, 2210.5674326570002, 2210.7717487240002, 2170.6850100709999, 2170.9301904690001, 2170.1129224420001, 2170.153785945, 2170.787168633, 2211.3234024150001, 2157.8742686370001, 2211.3438339290001, 2211.5685817970002, 2211.6707399820002, 2211.6911716999998, 2211.895487792, 2211.9363510329999, 2183.1891619080002, 2171.8291846339998, 2171.7678895019999, 2171.2979608360001, 2212.079372484, 2212.5492999630001, 2212.5901632199998, 2172.0335013889999, 2172.91206332, 2172.1765231019999, 2172.4421349160002, 2172.4625665849999, 2172.5442932559999, 2213.0600908390002, 2213.1418174770001, 2173.0346532889998, 2173.8723512500001, 2173.627171434, 2173.7701930980002, 2173.8314880500002, 2173.3615599240002, 2173.443286447, 2173.5454448199998, 2174.178826067, 2174.2605526480002, 2174.5261640099998, 2174.8326387050001, 2174.9552285270001, 2175.282134776, 2175.5681775060002, 2175.629472392, 2175.6703357480001, 2175.690767475, 2175.7724938840001, 2175.833788762, 2176.4263059149998, 2176.6306221949999, 2176.7123486609999, 2176.8349383519999, 2177.3661603569999, 2177.7339293810001, 2178.2855826380001, 2178.530761815, 2178.7146462780001, 2178.8168042500001, 2178.959825504, 2179.2662993710001, 2179.409320494, 2179.4501836700001, 2179.4706152580002, 2179.5114784329999, 2179.5523417069999, 2179.6749312259999, 2179.7362259820002, 2179.797520737, 2180.206152494, 2180.2265839749998, 2180.512626189, 2180.8599629939999, 2180.9008262440002, 2181.186868277, 2181.4320471350002, 2181.942836446, 2181.983699679, 2183.4547722379998, 2182.2697416880001, 2182.3106047159999, 2182.371899406, 2182.576215129, 2202.496960601, 2202.803433821, 2184.6398025130002, 2184.721528602, 2184.7419601490001, 2185.1505911610002, 2185.3344751559998, 2185.375338242, 2185.4162013280002, 2185.5387905839998, 2185.7839690820001, 2185.9678530450001, 2186.3969153580001, 2186.4173468959998, 2186.4377785329998, 2146.5957742659998, 2146.840960512, 2146.5344776930001, 2146.5140454010002, 2146.902257061, 2187.1120192130002, 2187.2959032170002, 2187.4184924159999, 2187.4389238479998, 2187.6023762069999, 2187.6228076389998, 2187.7658284600002, 2147.821704937, 2147.5560866279998, 2147.1883075629999, 2188.2153222289999, 2188.3379114039999, 2188.930425814, 2148.1486193109999, 2148.373373035, 2148.7002872859998, 2148.863744363, 2189.0325835479998, 2189.7272555119998, 2189.7476869359998, 2149.0067693770002, 2149.0680657620001, 2149.8649184430001, 2149.3132512540001, 2149.333683374, 2190.197180657, 2190.2584751260001, 2150.293992591, 2150.6413381679999, 2150.8660912119999, 2150.9069554769999, 2150.4778814440001, 2150.620906179, 2150.7639307909999, 2150.1101036969999, 2150.2735605940002, 2150.8252270449998, 2191.1574623870001, 2191.2596199899999, 2191.525229756, 2151.989855237, 2151.336029093, 2151.3768932349999, 2151.131708251, 2192.1586069650002, 2192.3424908369998, 2192.853278904, 2152.0715833580002, 2152.4802244440002, 2152.0102871929998, 2152.2554718249999, 2152.316767973, 2152.5006565879999, 2152.6232488430001, 2152.9705933720002, 2152.745841081, 2193.1801830969998, 2193.2619092690002, 2193.3436353420002, 2193.384498378, 2193.5070875860001, 2193.5479506219999, 2193.7114028659998, 2194.1200332230001, 2154.625586789, 2154.8299067140001, 2154.3191067140001, 2154.400834818, 2195.2029038740002, 2195.5911028219998, 2195.7341235519998, 2195.9180072210002, 2155.524594215, 2155.7697779790001, 2155.4020024599999, 2196.1631854480001, 2196.4492268180002, 2196.4696584379999, 2196.530952997, 2196.5922475560001, 2196.6535421150002, 2196.9804465369998, 2156.3214409819998, 2156.5257605299998, 2197.164330222, 2197.715981497, 2157.3430383780001, 2157.5677897350001, 2157.8947006610001, 2198.0633173770002, 2198.0837488990001, 2198.3084956530001, 2198.4106533710001, 2198.676263284, 2198.696694708, 2158.0377240120001, 2199.1870515139999, 2199.3913668770001, 2199.4322298309999, 2199.7795659980002, 2159.7131402290001, 2159.7744359829999, 2159.610980897, 2200.596827284, 2200.8420057650001, 2200.9033004630001, 2160.5099836459999, 2160.0400504419999, 2160.89818909, 2160.9594846730001, 2160.5917111200001, 2201.2097734620002, 2201.5162465829999, 2201.5571095539999, 2201.761425015, 2201.8635827990001, 2161.306826343, 2161.490713009, 2161.1229396439999, 2161.5111448590001, 2161.6337359499998, 2161.470281159, 2202.2517821239999, 2202.2926452020001, 2202.3335081810001, 2202.4356659810001, 2202.5378236830002, 2202.6195498460002, 2162.5123052200001, 2162.7983508080001, 2162.9209417520001, 2162.0423729170002, 2162.4510097269999, 2162.4305777949999, 2162.8392144579998, 2203.0894755230001, 2203.1507701549999, 2203.2120647880001, 2203.3959486929998, 2203.4163803390002, 2203.7432851869999, 2203.7841481830001, 2203.8863060240001, 2203.9680322200002, 2163.452169015, 2163.4930327400002, 2163.084396322, 2163.5543281750001, 2163.922100712, 2163.9833961230001, 2163.8403734919998, 2204.0906215169998, 2204.2336423699999, 2204.3766633300002, 2164.6780773169999, 2164.739372687, 2164.861963418, 2205.5003991960002, 2205.6025569960002, 2205.6842832399998, 2205.9498935470001, 2165.6588030520002, 2165.434053423, 2165.6996664980002, 2165.7609620150001, 2165.413621745, 2206.2155040819998, 2206.2359355469998, 2206.4811145439999, 2206.521977679, 2206.7467249330002, 2206.9101775939998, 2166.3739150070001, 2166.5169373260001, 2166.0061431489999, 2166.0265749169998, 2166.1287338480001, 2166.9255724330001, 2207.3801038689999, 2167.3546393490001, 2167.375070994, 2167.4976614550001, 2167.0072995380001, 2167.0277312889998, 2208.381251453, 2208.4834094739999, 2208.7898832669998, 2208.830746443, 2208.851178031, 2208.8920412070001, 2168.355794648, 2168.4783852149999, 2168.887019585, 2168.7439976350001, 2209.2189468500001, 2209.3619679980002, 2209.4232627780002, 2209.7297368079999, 2209.8523263930001, 2169.581697995, 2169.602129804, 2169.9903322260002, 2169.6838566390002, 2169.969900523, 2210.5470010509998, 2210.6491590810001, 2170.9710538479999, 2170.7258735569999, 2170.9914854359999, 2187.214176983, 2211.3029708009999, 2211.4051288720002, 2211.6298767469998, 2171.4409827200002, 2171.7065944669998, 2171.6861628880001, 2171.8496163109999, 2171.4818460840002, 2171.9517747909999, 2212.2428255710001, 2212.3245520700002, 2212.5697315910002, 2212.6105948479999, 2212.6514581060001, 2212.6718897350001, 2212.7740479849999, 2212.7944795160001, 2212.9783644039999, 2172.1152280840001, 2172.8099049050002, 2172.6055882559999, 2172.993789867, 2172.9324948819999, 2213.0805225730001, 2202.9668862620001, 2213.1622491130001, 2173.5658763739998, 2173.9949412430001, 2174.301415937, 2174.6487539539999, 2174.0562361870002, 2174.4035740559998, 2174.7100488729998, 2174.8530702419998, 2174.9756601630002, 2175.200408145, 2175.4864510880002, 2175.506882618, 2175.976810138, 2182.9031201940002, 2176.5284641080002, 2176.5897589609999, 2176.7736434069998, 2176.9166648089999, 2176.9370964220002, 2177.2435706000001, 2177.4887500059999, 2177.7543608860001, 2177.77479249, 2177.8360873030001, 2177.9995402270001, 2178.3877407320001, 2178.4081722300002, 2178.7350778730001, 2179.5319100199999, 2179.8588154909999, 2180.1857209129998, 2180.614784078, 2180.676078809, 2180.9416893940002, 2181.1664367039998, 2181.452478705, 2181.4729103750001, 2181.4933419459999, 2181.575068224, 2181.8406786119999, 2182.1267206369998, 2182.1471521019998, 2182.2901731520001, 2182.3514678420001, 2182.4127625320002, 2182.7192359559999, 2182.9644148709999, 2183.209593565, 2183.2300250220001, 2183.3321829040001, 2183.6386562299999, 2183.8225402100002, 2183.90426652, 2184.1698766869999, 2184.394623834, 2184.4967815770001, 2184.6602339599999, 2184.680665507, 2184.8032547890002, 2185.1710228050001, 2185.2731804250002, 2185.6409482929998, 2185.7022429180001, 2185.947421505, 2186.5399361189998, 2186.5603677559998, 2186.764683119, 2186.8668407959999, 2186.9689985720001, 2180.2470156559998, 2187.0915877789998, 2187.5206499780002, 2187.7249653980002, 2203.538969616, 2147.249604185, 2147.8830014109999, 2147.4130615559998, 2188.1948905989998, 2188.4400690480002, 2188.6035212749998, 2188.6648158590001, 2188.7261104419999, 2188.88956276, 2148.4142373240002, 2148.4959658950002, 2148.5776944569998, 2148.904608627, 2148.0668908050002, 2148.250780157, 2148.2712122040002, 2189.2981933870001, 2189.4003510150001, 2189.46164559, 2189.5229401649999, 2189.5842347399998, 2189.8089816090001, 2189.9111392290001, 2189.9928654239998, 2149.0476335339999, 2149.0884978889999, 2149.5380046569999, 2149.5993010020002, 2149.6197330149998, 2190.1767491340001, 2190.21761208, 2190.5649481639998, 2190.8714209909999, 2150.1714000000002, 2150.416585164, 2150.2122641989999, 2150.1305358979998, 2150.784362976, 2191.2800515109998, 2191.3617775930002, 2191.5456613760002, 2191.8112710350001, 2151.315597021, 2151.9694231809999, 2151.9081270090001, 2192.179038584, 2192.3833537750002, 2192.6285321, 2192.7306897929998, 2192.894141841, 2192.9350048780002, 2204.7852943950002, 2152.2963360240001, 2152.9501614390001, 2193.46622445, 2193.5888136580002, 2193.629676694, 2193.8544233910002, 2193.895286427, 2193.9361495620001, 2153.0114575369998, 2153.2770739130001, 2153.3996661589999, 2153.1749137779998, 2153.8083066230001, 2153.910466585, 2194.283485466, 2194.3243485019998, 2194.4265059909999, 2194.5082321619998, 2194.6921158230002, 2194.8555680670001, 2194.8964311029999, 2154.033058643, 2154.1147866729998, 2154.135218679, 2154.5234268089998, 2154.1556506850002, 2154.1760826899999, 2154.502994812, 2195.468513712, 2195.550239785, 2195.693260515, 2195.8771441829999, 2155.0955225480002, 2155.871937719, 2155.340706426, 2155.5041622409999, 2196.2857746630002, 2196.3470692209999, 2196.7352681950001, 2196.9600149160001, 2156.096689428, 2156.607488437, 2156.8322398680002, 2156.2192811909999, 2156.301009025, 2156.566624434, 2156.6279202870001, 2156.9343995919999, 2197.2869193470001, 2197.4095084730002, 2197.4503716160002, 2197.675118353, 2197.6955498749999, 2197.777276063, 2197.8590021519999, 2157.7516770880002, 2157.2204467609999, 2157.3226065429999, 2157.383902347, 2157.6903813079998, 2157.853836714, 2157.4043341810002, 2198.3902218469998, 2198.5128109900002, 2198.7579892819999, 2158.119451689, 2158.3442028660002, 2158.3646348789998, 2158.4054986040001, 2199.0848938849999, 2199.227914566, 2199.5956821479999, 2199.9225865960002, 2159.6927084429999, 2159.3453662239999, 2159.9991866840001, 2159.6518445709999, 2200.2290597340002, 2200.249491264, 2200.5763957519998, 2200.9850264940001, 2160.5712792519998, 2160.2648011840001, 2160.2852330579999, 2160.3669604500001, 2160.4282560649999, 2160.8164616399999, 2160.7551660489999, 2201.2506365300001, 2201.291499599, 2201.3323626679999, 2201.6184041609999, 2161.940213715, 2161.0820758290001, 2161.5520085580001, 2161.9197818729999, 2161.7971907159999, 2202.0474666380001, 2202.129192891, 2202.1904875069999, 2202.7830021790001, 2202.8238653630001, 2202.8647284479998, 2202.9873177049999, 2162.7370552319999, 2162.6348961960002, 2162.1036684330002, 2162.2671230269998, 2162.7166235049999, 2163.1865554149999, 2163.2478508670001, 2163.268282684, 2163.37044186, 2204.0293268680002, 2204.1314847170001, 2204.3358002270002, 2204.4379579860001, 2204.4992526430001, 2204.5196842959999, 2204.7444313860001, 2204.9078839250001, 2204.92831548, 2164.4533275980002, 2164.0855551340001, 2164.9028270919998, 2164.1059869350001, 2164.1468505359999, 2164.1877142359999, 2164.2694414309999, 2205.2347888310001, 2205.4186729580001, 2205.5616938759999, 2205.704714901, 2205.8068727089999, 2165.1480085060002, 2165.2093038510002, 2165.5770758560002, 2165.59750773, 2165.7200983709999, 2206.767156503, 2206.8897459240002, 2206.9306091650001, 2206.9714723080001, 2182.4944887810002, 2166.9868676870001, 2166.619096116, 2180.6556473320002, 2180.9621209689999, 2207.4209670189998, 2207.5026933220001, 2207.6661459339998, 2167.6611154840002, 2167.742842441, 2167.5180931969999, 2167.538525039, 2167.804137655, 2203.3346540570001, 2208.156504043, 2208.2382302709998, 2208.2995250190002, 2208.5447042290002, 2168.8665878649999, 2168.6009755690002, 2168.2944992610001, 2168.417090033, 2209.1780835670002, 2209.5458523450002, 2209.586715635, 2209.6684420189999, 2209.6888736149999, 2209.7093052109999, 2169.1117685899999, 2169.4182444070002, 2169.1730637390001, 2210.158800488, 2210.2200952930002, 2210.3222533060002, 2210.3631166119999, 2210.4652747320001, 2210.5265694459999, 2210.6287274749998, 2210.7104539010002, 2210.7513172160002, 2170.7054417640002, 2170.2355126470002, 2170.378534638, 2170.5215565150002, 2211.5481502799998, 2211.5890135129998, 2171.5840043899998, 2171.0527805020001, 2171.3183925200001, 2212.0589408609999, 2212.140667352, 2212.7536163549998, 2173.6680347390002, 2173.055084949, 2174.424005799, 2174.4853007259999, 2174.1583943209998, 2174.2809841930002, 2174.3218475809999, 2174.8122069669998, 2174.9960917990002, 2175.4660194580001, 2175.7111990029998, 2175.7929255099998, 2176.446737534, 2176.4671692530001, 2176.7532118919999, 2176.8145067380001, 2148.0260263989999, 2177.7134976759999, 2177.8973821139998, 2177.917813817, 2178.1834246389999, 2178.3264458359999, 2178.4898986210001, 2178.8372358440001, 2178.857667538, 2179.8996786580001, 2180.5330577670002, 2180.7373735390001, 2180.839531519, 2157.5882216650002, 2183.6999508909998, 2181.5954997939998, 2181.7589523420002, 2181.881541746, 2181.922404979, 2183.802108757, 2181.6159313630001, 2182.208446996, 2182.2493100239999, 2182.4331940940001, 2182.453625657, 2182.6579412740002, 2182.678372935, 2182.8826885349999, 2182.9235516529998, 2161.7767588709999, 2183.3117513480001, 2183.3526143600002, 2183.6590878830002, 2183.842971862, 2183.9655611759999, 2184.272034437, 2184.3128976369999, 2184.333329086, 2184.4763500290001, 2184.5989394170001, 2184.6193708649998, 2184.8441178809999, 2184.8849810729998, 2185.2936120690001, 2185.4979273990002, 2185.579653668, 2185.6818114759999, 2185.763537541, 2185.845263704, 2185.9269899649998, 2186.3356207450001, 2186.1517368989998, 2186.172168438, 2186.2130315149998, 2186.2334630539999, 2186.3151893069999, 2186.45821007, 2186.6420939019999, 2146.9839856869999, 2146.6366385460001, 2187.1324508480002, 2187.4797870140001, 2187.500218446, 2187.5819446750002, 2187.704533866, 2187.7453968290001, 2187.9292808079999, 2187.9497123390001, 2187.9905754000001, 2203.6411273499998, 2147.1065788589999, 2147.515222296, 2188.2357537580001, 2188.3583429330001, 2188.542226691, 2188.6239529029999, 2188.6852474870002, 2188.74654207, 2188.8486997059999, 2148.8228800960001, 2148.2099157600001, 2148.9863371480001, 2148.0873229570002, 2148.782015929, 2148.9659050189998, 2148.7615836939999, 2148.4346694669998, 2148.6389908739998, 2148.0055943450002, 2189.1960357580001, 2189.441214165, 2189.5025087399999, 2189.5638033149999, 2189.706823988, 2189.8907077049998, 2149.415411853, 2149.497140424, 2149.8240541270002, 2149.2315226639998, 2149.2928191320002, 2190.135886088, 2190.5240851190001, 2190.5853796860001, 2190.8918525119998, 2190.912284133, 2150.8456592289999, 2150.9682517209999, 2150.4983136360001, 2150.9886837019999, 2191.382209114, 2191.463935195, 2191.8317026539999, 2191.954291772, 2151.0295478610001, 2151.0704120189998, 2151.1521404270002, 2151.1930044790001, 2151.3564610640001, 2151.6833743410002, 2151.867262792, 2151.7446705289999, 2192.2403331420001, 2192.4446483319998, 2192.4855113690001, 2192.8124157669999, 2152.235039875, 2152.684544964, 2152.7254089419998, 2152.8684333010001, 2152.766273019, 2152.909297271, 2193.1597516789998, 2193.2414778510001, 2193.3640669599999, 2193.6705397300002, 2193.7522658019998, 2153.2362098600001, 2153.930898696, 2153.8287385369999, 2153.4200980820001, 2153.4405301040001, 2153.5631222269999, 2153.7878745100002, 2194.2017592940001, 2194.2426223299999, 2194.4673690270001, 2194.5899582339998, 2194.8147049310001, 2194.978157175, 2154.6460188830001, 2154.9524986470001, 2154.686882771, 2154.7890427329999, 2154.1965146950001, 2154.3395388160002, 2154.4825628140002, 2154.5438588060001, 2195.305061565, 2195.3459246020002, 2195.4276506750002, 2195.9793017769998, 2155.9536656830001, 2155.994529612, 2155.585890238, 2155.136386615, 2155.1568184980001, 2186.3560522829998, 2196.244911625, 2196.367500841, 2196.408363779, 2196.8169942750001, 2184.1494451359999, 2184.5580762220002, 2156.4236008610001, 2156.7096481849999, 2156.7300801329998, 2197.307350868, 2197.7568444409999, 2197.8181391070002, 2197.8794336740002, 2197.9407282410002, 2157.097855128]\n"
     ]
    }
   ],
   "source": [
    "print(list(set(x_coordinates)))"
   ]
  },
  {
   "cell_type": "code",
   "execution_count": null,
   "metadata": {},
   "outputs": [],
   "source": []
  },
  {
   "cell_type": "code",
   "execution_count": null,
   "metadata": {},
   "outputs": [],
   "source": []
  },
  {
   "cell_type": "code",
   "execution_count": null,
   "metadata": {},
   "outputs": [],
   "source": []
  },
  {
   "cell_type": "code",
   "execution_count": null,
   "metadata": {},
   "outputs": [],
   "source": []
  },
  {
   "cell_type": "code",
   "execution_count": 127,
   "metadata": {},
   "outputs": [
    {
     "name": "stdout",
     "output_type": "stream",
     "text": [
      "False\n"
     ]
    }
   ],
   "source": [
    "print(list(set(x_coordinates)) == x_coordinates)"
   ]
  },
  {
   "cell_type": "code",
   "execution_count": 130,
   "metadata": {},
   "outputs": [],
   "source": [
    "new = sorted(x_coordinates)\n",
    "for element in zip(new, x_coordinates):\n",
    "    if element[1] != element[0]:\n",
    "        print(element)"
   ]
  },
  {
   "cell_type": "code",
   "execution_count": 131,
   "metadata": {},
   "outputs": [
    {
     "name": "stdout",
     "output_type": "stream",
     "text": [
      "True\n"
     ]
    }
   ],
   "source": [
    "print(x_coordinates ==sorted(x_coordinates))"
   ]
  },
  {
   "cell_type": "code",
   "execution_count": null,
   "metadata": {},
   "outputs": [],
   "source": []
  },
  {
   "cell_type": "code",
   "execution_count": null,
   "metadata": {},
   "outputs": [],
   "source": []
  },
  {
   "cell_type": "code",
   "execution_count": null,
   "metadata": {},
   "outputs": [],
   "source": []
  },
  {
   "cell_type": "code",
   "execution_count": null,
   "metadata": {},
   "outputs": [],
   "source": []
  },
  {
   "cell_type": "code",
   "execution_count": null,
   "metadata": {},
   "outputs": [],
   "source": []
  },
  {
   "cell_type": "code",
   "execution_count": 18,
   "metadata": {},
   "outputs": [
    {
     "name": "stdout",
     "output_type": "stream",
     "text": [
      "[[2160.4282560649999, 1.000009085066204, 619, 2160.5304155150002, 0.99859591938153613, 624, 2160.6530067210001, 0.99988519379892471, 630, 29.60547057299982], [2190.0541599940002, 1.0001232637019668, 1891, 2190.135886088, 0.99866017148565545, 1894, 2190.2993382720001, 1.0000638248780793, 1901, 29.60547057299982]]\n",
      "[[2177.9382454199999, 0.99981520410864988, 1354, 2177.958676923, 0.99952370911155686, 1355, 2178.0199717300002, 1.0000483210697368, 1358, 28.645026927999879], [2206.4811145439999, 1.0000503234905507, 2587, 2206.6037038509999, 0.99956234254866916, 2592, 2206.6445670879998, 1.000005168783225, 2594, 28.645026927999879]]\n"
     ]
    }
   ],
   "source": [
    "for a_class in classified_dip_zones:\n",
    "    print(a_class)"
   ]
  },
  {
   "cell_type": "code",
   "execution_count": null,
   "metadata": {},
   "outputs": [],
   "source": []
  },
  {
   "cell_type": "code",
   "execution_count": null,
   "metadata": {},
   "outputs": [],
   "source": []
  },
  {
   "cell_type": "code",
   "execution_count": null,
   "metadata": {},
   "outputs": [],
   "source": []
  },
  {
   "cell_type": "code",
   "execution_count": null,
   "metadata": {},
   "outputs": [],
   "source": []
  },
  {
   "cell_type": "code",
   "execution_count": null,
   "metadata": {},
   "outputs": [],
   "source": []
  },
  {
   "cell_type": "code",
   "execution_count": null,
   "metadata": {},
   "outputs": [],
   "source": [
    "è"
   ]
  },
  {
   "cell_type": "code",
   "execution_count": null,
   "metadata": {},
   "outputs": [],
   "source": []
  },
  {
   "cell_type": "code",
   "execution_count": null,
   "metadata": {},
   "outputs": [],
   "source": [
    "sample = [1,2,3,4,5,6]\n",
    "sample[]\n"
   ]
  },
  {
   "cell_type": "code",
   "execution_count": 50,
   "metadata": {},
   "outputs": [
    {
     "name": "stdout",
     "output_type": "stream",
     "text": [
      "[[1200, 1220, 1239.5, 0.9500001, 0.9500002, 0.9500003], [1400, 1450, 1500.1, 0.9986765, 0.97889, 0.9986654, 0.9986768], [1324, 1400, 1476.1, 0.97886, 0.9986765, 0.97889, 0.978849], [1323, 1325, 1.000008, 1.000009]]\n"
     ]
    }
   ],
   "source": [
    "min_fluxes = [row[1] for row in tuples]\n",
    "print(classified_times)  \n",
    "for time_list in classified_times:\n",
    "    for time in time_list:\n",
    "        for coordinate in tuples:\n",
    "            if time == coordinate[0]:\n",
    "                time_list.append(coordinate[1])\n",
    "            "
   ]
  },
  {
   "cell_type": "code",
   "execution_count": null,
   "metadata": {},
   "outputs": [],
   "source": []
  },
  {
   "cell_type": "code",
   "execution_count": 105,
   "metadata": {},
   "outputs": [
    {
     "name": "stdout",
     "output_type": "stream",
     "text": [
      "[[2160.5304155150002, 2190.135886088], [2177.958676923, 2206.6037038509999]]\n"
     ]
    }
   ],
   "source": []
  },
  {
   "cell_type": "code",
   "execution_count": 112,
   "metadata": {},
   "outputs": [
    {
     "name": "stdout",
     "output_type": "stream",
     "text": [
      "<itertools.combinations object at 0x7fa2e41912c0>\n",
      "<itertools.combinations object at 0x7fa2e4191cc0>\n"
     ]
    }
   ],
   "source": []
  },
  {
   "cell_type": "code",
   "execution_count": 120,
   "metadata": {},
   "outputs": [
    {
     "name": "stdout",
     "output_type": "stream",
     "text": [
      "[29.60547057299982, 28.645026927999879]\n"
     ]
    }
   ],
   "source": []
  },
  {
   "cell_type": "code",
   "execution_count": null,
   "metadata": {},
   "outputs": [],
   "source": [
    "Ω"
   ]
  },
  {
   "cell_type": "code",
   "execution_count": null,
   "metadata": {},
   "outputs": [],
   "source": [
    "h = [[1,2,3], [4,5,6]]\n",
    "period = []\n",
    "for g in h:\n",
    "    blank = []\n",
    "    for element in itertools.combinations(g, 2):\n",
    "        blank.append((abs(element[0] - element[1])))\n",
    "    period.append(min(blank))\n",
    "    \n",
    "print(period)"
   ]
  },
  {
   "cell_type": "code",
   "execution_count": null,
   "metadata": {},
   "outputs": [],
   "source": []
  },
  {
   "cell_type": "code",
   "execution_count": null,
   "metadata": {},
   "outputs": [],
   "source": []
  },
  {
   "cell_type": "code",
   "execution_count": null,
   "metadata": {},
   "outputs": [],
   "source": []
  },
  {
   "cell_type": "code",
   "execution_count": null,
   "metadata": {},
   "outputs": [],
   "source": []
  },
  {
   "cell_type": "code",
   "execution_count": null,
   "metadata": {},
   "outputs": [],
   "source": []
  },
  {
   "cell_type": "code",
   "execution_count": null,
   "metadata": {},
   "outputs": [],
   "source": []
  },
  {
   "cell_type": "code",
   "execution_count": null,
   "metadata": {},
   "outputs": [],
   "source": []
  },
  {
   "cell_type": "code",
   "execution_count": null,
   "metadata": {},
   "outputs": [],
   "source": []
  },
  {
   "cell_type": "code",
   "execution_count": null,
   "metadata": {},
   "outputs": [],
   "source": []
  },
  {
   "cell_type": "code",
   "execution_count": null,
   "metadata": {},
   "outputs": [],
   "source": []
  },
  {
   "cell_type": "code",
   "execution_count": null,
   "metadata": {},
   "outputs": [],
   "source": []
  },
  {
   "cell_type": "code",
   "execution_count": null,
   "metadata": {},
   "outputs": [],
   "source": []
  },
  {
   "cell_type": "code",
   "execution_count": null,
   "metadata": {},
   "outputs": [],
   "source": []
  },
  {
   "cell_type": "code",
   "execution_count": null,
   "metadata": {},
   "outputs": [],
   "source": []
  },
  {
   "cell_type": "code",
   "execution_count": null,
   "metadata": {},
   "outputs": [],
   "source": []
  },
  {
   "cell_type": "code",
   "execution_count": null,
   "metadata": {},
   "outputs": [],
   "source": []
  },
  {
   "cell_type": "code",
   "execution_count": 42,
   "metadata": {},
   "outputs": [
    {
     "name": "stdout",
     "output_type": "stream",
     "text": [
      "[4, 3, 5]\n"
     ]
    },
    {
     "ename": "NameError",
     "evalue": "name 'x' is not defined",
     "output_type": "error",
     "traceback": [
      "\u001b[0;31m---------------------------------------------------------------------------\u001b[0m",
      "\u001b[0;31mNameError\u001b[0m                                 Traceback (most recent call last)",
      "\u001b[0;32m<ipython-input-42-d4ba78fa09d0>\u001b[0m in \u001b[0;36m<module>\u001b[0;34m\u001b[0m\n\u001b[1;32m      3\u001b[0m \u001b[0;32mdel\u001b[0m \u001b[0mx\u001b[0m\u001b[0;34m\u001b[0m\u001b[0;34m\u001b[0m\u001b[0m\n\u001b[1;32m      4\u001b[0m \u001b[0mprint\u001b[0m\u001b[0;34m(\u001b[0m\u001b[0my\u001b[0m\u001b[0;34m)\u001b[0m\u001b[0;34m\u001b[0m\u001b[0;34m\u001b[0m\u001b[0m\n\u001b[0;32m----> 5\u001b[0;31m \u001b[0mprint\u001b[0m\u001b[0;34m(\u001b[0m\u001b[0mx\u001b[0m\u001b[0;34m)\u001b[0m\u001b[0;34m\u001b[0m\u001b[0;34m\u001b[0m\u001b[0m\n\u001b[0m",
      "\u001b[0;31mNameError\u001b[0m: name 'x' is not defined"
     ]
    }
   ],
   "source": [
    "x = [4,3,5]\n",
    "y = x\n",
    "del x\n",
    "print(y)\n",
    "print(x)"
   ]
  },
  {
   "cell_type": "code",
   "execution_count": null,
   "metadata": {},
   "outputs": [],
   "source": []
  },
  {
   "cell_type": "code",
   "execution_count": null,
   "metadata": {},
   "outputs": [],
   "source": []
  },
  {
   "cell_type": "code",
   "execution_count": null,
   "metadata": {},
   "outputs": [],
   "source": []
  },
  {
   "cell_type": "code",
   "execution_count": null,
   "metadata": {},
   "outputs": [],
   "source": []
  },
  {
   "cell_type": "code",
   "execution_count": null,
   "metadata": {},
   "outputs": [],
   "source": []
  },
  {
   "cell_type": "code",
   "execution_count": null,
   "metadata": {},
   "outputs": [],
   "source": [
    "[1,2,]"
   ]
  },
  {
   "cell_type": "code",
   "execution_count": 1,
   "metadata": {},
   "outputs": [
    {
     "name": "stdout",
     "output_type": "stream",
     "text": [
      "[0, 1, 2, 3, 4, 5, 6, 7, 8, 9, 10, 11, 12, 13, 14, 15, 16, 17, 18, 19, 20, 21, 22, 23, 24, 25, 26, 27, 28, 29, 30, 31, 32, 33, 34, 35, 36, 37, 38, 39, 40, 41, 42, 43, 44, 45, 46, 47, 48, 49, 50, 51, 52, 53, 54, 55, 56, 57, 58, 59, 60, 61, 62, 63, 64, 65, 66, 67, 68, 69, 70, 71, 72, 73, 74, 75, 76, 77, 78, 79, 80, 81, 82, 83, 84, 85, 86, 87, 88, 89, 90, 91, 92, 93, 94, 95, 96, 97, 98, 99, 100, 101, 102, 103, 104, 105, 106, 107, 108, 109, 110, 111, 112, 113, 114, 115, 116, 117, 118, 119, 120, 121, 122, 123, 124, 125, 126, 127, 128, 129, 130, 131, 132, 133, 134, 135, 136, 137, 138, 139, 140, 141, 142, 143, 144, 145, 146, 147, 148, 149, 150, 151, 152, 153, 154, 155, 156, 157, 158, 159, 160, 161, 162, 163, 164, 165, 166, 167, 168, 169, 170, 171, 172, 173, 174, 175, 176, 177, 178, 179, 180, 181, 182, 183, 184, 185, 186, 187, 188, 189, 190, 191, 192, 193, 194, 195, 196, 197, 198, 199, 200, 201, 202, 203, 204, 205, 206, 207, 208, 209, 210, 211, 212, 213, 214, 215, 216, 217, 218, 219, 220, 221, 222, 223, 224, 225, 226, 227, 228, 229, 230, 231, 232, 233, 234, 235, 236, 237, 238, 239, 240, 241, 242, 243, 244, 245, 246, 247, 248, 249, 250, 251, 252, 253, 254, 255, 256, 257, 258, 259, 260, 261, 262, 263, 264, 265, 266, 267, 268, 269, 270, 271, 272, 273, 274, 275, 276, 277, 278, 279, 280, 281, 282, 283, 284, 285, 286, 287, 288, 289, 290, 291, 292, 293, 294, 295, 296, 297, 298, 299, 300, 301, 302, 303, 304, 305, 306, 307, 308, 309, 310, 311, 312, 313, 314, 315, 316, 317, 318, 319, 320, 321, 322, 323, 324, 325, 326, 327, 328, 329, 330, 331, 332, 333, 334, 335, 336, 337, 338, 339, 340, 341, 342, 343, 344, 345, 346, 347, 348, 349, 350, 351, 352, 353, 354, 355, 356, 357, 358, 359, 360, 361, 362, 363, 364, 365, 366, 367, 368, 369, 370, 371, 372, 373, 374, 375, 376, 377, 378, 379, 380, 381, 382, 383, 384, 385, 386, 387, 388, 389, 390, 391, 392, 393, 394, 395, 396, 397, 398, 399, 400, 401, 402, 403, 404, 405, 406, 407, 408, 409, 410, 411, 412, 413, 414, 415, 416, 417, 418, 419, 420, 421, 422, 423, 424, 425, 426, 427, 428, 429, 430, 431, 432, 433, 434, 435, 436, 437, 438, 439, 440, 441, 442, 443, 444, 445, 446, 447, 448, 449, 450, 451, 452, 453, 454, 455, 456, 457, 458, 459, 460, 461, 462, 463, 464, 465, 466, 467, 468, 469, 470, 471, 472, 473, 474, 475, 476, 477, 478, 479, 480, 481, 482, 483, 484, 485, 486, 487, 488, 489, 490, 491, 492, 493, 494, 495, 496, 497, 498, 499, 500, 501, 502, 503, 504, 505, 506, 507, 508, 509, 510, 511, 512, 513, 514, 515, 516, 517, 518, 519, 520, 521, 522, 523, 524, 525, 526, 527, 528, 529, 530, 531, 532, 533, 534, 535, 536, 537, 538, 539, 540, 541, 542, 543, 544, 545, 546, 547, 548, 549, 550, 551, 552, 553, 554, 555, 556, 557, 558, 559, 560, 561, 562, 563, 564, 565, 566, 567, 568, 569, 570, 571, 572, 573, 574, 575, 576, 577, 578, 579, 580, 581, 582, 583, 584, 585, 586, 587, 588, 589, 590, 591, 592, 593, 594, 595, 596, 597, 598, 599, 600, 601, 602, 603, 604, 605, 606, 607, 608, 609, 610, 611, 612, 613, 614, 615, 616, 617, 618, 619, 620, 621, 622, 623, 624, 625, 626, 627, 628, 629, 630, 631, 632, 633, 634, 635, 636, 637, 638, 639, 640, 641, 642, 643, 644, 645, 646, 647, 648, 649, 650, 651, 652, 653, 654, 655, 656, 657, 658, 659, 660, 661, 662, 663, 664, 665, 666, 667, 668, 669, 670, 671, 672, 673, 674, 675, 676, 677, 678, 679, 680, 681, 682, 683, 684, 685, 686, 687, 688, 689, 690, 691, 692, 693, 694, 695, 696, 697, 698, 699, 700, 701, 702, 703, 704, 705, 706, 707, 708, 709, 710, 711, 712, 713, 714, 715, 716, 717, 718, 719, 720, 721, 722, 723, 724, 725, 726, 727, 728, 729, 730, 731, 732, 733, 734, 735, 736, 737, 738, 739, 740, 741, 742, 743, 744, 745, 746, 747, 748, 749, 750, 751, 752, 753, 754, 755, 756, 757, 758, 759, 760, 761, 762, 763, 764, 765, 766, 767, 768, 769, 770, 771, 772, 773, 774, 775, 776, 777, 778, 779, 780, 781, 782, 783, 784, 785, 786, 787, 788, 789, 790, 791, 792, 793, 794, 795, 796, 797, 798, 799, 800, 801, 802, 803, 804, 805, 806, 807, 808, 809, 810, 811, 812, 813, 814, 815, 816, 817, 818, 819, 820, 821, 822, 823, 824, 825, 826, 827, 828, 829, 830, 831, 832, 833, 834, 835, 836, 837, 838, 839, 840, 841, 842, 843, 844, 845, 846, 847, 848, 849, 850, 851, 852, 853, 854, 855, 856, 857, 858, 859, 860, 861, 862, 863, 864, 865, 866, 867, 868, 869, 870, 871, 872, 873, 874, 875, 876, 877, 878, 879, 880, 881, 882, 883, 884, 885, 886, 887, 888, 889, 890, 891, 892, 893, 894, 895, 896, 897, 898, 899, 900, 901, 902, 903, 904, 905, 906, 907, 908, 909, 910, 911, 912, 913, 914, 915, 916, 917, 918, 919, 920, 921, 922, 923, 924, 925, 926, 927, 928, 929, 930, 931, 932, 933, 934, 935, 936, 937, 938, 939, 940, 941, 942, 943, 944, 945, 946, 947, 948, 949, 950, 951, 952, 953, 954, 955, 956, 957, 958, 959, 960, 961, 962, 963, 964, 965, 966, 967, 968, 969, 970, 971, 972, 973, 974, 975, 976, 977, 978, 979, 980, 981, 982, 983, 984, 985, 986, 987, 988, 989, 990, 991, 992, 993, 994, 995, 996, 997, 998, 999, 1000, 1001, 1002, 1003, 1004, 1005, 1006, 1007, 1008, 1009, 1010, 1011, 1012, 1013, 1014, 1015, 1016, 1017, 1018, 1019, 1020, 1021, 1022, 1023, 1024, 1025, 1026, 1027, 1028, 1029, 1030, 1031, 1032, 1033, 1034, 1035, 1036, 1037, 1038, 1039, 1040, 1041, 1042, 1043, 1044, 1045, 1046, 1047, 1048, 1049, 1050, 1051, 1052, 1053, 1054, 1055, 1056, 1057, 1058, 1059, 1060, 1061, 1062, 1063, 1064, 1065, 1066, 1067, 1068, 1069, 1070, 1071, 1072, 1073, 1074, 1075, 1076, 1077, 1078, 1079, 1080, 1081, 1082, 1083, 1084, 1085, 1086, 1087, 1088, 1089, 1090, 1091, 1092, 1093, 1094, 1095, 1096, 1097, 1098, 1099, 1100, 1101, 1102, 1103, 1104, 1105, 1106, 1107, 1108, 1109, 1110, 1111, 1112, 1113, 1114, 1115, 1116, 1117, 1118, 1119, 1120, 1121, 1122, 1123, 1124, 1125, 1126, 1127, 1128, 1129, 1130, 1131, 1132, 1133, 1134, 1135, 1136, 1137, 1138, 1139, 1140, 1141, 1142, 1143, 1144, 1145, 1146, 1147, 1148, 1149, 1150, 1151, 1152, 1153, 1154, 1155, 1156, 1157, 1158, 1159, 1160, 1161, 1162, 1163, 1164, 1165, 1166, 1167, 1168, 1169, 1170, 1171, 1172, 1173, 1174, 1175, 1176, 1177, 1178, 1179, 1180, 1181, 1182, 1183, 1184, 1185, 1186, 1187, 1188, 1189, 1190, 1191, 1192, 1193, 1194, 1195, 1196, 1197, 1198, 1199, 1200, 1201, 1202, 1203, 1204, 1205, 1206, 1207, 1208, 1209, 1210, 1211, 1212, 1213, 1214, 1215, 1216, 1217, 1218, 1219, 1220, 1221, 1222, 1223, 1224, 1225, 1226, 1227, 1228, 1229, 1230, 1231, 1232, 1233, 1234, 1235, 1236, 1237, 1238, 1239, 1240, 1241, 1242, 1243, 1244, 1245, 1246, 1247, 1248, 1249, 1250, 1251, 1252, 1253, 1254, 1255, 1256, 1257, 1258, 1259, 1260, 1261, 1262, 1263, 1264, 1265, 1266, 1267, 1268, 1269, 1270, 1271, 1272, 1273, 1274, 1275, 1276, 1277, 1278, 1279, 1280, 1281, 1282, 1283, 1284, 1285, 1286, 1287, 1288, 1289, 1290, 1291, 1292, 1293, 1294, 1295, 1296, 1297, 1298, 1299, 1300, 1301, 1302, 1303, 1304, 1305, 1306, 1307, 1308, 1309, 1310, 1311, 1312, 1313, 1314, 1315, 1316, 1317, 1318, 1319, 1320, 1321, 1322, 1323, 1324, 1325, 1326, 1327, 1328, 1329, 1330, 1331, 1332, 1333, 1334, 1335, 1336, 1337, 1338, 1339, 1340, 1341, 1342, 1343, 1344, 1345, 1346, 1347, 1348, 1349, 1350, 1351, 1352, 1353, 1354, 1355, 1356, 1357, 1358, 1359, 1360, 1361, 1362, 1363, 1364, 1365, 1366, 1367, 1368, 1369, 1370, 1371, 1372, 1373, 1374, 1375, 1376, 1377, 1378, 1379, 1380, 1381, 1382, 1383, 1384, 1385, 1386, 1387, 1388, 1389, 1390, 1391, 1392, 1393, 1394, 1395, 1396, 1397, 1398, 1399, 1400, 1401, 1402, 1403, 1404, 1405, 1406, 1407, 1408, 1409, 1410, 1411, 1412, 1413, 1414, 1415, 1416, 1417, 1418, 1419, 1420, 1421, 1422, 1423, 1424, 1425, 1426, 1427, 1428, 1429, 1430, 1431, 1432, 1433, 1434, 1435, 1436, 1437, 1438, 1439, 1440, 1441, 1442, 1443, 1444, 1445, 1446, 1447, 1448, 1449, 1450, 1451, 1452, 1453, 1454, 1455, 1456, 1457, 1458, 1459, 1460, 1461, 1462, 1463, 1464, 1465, 1466, 1467, 1468, 1469, 1470, 1471, 1472, 1473, 1474, 1475, 1476, 1477, 1478, 1479, 1480, 1481, 1482, 1483, 1484, 1485, 1486, 1487, 1488, 1489, 1490, 1491, 1492, 1493, 1494, 1495, 1496, 1497, 1498, 1499, 1500, 1501, 1502, 1503, 1504, 1505, 1506, 1507, 1508, 1509, 1510, 1511, 1512, 1513, 1514, 1515, 1516, 1517, 1518, 1519, 1520, 1521, 1522, 1523, 1524, 1525, 1526, 1527, 1528, 1529, 1530, 1531, 1532, 1533, 1534, 1535, 1536, 1537, 1538, 1539, 1540, 1541, 1542, 1543, 1544, 1545, 1546, 1547, 1548, 1549, 1550, 1551, 1552, 1553, 1554, 1555, 1556, 1557, 1558, 1559, 1560, 1561, 1562, 1563, 1564, 1565, 1566, 1567, 1568, 1569, 1570, 1571, 1572, 1573, 1574, 1575, 1576, 1577, 1578, 1579, 1580, 1581, 1582, 1583, 1584, 1585, 1586, 1587, 1588, 1589, 1590, 1591, 1592, 1593, 1594, 1595, 1596, 1597, 1598, 1599, 1600, 1601, 1602, 1603, 1604, 1605, 1606, 1607, 1608, 1609, 1610, 1611, 1612, 1613, 1614, 1615, 1616, 1617, 1618, 1619, 1620, 1621, 1622, 1623, 1624, 1625, 1626, 1627, 1628, 1629, 1630, 1631, 1632, 1633, 1634, 1635, 1636, 1637, 1638, 1639, 1640, 1641, 1642, 1643, 1644, 1645, 1646, 1647, 1648, 1649, 1650, 1651, 1652, 1653, 1654, 1655, 1656, 1657, 1658, 1659, 1660, 1661, 1662, 1663, 1664, 1665, 1666, 1667, 1668, 1669, 1670, 1671, 1672, 1673, 1674, 1675, 1676, 1677, 1678, 1679, 1680, 1681, 1682, 1683, 1684, 1685, 1686, 1687, 1688, 1689, 1690, 1691, 1692, 1693, 1694, 1695, 1696, 1697, 1698, 1699, 1700, 1701, 1702, 1703, 1704, 1705, 1706, 1707, 1708, 1709, 1710, 1711, 1712, 1713, 1714, 1715, 1716, 1717, 1718, 1719, 1720, 1721, 1722, 1723, 1724, 1725, 1726, 1727, 1728, 1729, 1730, 1731, 1732, 1733, 1734, 1735, 1736, 1737, 1738, 1739, 1740, 1741, 1742, 1743, 1744, 1745, 1746, 1747, 1748, 1749, 1750, 1751, 1752, 1753, 1754, 1755, 1756, 1757, 1758, 1759, 1760, 1761, 1762, 1763, 1764, 1765, 1766, 1767, 1768, 1769, 1770, 1771, 1772, 1773, 1774, 1775, 1776, 1777, 1778, 1779, 1780, 1781, 1782, 1783, 1784, 1785, 1786, 1787, 1788, 1789, 1790, 1791, 1792, 1793, 1794, 1795, 1796, 1797, 1798, 1799, 1800, 1801, 1802, 1803, 1804, 1805, 1806, 1807, 1808, 1809, 1810, 1811, 1812, 1813, 1814, 1815, 1816, 1817, 1818, 1819, 1820, 1821, 1822, 1823, 1824, 1825, 1826, 1827, 1828, 1829, 1830, 1831, 1832, 1833, 1834, 1835, 1836, 1837, 1838, 1839, 1840, 1841, 1842, 1843, 1844, 1845, 1846, 1847, 1848, 1849, 1850, 1851, 1852, 1853, 1854, 1855, 1856, 1857, 1858, 1859, 1860, 1861, 1862, 1863, 1864, 1865, 1866, 1867, 1868, 1869, 1870, 1871, 1872, 1873, 1874, 1875, 1876, 1877, 1878, 1879, 1880, 1881, 1882, 1883, 1884, 1885, 1886, 1887, 1888, 1889, 1890, 1891, 1892, 1893, 1894, 1895, 1896, 1897, 1898, 1899, 1900, 1901, 1902, 1903, 1904, 1905, 1906, 1907, 1908, 1909, 1910, 1911, 1912, 1913, 1914, 1915, 1916, 1917, 1918, 1919, 1920, 1921, 1922, 1923, 1924, 1925, 1926, 1927, 1928, 1929, 1930, 1931, 1932, 1933, 1934, 1935, 1936, 1937, 1938, 1939, 1940, 1941, 1942, 1943, 1944, 1945, 1946, 1947, 1948, 1949, 1950, 1951, 1952, 1953, 1954, 1955, 1956, 1957, 1958, 1959, 1960, 1961, 1962, 1963, 1964, 1965, 1966, 1967, 1968, 1969, 1970, 1971, 1972, 1973, 1974, 1975, 1976, 1977, 1978, 1979, 1980, 1981, 1982, 1983, 1984, 1985, 1986, 1987, 1988, 1989, 1990, 1991, 1992, 1993, 1994, 1995, 1996, 1997, 1998, 1999, 2000, 2001, 2002, 2003, 2004, 2005, 2006, 2007, 2008, 2009, 2010, 2011, 2012, 2013, 2014, 2015, 2016, 2017, 2018, 2019, 2020, 2021, 2022, 2023, 2024, 2025, 2026, 2027, 2028, 2029, 2030, 2031, 2032, 2033, 2034, 2035, 2036, 2037, 2038, 2039, 2040, 2041, 2042, 2043, 2044, 2045, 2046, 2047, 2048, 2049, 2050, 2051, 2052, 2053, 2054, 2055, 2056, 2057, 2058, 2059, 2060, 2061, 2062, 2063, 2064, 2065, 2066, 2067, 2068, 2069, 2070, 2071, 2072, 2073, 2074, 2075, 2076, 2077, 2078, 2079, 2080, 2081, 2082, 2083, 2084, 2085, 2086, 2087, 2088, 2089, 2090, 2091, 2092, 2093, 2094, 2095, 2096, 2097, 2098, 2099, 2100, 2101, 2102, 2103, 2104, 2105, 2106, 2107, 2108, 2109, 2110, 2111, 2112, 2113, 2114, 2115, 2116, 2117, 2118, 2119, 2120, 2121, 2122, 2123, 2124, 2125, 2126, 2127, 2128, 2129, 2130, 2131, 2132, 2133, 2134, 2135, 2136, 2137, 2138, 2139, 2140, 2141, 2142, 2143, 2144, 2145, 2146, 2147, 2148, 2149, 2150, 2151, 2152, 2153, 2154, 2155, 2156, 2157, 2158, 2159, 2160, 2161, 2162, 2163, 2164, 2165, 2166, 2167, 2168, 2169, 2170, 2171, 2172, 2173, 2174, 2175, 2176, 2177, 2178, 2179, 2180, 2181, 2182, 2183, 2184, 2185, 2186, 2187, 2188, 2189, 2190, 2191, 2192, 2193, 2194, 2195, 2196, 2197, 2198, 2199, 2200, 2201, 2202, 2203, 2204, 2205, 2206, 2207, 2208, 2209, 2210, 2211, 2212, 2213, 2214, 2215, 2216, 2217, 2218, 2219, 2220, 2221, 2222, 2223, 2224, 2225, 2226, 2227, 2228, 2229, 2230, 2231, 2232, 2233, 2234, 2235, 2236, 2237, 2238, 2239, 2240, 2241, 2242, 2243, 2244, 2245, 2246, 2247, 2248, 2249, 2250, 2251, 2252, 2253, 2254, 2255, 2256, 2257, 2258, 2259, 2260, 2261, 2262, 2263, 2264, 2265, 2266, 2267, 2268, 2269, 2270, 2271, 2272, 2273, 2274, 2275, 2276, 2277, 2278, 2279, 2280, 2281, 2282, 2283, 2284, 2285, 2286, 2287, 2288, 2289, 2290, 2291, 2292, 2293, 2294, 2295, 2296, 2297, 2298, 2299, 2300, 2301, 2302, 2303, 2304, 2305, 2306, 2307, 2308, 2309, 2310, 2311, 2312, 2313, 2314, 2315, 2316, 2317, 2318, 2319, 2320, 2321, 2322, 2323, 2324, 2325, 2326, 2327, 2328, 2329, 2330, 2331, 2332, 2333, 2334, 2335, 2336, 2337, 2338, 2339, 2340, 2341, 2342, 2343, 2344, 2345, 2346, 2347, 2348, 2349, 2350, 2351, 2352, 2353, 2354, 2355, 2356, 2357, 2358, 2359, 2360, 2361, 2362, 2363, 2364, 2365, 2366, 2367, 2368, 2369, 2370, 2371, 2372, 2373, 2374, 2375, 2376, 2377, 2378, 2379, 2380, 2381, 2382, 2383, 2384, 2385, 2386, 2387, 2388, 2389, 2390, 2391, 2392, 2393, 2394, 2395, 2396, 2397, 2398, 2399, 2400, 2401, 2402, 2403, 2404, 2405, 2406, 2407, 2408, 2409, 2410, 2411, 2412, 2413, 2414, 2415, 2416, 2417, 2418, 2419, 2420, 2421, 2422, 2423, 2424, 2425, 2426, 2427, 2428, 2429, 2430, 2431, 2432, 2433, 2434, 2435, 2436, 2437, 2438, 2439, 2440, 2441, 2442, 2443, 2444, 2445, 2446, 2447, 2448, 2449, 2450, 2451, 2452, 2453, 2454, 2455, 2456, 2457, 2458, 2459, 2460, 2461, 2462, 2463, 2464, 2465, 2466, 2467, 2468, 2469, 2470, 2471, 2472, 2473, 2474, 2475, 2476, 2477, 2478, 2479, 2480, 2481, 2482, 2483, 2484, 2485, 2486, 2487, 2488, 2489, 2490, 2491, 2492, 2493, 2494, 2495, 2496, 2497, 2498, 2499, 2500, 2501, 2502, 2503, 2504, 2505, 2506, 2507, 2508, 2509, 2510, 2511, 2512, 2513, 2514, 2515, 2516, 2517, 2518, 2519, 2520, 2521, 2522, 2523, 2524, 2525, 2526, 2527, 2528, 2529, 2530, 2531, 2532, 2533, 2534, 2535, 2536, 2537, 2538, 2539, 2540, 2541, 2542, 2543, 2544, 2545, 2546, 2547, 2548, 2549, 2550, 2551, 2552, 2553, 2554, 2555, 2556, 2557, 2558, 2559, 2560, 2561, 2562, 2563, 2564, 2565, 2566, 2567, 2568, 2569, 2570, 2571, 2572, 2573, 2574, 2575, 2576, 2577, 2578, 2579, 2580, 2581, 2582, 2583, 2584, 2585, 2586, 2587, 2588, 2589, 2590, 2591, 2592, 2593, 2594, 2595, 2596, 2597, 2598, 2599, 2600, 2601, 2602, 2603, 2604, 2605, 2606, 2607, 2608, 2609, 2610, 2611, 2612, 2613, 2614, 2615, 2616, 2617, 2618, 2619, 2620, 2621, 2622, 2623, 2624, 2625, 2626, 2627, 2628, 2629, 2630, 2631, 2632, 2633, 2634, 2635, 2636, 2637, 2638, 2639, 2640, 2641, 2642, 2643, 2644, 2645, 2646, 2647, 2648, 2649, 2650, 2651, 2652, 2653, 2654, 2655, 2656, 2657, 2658, 2659, 2660, 2661, 2662, 2663, 2664, 2665, 2666, 2667, 2668, 2669, 2670, 2671, 2672, 2673, 2674, 2675, 2676, 2677, 2678, 2679, 2680, 2681, 2682, 2683, 2684, 2685, 2686, 2687, 2688, 2689, 2690, 2691, 2692, 2693, 2694, 2695, 2696, 2697, 2698, 2699, 2700, 2701, 2702, 2703, 2704, 2705, 2706, 2707, 2708, 2709, 2710, 2711, 2712, 2713, 2714, 2715, 2716, 2717, 2718, 2719, 2720, 2721, 2722, 2723, 2724, 2725, 2726, 2727, 2728, 2729, 2730, 2731, 2732, 2733, 2734, 2735, 2736, 2737, 2738, 2739, 2740, 2741, 2742, 2743, 2744, 2745, 2746, 2747, 2748, 2749, 2750, 2751, 2752, 2753, 2754, 2755, 2756, 2757, 2758, 2759, 2760, 2761, 2762, 2763, 2764, 2765, 2766, 2767, 2768, 2769, 2770, 2771, 2772, 2773, 2774, 2775, 2776, 2777, 2778, 2779, 2780, 2781, 2782, 2783, 2784, 2785, 2786, 2787, 2788, 2789, 2790, 2791, 2792, 2793, 2794, 2795, 2796, 2797, 2798, 2799, 2800, 2801, 2802, 2803, 2804, 2805, 2806, 2807, 2808, 2809, 2810, 2811, 2812, 2813, 2814, 2815, 2816, 2817, 2818, 2819, 2820, 2821, 2822, 2823, 2824, 2825, 2826, 2827, 2828, 2829, 2830, 2831, 2832, 2833, 2834, 2835, 2836, 2837, 2838, 2839, 2840, 2841, 2842, 2843, 2844, 2845, 2846, 2847, 2848, 2849, 2850, 2851, 2852, 2853, 2854, 2855, 2856, 2857, 2858, 2859, 2860, 2861, 2862, 2863, 2864, 2865, 2866, 2867, 2868, 2869, 2870, 2871, 2872, 2873, 2874, 2875, 2876, 2877, 2878, 2879, 2880, 2881, 2882, 2883, 2884, 2885, 2886, 2887, 2888, 2889, 2890, 2891, 2892, 2893, 2894, 2895, 2896, 2897, 2898, 2899, 2900, 2901, 2902, 2903, 2904, 2905, 2906, 2907, 2908, 2909, 2910, 2911, 2912, 2913, 2914, 2915, 2916, 2917, 2918, 2919, 2920, 2921, 2922, 2923, 2924, 2925, 2926, 2927, 2928, 2929, 2930, 2931, 2932, 2933, 2934, 2935, 2936, 2937, 2938, 2939, 2940, 2941, 2942, 2943, 2944, 2945, 2946, 2947, 2948, 2949, 2950, 2951, 2952, 2953, 2954, 2955, 2956, 2957, 2958, 2959, 2960, 2961, 2962, 2963, 2964, 2965, 2966, 2967, 2968, 2969, 2970, 2971, 2972, 2973, 2974, 2975, 2976, 2977, 2978, 2979, 2980, 2981, 2982, 2983, 2984, 2985, 2986, 2987, 2988, 2989, 2990, 2991, 2992, 2993, 2994, 2995, 2996, 2997, 2998, 2999, 3000, 3001, 3002, 3003, 3004, 3005, 3006, 3007, 3008, 3009, 3010, 3011, 3012, 3013, 3014, 3015, 3016, 3017, 3018, 3019, 3020, 3021, 3022, 3023, 3024, 3025, 3026, 3027, 3028, 3029, 3030, 3031, 3032, 3033, 3034, 3035, 3036, 3037, 3038, 3039, 3040, 3041, 3042, 3043, 3044, 3045, 3046, 3047, 3048, 3049, 3050, 3051, 3052, 3053, 3054, 3055, 3056, 3057, 3058, 3059, 3060, 3061, 3062, 3063, 3064, 3065, 3066, 3067, 3068, 3069, 3070, 3071, 3072, 3073, 3074, 3075, 3076, 3077, 3078, 3079, 3080, 3081, 3082, 3083, 3084, 3085, 3086, 3087, 3088, 3089, 3090, 3091, 3092, 3093, 3094, 3095, 3096, 3097, 3098, 3099, 3100, 3101, 3102, 3103, 3104, 3105, 3106, 3107, 3108, 3109, 3110, 3111, 3112, 3113, 3114, 3115, 3116, 3117, 3118, 3119, 3120, 3121, 3122, 3123, 3124, 3125, 3126, 3127, 3128, 3129, 3130, 3131, 3132, 3133, 3134, 3135, 3136, 3137, 3138, 3139, 3140, 3141, 3142, 3143, 3144, 3145, 3146, 3147, 3148, 3149, 3150, 3151, 3152, 3153, 3154, 3155, 3156, 3157, 3158, 3159, 3160, 3161, 3162, 3163, 3164, 3165, 3166, 3167, 3168, 3169, 3170, 3171, 3172, 3173, 3174, 3175, 3176, 3177, 3178, 3179, 3180, 3181, 3182, 3183, 3184, 3185, 3186, 3187, 3188, 3189, 3190, 3191, 3192, 3193, 3194, 3195, 3196, 3197, 3198, 3199, 3200, 3201, 3202, 3203, 3204, 3205, 3206, 3207, 3208, 3209, 3210, 3211, 3212, 3213, 3214, 3215, 3216, 3217, 3218, 3219, 3220, 3221, 3222, 3223, 3224, 3225, 3226, 3227, 3228, 3229, 3230, 3231, 3232, 3233, 3234, 3235, 3236, 3237, 3238, 3239, 3240, 3241, 3242, 3243, 3244, 3245, 3246, 3247, 3248, 3249, 3250, 3251, 3252, 3253, 3254, 3255, 3256, 3257, 3258, 3259, 3260, 3261, 3262, 3263, 3264, 3265, 3266, 3267, 3268, 3269, 3270, 3271, 3272, 3273, 3274, 3275, 3276, 3277, 3278, 3279, 3280, 3281, 3282, 3283, 3284, 3285, 3286]\n",
      "3287\n"
     ]
    },
    {
     "ename": "NameError",
     "evalue": "name 'median' is not defined",
     "output_type": "error",
     "traceback": [
      "\u001b[0;31m---------------------------------------------------------------------------\u001b[0m",
      "\u001b[0;31mNameError\u001b[0m                                 Traceback (most recent call last)",
      "\u001b[0;32m<ipython-input-1-4848d30b57bb>\u001b[0m in \u001b[0;36m<module>\u001b[0;34m\u001b[0m\n\u001b[1;32m     26\u001b[0m \u001b[0mmedian_values\u001b[0m \u001b[0;34m=\u001b[0m \u001b[0;34m[\u001b[0m\u001b[0;34m]\u001b[0m\u001b[0;34m\u001b[0m\u001b[0;34m\u001b[0m\u001b[0m\n\u001b[1;32m     27\u001b[0m \u001b[0;32mfor\u001b[0m \u001b[0mx\u001b[0m \u001b[0;32min\u001b[0m \u001b[0mrange\u001b[0m\u001b[0;34m(\u001b[0m\u001b[0mlen\u001b[0m\u001b[0;34m(\u001b[0m\u001b[0mxs\u001b[0m\u001b[0;34m)\u001b[0m\u001b[0;34m)\u001b[0m\u001b[0;34m:\u001b[0m\u001b[0;34m\u001b[0m\u001b[0;34m\u001b[0m\u001b[0m\n\u001b[0;32m---> 28\u001b[0;31m     \u001b[0mmedian_values\u001b[0m\u001b[0;34m.\u001b[0m\u001b[0mappend\u001b[0m\u001b[0;34m(\u001b[0m\u001b[0mmedian\u001b[0m\u001b[0;34m)\u001b[0m\u001b[0;34m\u001b[0m\u001b[0;34m\u001b[0m\u001b[0m\n\u001b[0m\u001b[1;32m     29\u001b[0m \u001b[0mlc\u001b[0m \u001b[0;34m=\u001b[0m \u001b[0mlk\u001b[0m\u001b[0;34m.\u001b[0m\u001b[0mLightCurve\u001b[0m\u001b[0;34m(\u001b[0m\u001b[0mxs\u001b[0m\u001b[0;34m,\u001b[0m \u001b[0ml\u001b[0m\u001b[0;34m)\u001b[0m\u001b[0;34m\u001b[0m\u001b[0;34m\u001b[0m\u001b[0m\n\u001b[1;32m     30\u001b[0m \u001b[0mxy\u001b[0m \u001b[0;34m=\u001b[0m \u001b[0;34m[\u001b[0m\u001b[0mx\u001b[0m \u001b[0;32mfor\u001b[0m \u001b[0mx\u001b[0m \u001b[0;32min\u001b[0m \u001b[0mitertools\u001b[0m\u001b[0;34m.\u001b[0m\u001b[0mchain\u001b[0m\u001b[0;34m.\u001b[0m\u001b[0mfrom_iterable\u001b[0m\u001b[0;34m(\u001b[0m\u001b[0mitertools\u001b[0m\u001b[0;34m.\u001b[0m\u001b[0mzip_longest\u001b[0m\u001b[0;34m(\u001b[0m\u001b[0mxs\u001b[0m\u001b[0;34m,\u001b[0m \u001b[0ml\u001b[0m\u001b[0;34m)\u001b[0m\u001b[0;34m)\u001b[0m \u001b[0;32mif\u001b[0m \u001b[0mx\u001b[0m\u001b[0;34m]\u001b[0m\u001b[0;34m\u001b[0m\u001b[0;34m\u001b[0m\u001b[0m\n",
      "\u001b[0;31mNameError\u001b[0m: name 'median' is not defined"
     ]
    },
    {
     "data": {
      "text/plain": [
       "<Figure size 864x432 with 0 Axes>"
      ]
     },
     "metadata": {},
     "output_type": "display_data"
    }
   ],
   "source": [
    "import numpy as np\n",
    "from keplersplinev2 import *\n",
    "import itertools\n",
    "import lightkurve as lk\n",
    "import matplotlib.pyplot as plt\n",
    "%matplotlib inline\n",
    "plt.figure(figsize=(12,6))\n",
    "with open(\"hlsp_k2sff_k2_lightcurve_201613023-c01_kepler_v1_llc-default-aper.txt\", \"r\") as f:\n",
    "    data = np.genfromtxt(f, delimiter=',', usecols=[0, 1], names=[\"time\", \"flux\"], encoding=\"Latin_1\")\n",
    "data = np.delete(data, 0)\n",
    "input_mask = np.ones_like(data[\"time\"], dtype=np.bool)\n",
    "input_mask[595:625] = False\n",
    "s, metadata = choosekeplersplinev2(data[\"time\"], data[\"flux\"], return_metadata=True)\n",
    "l = list(data[\"flux\"] / s)\n",
    "h = 0\n",
    "index_list = []\n",
    "for point in l:\n",
    "    index_list.append(h)\n",
    "    h+=1\n",
    "print(index_list)\n",
    "print(len(index_list))\n",
    "percentile = np.percentile(l, 2.75)\n",
    "                      \n",
    "xs = list(data[\"time\"])\n",
    "some_xs = xs\n",
    "median_values = []\n",
    "for x in range(len(xs)):\n",
    "    median_values.append(median)\n",
    "lc = lk.LightCurve(xs, l)\n",
    "xy = [x for x in itertools.chain.from_iterable(itertools.zip_longest(xs, l)) if x]\n",
    "coords = [xy[x:x + 2] for x in range(0, len(xy), 2)]\n",
    "quartiles = np.percentile(l, [25, 50, 75])\n",
    "iqr = float(quartiles[2] - quartiles[0])\n",
    "outlier_threshold = float(1.5 * iqr) + float(quartiles[1])\n",
    "revised = [x for x in l if x < outlier_threshold]\n",
    "revised_x = []\n",
    "for x, y in coords:\n",
    "    if y in revised:\n",
    "        revised_x.append(x)\n",
    "xy2 = [x for x in itertools.chain.from_iterable(itertools.zip_longest(revised_x, revised)) if x]\n",
    "coords2 = [xy2[x:x + 2] for x in range(0, len(xy2), 2)]\n",
    "x_coordinates = [row[0] for row in coords2]\n",
    "y_coordinates = [row[1] for row in coords2]\n",
    "plt.scatter(x_coordinates, y_coordinates)\n",
    "list_of_lists = []\n",
    "for index in range(len(revised)):\n",
    "    if index > 19:\n",
    "        lower = index - 20\n",
    "        upper = index + 21\n",
    "        new_list = revised[lower:upper]\n",
    "        list_of_lists.append(new_list)\n",
    "    else:\n",
    "        new_list = revised[0:int(index + 21)]\n",
    "        list_of_lists.append(new_list)\n",
    "booleans = []\n",
    "for a, b in zip(revised, list_of_lists):\n",
    "    if a == min(b):\n",
    "        booleans.append(True)\n",
    "    else:\n",
    "        booleans.append(False)\n",
    "median_offsets = []\n",
    "for a, b in zip(booleans, list_of_lists):\n",
    "    if a is True:\n",
    "        offset = abs(np.median(b) - min(b))\n",
    "        median_offsets.append(offset)\n",
    "    else:\n",
    "        median_offsets.append(0)\n",
    "good_list = [x for x in median_offsets if x != 0]\n",
    "threshold = np.mean(good_list) + 0.8 * np.std(good_list)\n",
    "final_list = []\n",
    "for x in median_offsets:\n",
    "    if x >= threshold:\n",
    "        final_list.append(x)\n",
    "    else:\n",
    "        final_list.append(0)\n",
    "tuples = []\n",
    "for a, b in zip(final_list, revised):\n",
    "    if a != 0:\n",
    "        g = b\n",
    "        for x, y in coords2:\n",
    "            if y == g:\n",
    "                tuples.append((x, y))\n",
    "                tuples.append(coords2.index(x))\n",
    "print(tuples)\n",
    "x_coords = []\n",
    "for x, y in tuples:\n",
    "    x_coords.append(x)\n",
    "minima_x = [element[0] for element in tuples]\n",
    "minima_y = [element[1] for element in tuples]\n",
    "print(len(tuples))\n",
    "plt.scatter(minima_x, minima_y)\n",
    "plt.scatter(some_xs, median_values)\n",
    "l = [x2 - x for x, x2 in zip(x_coords[: -1], x_coords[1:])]\n",
    "tolerance_parameter = float(input('Tolerance Parameter (pct): ')) / 100\n",
    "l2 = []\n",
    "for element_1 in l:\n",
    "    boolean = True\n",
    "    for element_2 in l2:\n",
    "        lower_bound = (1 - tolerance_parameter) * element_2\n",
    "        upper_bound = (1 + tolerance_parameter) * element_2\n",
    "        if lower_bound < element_1 < upper_bound:\n",
    "            boolean = False\n",
    "    if boolean is True:\n",
    "        l2.append(element_1)\n",
    "l2.sort()\n",
    "index_initial = 0\n",
    "while index_initial < len(l2):\n",
    "    index_after = index_initial + 1\n",
    "    while index_after < len(l2):\n",
    "        near_zero = tolerance_parameter * l2[index_initial]\n",
    "        near_smaller = (1 - tolerance_parameter) * l2[index_initial]\n",
    "        mod_val = l2[index_after] % l2[index_initial]\n",
    "        if mod_val < near_zero or mod_val >= near_smaller:\n",
    "            l2.remove(l2[index_after])\n",
    "        else:\n",
    "            index_after += 1\n",
    "    index_initial += 1\n",
    "print(l2)\n",
    "if len(l2) == 1:\n",
    "    period_guess = l2[0]\n",
    "    period_overshoot = 1.10*period_guess\n",
    "    period_undershoot = 0.90*period_guess\n",
    "    \n",
    "periodogram = lc.to_periodogram(method=\"bls\", period=np.arange(period_undershoot, period_overshoot, 0.00001))\n",
    "best_fit_period = periodogram.period_at_max_power\n",
    "print('Best fit period: {:.3f}'.format(best_fit_period))\n",
    "lc = lc.fold(best_fit_period)\n",
    "lc.scatter();\n",
    "lc.to_csv(\"folded.csv\")\n",
    "\n",
    "\"\"\"import csv\n",
    "from collections import defaultdict\n",
    "columns = defaultdict(list)\n",
    "with open('folded.csv') as f:\n",
    "    reader = csv.DictReader(f) \n",
    "    for row in reader: \n",
    "        for (k,v) in row.items():\n",
    "            columns[k].append(v) \n",
    "median = np.median(columns['flux'])\n",
    "\"\"\"\n",
    "\"\"\"percentile = percentile\n",
    "list_of_indices = []\n",
    "for point in tuples:\n",
    "   list_of_indices.append(xs.index(point[0]))\n",
    "for index in list_of_indices:\n",
    "    for index_2 in index_list:\n",
    "        while \"\"\""
   ]
  },
  {
   "cell_type": "code",
   "execution_count": 4,
   "metadata": {},
   "outputs": [
    {
     "ename": "SearchError",
     "evalue": "Failed to open the downloaded file (/Users/sameersingh/.lightkurve-cache/mastDownload/Kepler/kplr006922244_lc_Q111111111111111111/kplr006922244-2010078095331_lpd-targ.fits.gz). The file was likely only partially downloaded. Please remove it from your disk and try again.",
     "output_type": "error",
     "traceback": [
      "\u001b[0;31m---------------------------------------------------------------------------\u001b[0m",
      "\u001b[0;31mKeyError\u001b[0m                                  Traceback (most recent call last)",
      "\u001b[0;32m/opt/miniconda3/lib/python3.6/site-packages/lightkurve/utils.py\u001b[0m in \u001b[0;36mcreate_quality_mask\u001b[0;34m(cls, quality_array, bitmask)\u001b[0m\n\u001b[1;32m     85\u001b[0m             \u001b[0;32mtry\u001b[0m\u001b[0;34m:\u001b[0m\u001b[0;34m\u001b[0m\u001b[0;34m\u001b[0m\u001b[0m\n\u001b[0;32m---> 86\u001b[0;31m                 \u001b[0mbitmask\u001b[0m \u001b[0;34m=\u001b[0m \u001b[0mcls\u001b[0m\u001b[0;34m.\u001b[0m\u001b[0mOPTIONS\u001b[0m\u001b[0;34m[\u001b[0m\u001b[0mbitmask\u001b[0m\u001b[0;34m]\u001b[0m\u001b[0;34m\u001b[0m\u001b[0;34m\u001b[0m\u001b[0m\n\u001b[0m\u001b[1;32m     87\u001b[0m             \u001b[0;32mexcept\u001b[0m \u001b[0mKeyError\u001b[0m\u001b[0;34m:\u001b[0m\u001b[0;34m\u001b[0m\u001b[0;34m\u001b[0m\u001b[0m\n",
      "\u001b[0;31mKeyError\u001b[0m: 'kic.fits'",
      "\nDuring handling of the above exception, another exception occurred:\n",
      "\u001b[0;31mValueError\u001b[0m                                Traceback (most recent call last)",
      "\u001b[0;32m/opt/miniconda3/lib/python3.6/site-packages/lightkurve/search.py\u001b[0m in \u001b[0;36m_open_downloaded_file\u001b[0;34m(path, **kwargs)\u001b[0m\n\u001b[1;32m   1047\u001b[0m     \u001b[0;32mtry\u001b[0m\u001b[0;34m:\u001b[0m\u001b[0;34m\u001b[0m\u001b[0;34m\u001b[0m\u001b[0m\n\u001b[0;32m-> 1048\u001b[0;31m         \u001b[0;32mreturn\u001b[0m \u001b[0mopen\u001b[0m\u001b[0;34m(\u001b[0m\u001b[0mpath\u001b[0m\u001b[0;34m,\u001b[0m \u001b[0;34m**\u001b[0m\u001b[0mkwargs\u001b[0m\u001b[0;34m)\u001b[0m\u001b[0;34m\u001b[0m\u001b[0;34m\u001b[0m\u001b[0m\n\u001b[0m\u001b[1;32m   1049\u001b[0m     \u001b[0;32mexcept\u001b[0m \u001b[0mValueError\u001b[0m\u001b[0;34m:\u001b[0m\u001b[0;34m\u001b[0m\u001b[0;34m\u001b[0m\u001b[0m\n",
      "\u001b[0;32m/opt/miniconda3/lib/python3.6/site-packages/lightkurve/search.py\u001b[0m in \u001b[0;36mopen\u001b[0;34m(path_or_url, **kwargs)\u001b[0m\n\u001b[1;32m   1035\u001b[0m     \u001b[0;32mif\u001b[0m \u001b[0mfiletype\u001b[0m \u001b[0;32mis\u001b[0m \u001b[0;32mnot\u001b[0m \u001b[0;32mNone\u001b[0m\u001b[0;34m:\u001b[0m\u001b[0;34m\u001b[0m\u001b[0;34m\u001b[0m\u001b[0m\n\u001b[0;32m-> 1036\u001b[0;31m         \u001b[0;32mreturn\u001b[0m \u001b[0mgetattr\u001b[0m\u001b[0;34m(\u001b[0m\u001b[0m__import__\u001b[0m\u001b[0;34m(\u001b[0m\u001b[0;34m'lightkurve'\u001b[0m\u001b[0;34m)\u001b[0m\u001b[0;34m,\u001b[0m \u001b[0mfiletype\u001b[0m\u001b[0;34m)\u001b[0m\u001b[0;34m(\u001b[0m\u001b[0mpath_or_url\u001b[0m\u001b[0;34m,\u001b[0m \u001b[0;34m**\u001b[0m\u001b[0mkwargs\u001b[0m\u001b[0;34m)\u001b[0m\u001b[0;34m\u001b[0m\u001b[0;34m\u001b[0m\u001b[0m\n\u001b[0m\u001b[1;32m   1037\u001b[0m     \u001b[0;32melse\u001b[0m\u001b[0;34m:\u001b[0m\u001b[0;34m\u001b[0m\u001b[0;34m\u001b[0m\u001b[0m\n",
      "\u001b[0;32m/opt/miniconda3/lib/python3.6/site-packages/lightkurve/targetpixelfile.py\u001b[0m in \u001b[0;36m__init__\u001b[0;34m(self, path, quality_bitmask, **kwargs)\u001b[0m\n\u001b[1;32m   1117\u001b[0m                                 \u001b[0mquality_array\u001b[0m\u001b[0;34m=\u001b[0m\u001b[0mself\u001b[0m\u001b[0;34m.\u001b[0m\u001b[0mhdu\u001b[0m\u001b[0;34m[\u001b[0m\u001b[0;36m1\u001b[0m\u001b[0;34m]\u001b[0m\u001b[0;34m.\u001b[0m\u001b[0mdata\u001b[0m\u001b[0;34m[\u001b[0m\u001b[0;34m'QUALITY'\u001b[0m\u001b[0;34m]\u001b[0m\u001b[0;34m,\u001b[0m\u001b[0;34m\u001b[0m\u001b[0;34m\u001b[0m\u001b[0m\n\u001b[0;32m-> 1118\u001b[0;31m                                 bitmask=quality_bitmask)\n\u001b[0m\u001b[1;32m   1119\u001b[0m \u001b[0;34m\u001b[0m\u001b[0m\n",
      "\u001b[0;32m/opt/miniconda3/lib/python3.6/site-packages/lightkurve/utils.py\u001b[0m in \u001b[0;36mcreate_quality_mask\u001b[0;34m(cls, quality_array, bitmask)\u001b[0m\n\u001b[1;32m     90\u001b[0m                                  \u001b[0;34m\"expected one of {}\"\u001b[0m\u001b[0;34m\u001b[0m\u001b[0;34m\u001b[0m\u001b[0m\n\u001b[0;32m---> 91\u001b[0;31m                                  \"\".format(bitmask, valid_options))\n\u001b[0m\u001b[1;32m     92\u001b[0m         \u001b[0;31m# The bitmask is applied using the bitwise AND operator\u001b[0m\u001b[0;34m\u001b[0m\u001b[0;34m\u001b[0m\u001b[0;34m\u001b[0m\u001b[0m\n",
      "\u001b[0;31mValueError\u001b[0m: quality_bitmask='kic.fits' is not supported, expected one of ('none', 'default', 'hard', 'hardest')",
      "\nDuring handling of the above exception, another exception occurred:\n",
      "\u001b[0;31mSearchError\u001b[0m                               Traceback (most recent call last)",
      "\u001b[0;32m<ipython-input-4-a39cee0a2811>\u001b[0m in \u001b[0;36m<module>\u001b[0;34m\u001b[0m\n\u001b[1;32m      1\u001b[0m \u001b[0;32mfrom\u001b[0m \u001b[0mlightkurve\u001b[0m \u001b[0;32mimport\u001b[0m \u001b[0msearch_targetpixelfile\u001b[0m\u001b[0;34m\u001b[0m\u001b[0;34m\u001b[0m\u001b[0m\n\u001b[0;32m----> 2\u001b[0;31m \u001b[0mtpf\u001b[0m \u001b[0;34m=\u001b[0m \u001b[0msearch_targetpixelfile\u001b[0m\u001b[0;34m(\u001b[0m\u001b[0;34m'KIC 6922244'\u001b[0m\u001b[0;34m,\u001b[0m \u001b[0mquarter\u001b[0m\u001b[0;34m=\u001b[0m\u001b[0;36m4\u001b[0m\u001b[0;34m)\u001b[0m\u001b[0;34m.\u001b[0m\u001b[0mdownload\u001b[0m\u001b[0;34m(\u001b[0m\u001b[0;34m\"kic.fits\"\u001b[0m\u001b[0;34m)\u001b[0m\u001b[0;34m\u001b[0m\u001b[0;34m\u001b[0m\u001b[0m\n\u001b[0m\u001b[1;32m      3\u001b[0m \u001b[0mlc\u001b[0m \u001b[0;34m=\u001b[0m \u001b[0mtpf\u001b[0m\u001b[0;34m.\u001b[0m\u001b[0mto_lightcurve\u001b[0m\u001b[0;34m(\u001b[0m\u001b[0maperture_mask\u001b[0m\u001b[0;34m=\u001b[0m\u001b[0mtpf\u001b[0m\u001b[0;34m.\u001b[0m\u001b[0mpipeline_mask\u001b[0m\u001b[0;34m)\u001b[0m\u001b[0;34m\u001b[0m\u001b[0;34m\u001b[0m\u001b[0m\n\u001b[1;32m      4\u001b[0m \u001b[0mget_ipython\u001b[0m\u001b[0;34m(\u001b[0m\u001b[0;34m)\u001b[0m\u001b[0;34m.\u001b[0m\u001b[0mrun_line_magic\u001b[0m\u001b[0;34m(\u001b[0m\u001b[0;34m'matplotlib'\u001b[0m\u001b[0;34m,\u001b[0m \u001b[0;34m'inline'\u001b[0m\u001b[0;34m)\u001b[0m\u001b[0;34m\u001b[0m\u001b[0;34m\u001b[0m\u001b[0m\n\u001b[1;32m      5\u001b[0m \u001b[0mlc\u001b[0m\u001b[0;34m.\u001b[0m\u001b[0mscatter\u001b[0m\u001b[0;34m(\u001b[0m\u001b[0;34m)\u001b[0m\u001b[0;34m;\u001b[0m\u001b[0;34m\u001b[0m\u001b[0;34m\u001b[0m\u001b[0m\n",
      "\u001b[0;32m/opt/miniconda3/lib/python3.6/site-packages/lightkurve/utils.py\u001b[0m in \u001b[0;36mwrapper\u001b[0;34m(*args, **kwargs)\u001b[0m\n\u001b[1;32m    477\u001b[0m             \u001b[0msys\u001b[0m\u001b[0;34m.\u001b[0m\u001b[0mstdout\u001b[0m \u001b[0;34m=\u001b[0m \u001b[0mdevnull\u001b[0m\u001b[0;34m\u001b[0m\u001b[0;34m\u001b[0m\u001b[0m\n\u001b[1;32m    478\u001b[0m             \u001b[0;32mtry\u001b[0m\u001b[0;34m:\u001b[0m\u001b[0;34m\u001b[0m\u001b[0;34m\u001b[0m\u001b[0m\n\u001b[0;32m--> 479\u001b[0;31m                 \u001b[0;32mreturn\u001b[0m \u001b[0mf\u001b[0m\u001b[0;34m(\u001b[0m\u001b[0;34m*\u001b[0m\u001b[0margs\u001b[0m\u001b[0;34m,\u001b[0m \u001b[0;34m**\u001b[0m\u001b[0mkwargs\u001b[0m\u001b[0;34m)\u001b[0m\u001b[0;34m\u001b[0m\u001b[0;34m\u001b[0m\u001b[0m\n\u001b[0m\u001b[1;32m    480\u001b[0m             \u001b[0;31m# restore to default\u001b[0m\u001b[0;34m\u001b[0m\u001b[0;34m\u001b[0m\u001b[0;34m\u001b[0m\u001b[0m\n\u001b[1;32m    481\u001b[0m             \u001b[0;32mfinally\u001b[0m\u001b[0;34m:\u001b[0m\u001b[0;34m\u001b[0m\u001b[0;34m\u001b[0m\u001b[0m\n",
      "\u001b[0;32m/opt/miniconda3/lib/python3.6/site-packages/lightkurve/search.py\u001b[0m in \u001b[0;36mdownload\u001b[0;34m(self, quality_bitmask, download_dir, cutout_size)\u001b[0m\n\u001b[1;32m    236\u001b[0m                                   \u001b[0mquality_bitmask\u001b[0m\u001b[0;34m=\u001b[0m\u001b[0mquality_bitmask\u001b[0m\u001b[0;34m,\u001b[0m\u001b[0;34m\u001b[0m\u001b[0;34m\u001b[0m\u001b[0m\n\u001b[1;32m    237\u001b[0m                                   \u001b[0mdownload_dir\u001b[0m\u001b[0;34m=\u001b[0m\u001b[0mdownload_dir\u001b[0m\u001b[0;34m,\u001b[0m\u001b[0;34m\u001b[0m\u001b[0;34m\u001b[0m\u001b[0m\n\u001b[0;32m--> 238\u001b[0;31m                                   cutout_size=cutout_size)\n\u001b[0m\u001b[1;32m    239\u001b[0m \u001b[0;34m\u001b[0m\u001b[0m\n\u001b[1;32m    240\u001b[0m     \u001b[0;34m@\u001b[0m\u001b[0msuppress_stdout\u001b[0m\u001b[0;34m\u001b[0m\u001b[0;34m\u001b[0m\u001b[0m\n",
      "\u001b[0;32m/opt/miniconda3/lib/python3.6/site-packages/lightkurve/search.py\u001b[0m in \u001b[0;36m_download_one\u001b[0;34m(self, table, quality_bitmask, download_dir, cutout_size)\u001b[0m\n\u001b[1;32m    177\u001b[0m             \u001b[0mlog\u001b[0m\u001b[0;34m.\u001b[0m\u001b[0mdebug\u001b[0m\u001b[0;34m(\u001b[0m\u001b[0;34m\"Finished downloading.\"\u001b[0m\u001b[0;34m)\u001b[0m\u001b[0;34m\u001b[0m\u001b[0;34m\u001b[0m\u001b[0m\n\u001b[1;32m    178\u001b[0m             \u001b[0;31m# open() will determine filetype and return\u001b[0m\u001b[0;34m\u001b[0m\u001b[0;34m\u001b[0m\u001b[0;34m\u001b[0m\u001b[0m\n\u001b[0;32m--> 179\u001b[0;31m             \u001b[0;32mreturn\u001b[0m \u001b[0m_open_downloaded_file\u001b[0m\u001b[0;34m(\u001b[0m\u001b[0mpath\u001b[0m\u001b[0;34m,\u001b[0m \u001b[0mquality_bitmask\u001b[0m\u001b[0;34m=\u001b[0m\u001b[0mquality_bitmask\u001b[0m\u001b[0;34m)\u001b[0m\u001b[0;34m\u001b[0m\u001b[0;34m\u001b[0m\u001b[0m\n\u001b[0m\u001b[1;32m    180\u001b[0m \u001b[0;34m\u001b[0m\u001b[0m\n\u001b[1;32m    181\u001b[0m     \u001b[0;34m@\u001b[0m\u001b[0msuppress_stdout\u001b[0m\u001b[0;34m\u001b[0m\u001b[0;34m\u001b[0m\u001b[0m\n",
      "\u001b[0;32m/opt/miniconda3/lib/python3.6/site-packages/lightkurve/search.py\u001b[0m in \u001b[0;36m_open_downloaded_file\u001b[0;34m(path, **kwargs)\u001b[0m\n\u001b[1;32m   1050\u001b[0m         raise SearchError(\"Failed to open the downloaded file ({}). \"\n\u001b[1;32m   1051\u001b[0m                           \u001b[0;34m\"The file was likely only partially downloaded. \"\u001b[0m\u001b[0;34m\u001b[0m\u001b[0;34m\u001b[0m\u001b[0m\n\u001b[0;32m-> 1052\u001b[0;31m                           \"Please remove it from your disk and try again.\".format(path))\n\u001b[0m\u001b[1;32m   1053\u001b[0m \u001b[0;34m\u001b[0m\u001b[0m\n\u001b[1;32m   1054\u001b[0m \u001b[0;34m\u001b[0m\u001b[0m\n",
      "\u001b[0;31mSearchError\u001b[0m: Failed to open the downloaded file (/Users/sameersingh/.lightkurve-cache/mastDownload/Kepler/kplr006922244_lc_Q111111111111111111/kplr006922244-2010078095331_lpd-targ.fits.gz). The file was likely only partially downloaded. Please remove it from your disk and try again."
     ]
    }
   ],
   "source": [
    "from lightkurve import search_targetpixelfile\n",
    "tpf = search_targetpixelfile('KIC 6922244', quarter=4).download(\"kic.fits\")\n",
    "lc = tpf.to_lightcurve(aperture_mask=tpf.pipeline_mask)\n",
    "%matplotlib inline\n",
    "lc.scatter();"
   ]
  },
  {
   "cell_type": "code",
   "execution_count": null,
   "metadata": {},
   "outputs": [],
   "source": [
    "x = 23\n",
    "epsilon = 0.01\n",
    "step = 0.00001\n",
    "guess = 0.0\n",
    "\n",
    "while abs(guess**2-x) >= epsilon:\n",
    "    if guess <= x:\n",
    "        guess += step\n",
    "    else:\n",
    "        break\n",
    "\n",
    "if abs(guess**2 - x) >= epsilon:\n",
    "    print('failed')\n",
    "else:\n",
    "    print('succeeded: ' + str(guess))"
   ]
  },
  {
   "cell_type": "code",
   "execution_count": 14,
   "metadata": {},
   "outputs": [
    {
     "name": "stdout",
     "output_type": "stream",
     "text": [
      "succeeded: 4.794789000316301\n"
     ]
    }
   ],
   "source": [
    "for i in range(101:\n",
    "              if i%2 != 0L"
   ]
  },
  {
   "cell_type": "code",
   "execution_count": 133,
   "metadata": {},
   "outputs": [
    {
     "name": "stdout",
     "output_type": "stream",
     "text": [
      "2869\n"
     ]
    }
   ],
   "source": [
    "single_planet_times = []\n",
    "overall_fluxes = y_coordinates \n",
    "overall_times = x_coordinates\n",
    "for list_of_removal_targets in planets_to_remove:\n",
    "    filtered_times_per_class = []\n",
    "    removal_targets = list_of_removal_targets[0] # list_of_removal_targets but without period key\n",
    "    for a_dip_zone in removal_targets:\n",
    "        start_of_transit = a_dip_zone[0]\n",
    "        end_of_transit = a_dip_zone[6]\n",
    "        filtered_times_per_dip_zone = [time for time in overall_times \n",
    "                                       if not start_of_transit <= time <= end_of_transit] #filter for a single dip zone\n",
    "        single_planet_times.append(filtered_times)\n",
    "\n",
    "print(len(single_planet_times[2]) + len(single_planet_times[3]))"
   ]
  }
 ],
 "metadata": {
  "kernelspec": {
   "display_name": "Python 3",
   "language": "python",
   "name": "python3"
  },
  "language_info": {
   "codemirror_mode": {
    "name": "ipython",
    "version": 3
   },
   "file_extension": ".py",
   "mimetype": "text/x-python",
   "name": "python",
   "nbconvert_exporter": "python",
   "pygments_lexer": "ipython3",
   "version": "3.9.1"
  }
 },
 "nbformat": 4,
 "nbformat_minor": 4
}
