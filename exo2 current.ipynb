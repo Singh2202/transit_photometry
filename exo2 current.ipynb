{
 "cells": [
  {
   "cell_type": "code",
   "execution_count": 1,
   "metadata": {},
   "outputs": [
    {
     "name": "stdout",
     "output_type": "stream",
     "text": [
      "Tolerance Parameter (pct): 5\n",
      "[0.61296458199967674, 1.4915489950003575, 1.879789167999661, 2.0431688260000556, 2.6152551519999179, 2.7583321279998927, 21.555452195999806]\n"
     ]
    },
    {
     "ename": "NameError",
     "evalue": "name 'period_undershoot' is not defined",
     "output_type": "error",
     "traceback": [
      "\u001b[0;31m---------------------------------------------------------------------------\u001b[0m",
      "\u001b[0;31mNameError\u001b[0m                                 Traceback (most recent call last)",
      "\u001b[0;32m<ipython-input-1-f85bae2f98b5>\u001b[0m in \u001b[0;36m<module>\u001b[0;34m\u001b[0m\n\u001b[1;32m    106\u001b[0m     \u001b[0mperiod_undershoot\u001b[0m \u001b[0;34m=\u001b[0m \u001b[0;36m0.90\u001b[0m\u001b[0;34m*\u001b[0m\u001b[0mperiod_guess\u001b[0m\u001b[0;34m\u001b[0m\u001b[0;34m\u001b[0m\u001b[0m\n\u001b[1;32m    107\u001b[0m \u001b[0;34m\u001b[0m\u001b[0m\n\u001b[0;32m--> 108\u001b[0;31m \u001b[0mperiodogram\u001b[0m \u001b[0;34m=\u001b[0m \u001b[0mlc\u001b[0m\u001b[0;34m.\u001b[0m\u001b[0mto_periodogram\u001b[0m\u001b[0;34m(\u001b[0m\u001b[0mmethod\u001b[0m\u001b[0;34m=\u001b[0m\u001b[0;34m\"bls\"\u001b[0m\u001b[0;34m,\u001b[0m \u001b[0mperiod\u001b[0m\u001b[0;34m=\u001b[0m\u001b[0mnp\u001b[0m\u001b[0;34m.\u001b[0m\u001b[0marange\u001b[0m\u001b[0;34m(\u001b[0m\u001b[0mperiod_undershoot\u001b[0m\u001b[0;34m,\u001b[0m \u001b[0mperiod_overshoot\u001b[0m\u001b[0;34m,\u001b[0m \u001b[0;36m0.00001\u001b[0m\u001b[0;34m)\u001b[0m\u001b[0;34m)\u001b[0m\u001b[0;34m\u001b[0m\u001b[0;34m\u001b[0m\u001b[0m\n\u001b[0m\u001b[1;32m    109\u001b[0m \u001b[0mbest_fit_period\u001b[0m \u001b[0;34m=\u001b[0m \u001b[0mperiodogram\u001b[0m\u001b[0;34m.\u001b[0m\u001b[0mperiod_at_max_power\u001b[0m\u001b[0;34m\u001b[0m\u001b[0;34m\u001b[0m\u001b[0m\n\u001b[1;32m    110\u001b[0m \u001b[0mprint\u001b[0m\u001b[0;34m(\u001b[0m\u001b[0;34m'Best fit period: {:.3f}'\u001b[0m\u001b[0;34m.\u001b[0m\u001b[0mformat\u001b[0m\u001b[0;34m(\u001b[0m\u001b[0mbest_fit_period\u001b[0m\u001b[0;34m)\u001b[0m\u001b[0;34m)\u001b[0m\u001b[0;34m\u001b[0m\u001b[0;34m\u001b[0m\u001b[0m\n",
      "\u001b[0;31mNameError\u001b[0m: name 'period_undershoot' is not defined"
     ]
    },
    {
     "data": {
      "image/png": "[encoded data removed]",
      "text/plain": [
       "<Figure size 432x288 with 1 Axes>"
      ]
     },
     "metadata": {
      "needs_background": "light"
     },
     "output_type": "display_data"
    }
   ],
   "source": [
    "import numpy as np\n",
    "from keplersplinev2 import *\n",
    "import itertools\n",
    "import lightkurve as lk\n",
    "import matplotlib.pyplot as plt\n",
    "import seaborn\n",
    "%matplotlib inline\n",
    "\n",
    "with open(\"hlsp_k2sff_k2_lightcurve_201461473-c14_kepler_v1_llc-default-aper.txt\", \"r\") as f:\n",
    "    data = np.genfromtxt(f, delimiter=',', usecols=[0, 1], names=[\"time\", \"flux\"], encoding=\"Latin_1\")\n",
    "data = np.delete(data, 0)\n",
    "input_mask = np.ones_like(data[\"time\"], dtype=np.bool)\n",
    "input_mask[595:625] = False\n",
    "s, metadata = choosekeplersplinev2(data[\"time\"], data[\"flux\"], return_metadata=True)\n",
    "l = list(data[\"flux\"] / s)\n",
    "xs = list(data[\"time\"])\n",
    "lc = lk.LightCurve(xs, l)\n",
    "xy = [x for x in itertools.chain.from_iterable(itertools.zip_longest(xs, l)) if x]\n",
    "coords = [xy[x:x + 2] for x in range(0, len(xy), 2)]\n",
    "quartiles = np.percentile(l, [25, 50, 75])\n",
    "iqr = float(quartiles[2] - quartiles[0])\n",
    "outlier_threshold = float(1.5 * iqr) + float(quartiles[1])\n",
    "revised = [x for x in l if x < outlier_threshold]\n",
    "revised_x = []\n",
    "for x, y in coords:\n",
    "    if y in revised:\n",
    "        revised_x.append(x)\n",
    "xy2 = [x for x in itertools.chain.from_iterable(itertools.zip_longest(revised_x, revised)) if x]\n",
    "coords2 = [xy2[x:x + 2] for x in range(0, len(xy2), 2)]\n",
    "x_coordinates = [row[0] for row in coords2]\n",
    "y_coordinates = [row[1] for row in coords2]\n",
    "plt.scatter(x_coordinates, y_coordinates)\n",
    "list_of_lists = []\n",
    "for index in range(len(revised)):\n",
    "    if index > 19:\n",
    "        lower = index - 20\n",
    "        upper = index + 21\n",
    "        new_list = revised[lower:upper]\n",
    "        list_of_lists.append(new_list)\n",
    "    else:\n",
    "        new_list = revised[0:int(index + 21)]\n",
    "        list_of_lists.append(new_list)\n",
    "booleans = []\n",
    "for a, b in zip(revised, list_of_lists):\n",
    "    if a == min(b):\n",
    "        booleans.append(True)\n",
    "    else:\n",
    "        booleans.append(False)\n",
    "median_offsets = []\n",
    "for a, b in zip(booleans, list_of_lists):\n",
    "    if a is True:\n",
    "        offset = abs(np.median(b) - min(b))\n",
    "        median_offsets.append(offset)\n",
    "    else:\n",
    "        median_offsets.append(0)\n",
    "good_list = [x for x in median_offsets if x != 0]\n",
    "threshold = np.mean(good_list) + 0.8 * np.std(good_list)\n",
    "final_list = []\n",
    "for x in median_offsets:\n",
    "    if x >= threshold:\n",
    "        final_list.append(x)\n",
    "    else:\n",
    "        final_list.append(0)\n",
    "tuples = []\n",
    "for a, b in zip(final_list, revised):\n",
    "    if a != 0:\n",
    "        g = b\n",
    "        for x, y in coords2:\n",
    "            if y == g:\n",
    "                tuples.append((x, y))\n",
    "x_coords = []\n",
    "for x, y in tuples:\n",
    "    x_coords.append(x)\n",
    "minima_x = [element[0] for element in tuples]\n",
    "minima_y = [element[1] for element in tuples]\n",
    "plt.scatter(minima_x, minima_y)\n",
    "l = [x2 - x for x, x2 in zip(x_coords[: -1], x_coords[1:])]\n",
    "tolerance_parameter = float(input('Tolerance Parameter (pct): ')) / 100\n",
    "l2 = []\n",
    "for element_1 in l:\n",
    "    boolean = True\n",
    "    for element_2 in l2:\n",
    "        lower_bound = (1 - tolerance_parameter) * element_2\n",
    "        upper_bound = (1 + tolerance_parameter) * element_2\n",
    "        if lower_bound < element_1 < upper_bound:\n",
    "            boolean = False\n",
    "    if boolean is True:\n",
    "        l2.append(element_1)\n",
    "l2.sort()\n",
    "index_initial = 0\n",
    "while index_initial < len(l2):\n",
    "    index_after = index_initial + 1\n",
    "    while index_after < len(l2):\n",
    "        near_zero = tolerance_parameter * l2[index_initial]\n",
    "        near_smaller = (1 - tolerance_parameter) * l2[index_initial]\n",
    "        mod_val = l2[index_after] % l2[index_initial]\n",
    "        if mod_val < near_zero or mod_val >= near_smaller:\n",
    "            l2.remove(l2[index_after])\n",
    "        else:\n",
    "            index_after += 1\n",
    "    index_initial += 1\n",
    "print(l2)\n",
    "if len(l2) == 1:\n",
    "    period_guess = l2[0]\n",
    "    period_overshoot = 1.10*period_guess\n",
    "    period_undershoot = 0.90*period_guess\n",
    "    \n",
    "periodogram = lc.to_periodogram(method=\"bls\", period=np.arange(period_undershoot, period_overshoot, 0.00001))\n",
    "best_fit_period = periodogram.period_at_max_power\n",
    "print('Best fit period: {:.3f}'.format(best_fit_period))\n",
    "lc = lc.fold(best_fit_period)\n",
    "lc.scatter();\n"
   ]
  },
  {
   "cell_type": "code",
   "execution_count": 23,
   "metadata": {},
   "outputs": [
    {
     "ename": "SyntaxError",
     "evalue": "EOF while scanning triple-quoted string literal (<ipython-input-23-7cab48b9a37d>, line 1)",
     "output_type": "error",
     "traceback": [
      "\u001b[0;36m  File \u001b[0;32m\"<ipython-input-23-7cab48b9a37d>\"\u001b[0;36m, line \u001b[0;32m1\u001b[0m\n\u001b[0;31m    \"\"\"The code has succeeded in file: epic - 201613023, epic - 211525389,\u001b[0m\n\u001b[0m                                                                           ^\u001b[0m\n\u001b[0;31mSyntaxError\u001b[0m\u001b[0;31m:\u001b[0m EOF while scanning triple-quoted string literal\n"
     ]
    }
   ],
   "source": [
    "\"\"\"The code has succeeded in file: epic - 201613023, epic - 211525389, \n",
    "\n",
    "\n",
    "epic - 220194974 is very noisy, did not work;\n",
    "\n"
   ]
  },
  {
   "cell_type": "code",
   "execution_count": 1,
   "metadata": {
    "scrolled": true
   },
   "outputs": [
    {
     "name": "stdout",
     "output_type": "stream",
     "text": [
      "2969\n",
      "Tolerance Parameter (pct): 5\n"
     ]
    },
    {
     "data": {
      "image/png": "[encoded data removed]",
      "text/plain": [
       "<Figure size 864x432 with 1 Axes>"
      ]
     },
     "metadata": {
      "needs_background": "light"
     },
     "output_type": "display_data"
    }
   ],
   "source": [
    "import numpy as np\n",
    "from keplersplinev2 import *\n",
    "import itertools\n",
    "import lightkurve as lk\n",
    "import matplotlib.pyplot as plt\n",
    "%matplotlib inline\n",
    "plt.figure(figsize=(12,6))\n",
    "with open(\"hlsp_k2sff_k2_lightcurve_206082454-c03_kepler_v1_llc-default-aper.txt\", \"r\") as f:\n",
    "    data = np.genfromtxt(f, delimiter=',', usecols=[0, 1], names=[\"time\", \"flux\"], encoding=\"Latin_1\")\n",
    "data = np.delete(data, 0)\n",
    "input_mask = np.ones_like(data[\"time\"], dtype=np.bool)\n",
    "input_mask[595:625] = False\n",
    "s, metadata = choosekeplersplinev2(data[\"time\"], data[\"flux\"], return_metadata=True)\n",
    "l = list(data[\"flux\"] / s)\n",
    "h = 0\n",
    "index_list = []\n",
    "for point in l:\n",
    "    index_list.append(h)\n",
    "    h+=1 \n",
    "print(len(index_list))\n",
    "percentile = np.percentile(l, 2.75)\n",
    "                      \n",
    "xs = list(data[\"time\"])\n",
    "some_xs = xs\n",
    "#median_values = []\n",
    "#for x in range(len(xs)):\n",
    "    #median_values.append(median)\n",
    "lc = lk.LightCurve(xs, l)\n",
    "xy = [x for x in itertools.chain.from_iterable(itertools.zip_longest(xs, l)) if x]\n",
    "coords = [xy[x:x + 2] for x in range(0, len(xy), 2)]\n",
    "quartiles = np.percentile(l, [25, 50, 75])\n",
    "iqr = float(quartiles[2] - quartiles[0])\n",
    "outlier_threshold = float(1.5 * iqr) + float(quartiles[1])\n",
    "revised = [x for x in l if x < outlier_threshold]\n",
    "revised_x = []\n",
    "for x, y in coords:\n",
    "    if y in revised:\n",
    "        revised_x.append(x)\n",
    "xy2 = [x for x in itertools.chain.from_iterable(itertools.zip_longest(revised_x, revised)) if x]\n",
    "coords2 = [xy2[x:x + 2] for x in range(0, len(xy2), 2)]\n",
    "x_coordinates = [row[0] for row in coords2]\n",
    "y_coordinates = [row[1] for row in coords2]\n",
    "plt.scatter(x_coordinates, y_coordinates)\n",
    "list_of_lists = []\n",
    "for index in range(len(revised)):\n",
    "    if index > 19:\n",
    "        lower = index - 20\n",
    "        upper = index + 21\n",
    "        new_list = revised[lower:upper]\n",
    "        list_of_lists.append(new_list)\n",
    "    else:\n",
    "        new_list = revised[0:int(index + 21)]\n",
    "        list_of_lists.append(new_list)\n",
    "booleans = []\n",
    "for a, b in zip(revised, list_of_lists):\n",
    "    if a == min(b):\n",
    "        booleans.append(True)\n",
    "    else:\n",
    "        booleans.append(False)\n",
    "median_offsets = []\n",
    "for a, b in zip(booleans, list_of_lists):\n",
    "    if a is True:\n",
    "        offset = abs(np.median(b) - min(b))\n",
    "        median_offsets.append(offset)\n",
    "    else:\n",
    "        median_offsets.append(0)\n",
    "good_list = [x for x in median_offsets if x != 0]\n",
    "threshold = np.mean(good_list) + 0.8 * np.std(good_list)\n",
    "final_list = []\n",
    "for x in median_offsets:\n",
    "    if x >= threshold:\n",
    "        final_list.append(x)\n",
    "    else:\n",
    "        final_list.append(0)\n",
    "tuples = []\n",
    "\n",
    "for a, b in zip(final_list, revised):\n",
    "    if a != 0:\n",
    "        g = b\n",
    "        for index, (x, y) in enumerate(coords2):\n",
    "            if y == g:\n",
    "                a_tuple = (x, y, index)\n",
    "                tuples.append(a_tuple)\n",
    "\n",
    "x_coords = []\n",
    "for x, y, z in tuples:\n",
    "    x_coords.append(x)\n",
    "indices_of_minima = []\n",
    "for x, y, z in tuples:\n",
    "    indices_of_minima.append(z)\n",
    "minima_x = [element[0] for element in tuples]\n",
    "minima_y = [element[1] for element in tuples]\n",
    "plt.scatter(minima_x, minima_y)\n",
    "#plt.scatter(some_xs, median_values)\n",
    "l = [x2 - x for x, x2 in zip(x_coords[: -1], x_coords[1:])]\n",
    "tolerance_parameter = float(input('Tolerance Parameter (pct): ')) / 100\n",
    "l2 = []\n",
    "for element_1 in l:\n",
    "    boolean = True\n",
    "    for element_2 in l2:\n",
    "        lower_bound = (1 - tolerance_parameter) * element_2\n",
    "        upper_bound = (1 + tolerance_parameter) * element_2\n",
    "        if lower_bound < element_1 < upper_bound:\n",
    "            boolean = False\n",
    "    if boolean is True:\n",
    "        l2.append(element_1)\n",
    "l2.sort()\n",
    "index_initial = 0\n",
    "while index_initial < len(l2):\n",
    "    index_after = index_initial + 1\n",
    "    while index_after < len(l2):\n",
    "        near_zero = tolerance_parameter * l2[index_initial]\n",
    "        near_smaller = (1 - tolerance_parameter) * l2[index_initial]\n",
    "        mod_val = l2[index_after] % l2[index_initial]\n",
    "        if mod_val < near_zero or mod_val >= near_smaller:\n",
    "            l2.remove(l2[index_after])\n",
    "        else:\n",
    "            index_after += 1\n",
    "    index_initial += 1\n",
    "    \n",
    "\n",
    "\n",
    "number_of_planets = len(l2)\n",
    "if number_of_planets == 0:\n",
    "    print(\"NTP detected.\")\n",
    "#if number_of_planets == 1:\n",
    "    #do established procedures\n",
    "#else:\n",
    "    #do forthcoming procedures\n",
    "    \n",
    "#periodogram = lc.to_periodogram(method=\"bls\", period=np.arange(period_undershoot, period_overshoot, 0.00001))\n",
    "#best_fit_period = periodogram.period_at_max_power\n",
    "#print('Best fit period: {:.3f}'.format(best_fit_period))\n",
    "#lc = lc.fold(19.307044)\n",
    "#lc.scatter();\n",
    "#lc.to_csv(\"folded.csv\")\n",
    "\n",
    "dip_zones = []\n",
    "for x, y, z in tuples:\n",
    "    index_index = z - 1\n",
    "    while coords2[index_index][1] < percentile:\n",
    "        index_index = index_index - 1\n",
    "    first_x = coords2[index_index][0] \n",
    "    first_y = coords2[index_index][1]\n",
    "    first_index = index_index\n",
    "    index_index = z + 1\n",
    "    while coords2[index_index][1] < percentile:\n",
    "        index_index = index_index + 1\n",
    "    third_x = coords2[index_index][0] \n",
    "    third_y = coords2[index_index][1]\n",
    "    third_index = index_index\n",
    "    dip_zone = [first_x, first_y, first_index, x, y, z, third_x, third_y, third_index]\n",
    "    dip_zones.append(dip_zone)\n",
    "possible_durations = []\n",
    "for element in dip_zones:\n",
    "    first_guess = abs(element[6] - element[0])\n",
    "    possible_durations.append(first_guess)\n",
    "#print(possible_durations)\n",
    "#print(l2)\n",
    "#for x, y, z in tuples:\n",
    "    #for x1, y1 in coords2:"
   ]
  },
  {
   "cell_type": "code",
   "execution_count": 2,
   "metadata": {
    "scrolled": false
   },
   "outputs": [
    {
     "name": "stdout",
     "output_type": "stream",
     "text": [
      "[0.99859591938153613, 0.99952370911155686]\n",
      "[[(0.99866017148565545, 0.99859591938153613), (0.99866017148565545, 0.99952370911155686), (0.99956234254866916, 0.99859591938153613), (0.99956234254866916, 0.99952370911155686)], [(0.99956234254866916, 0.99859591938153613), (0.99956234254866916, 0.99952370911155686)]]\n",
      "[0.99859591938153613, 0.99952370911155686]\n",
      "[[2160.4282560649999, 1.000009085066204, 619, 2160.5304155150002, 0.99859591938153613, 624, 2160.6530067210001, 0.99988519379892471, 630], [2177.9382454199999, 0.99981520410864988, 1354, 2177.958676923, 0.99952370911155686, 1355, 2178.0199717300002, 1.0000483210697368, 1358], [2190.0541599940002, 1.0001232637019668, 1891, 2190.135886088, 0.99866017148565545, 1894, 2190.2993382720001, 1.0000638248780793, 1901], [2206.4811145439999, 1.0000503234905507, 2587, 2206.6037038509999, 0.99956234254866916, 2592, 2206.6445670879998, 1.000005168783225, 2594]]\n"
     ]
    }
   ],
   "source": [
    "l = []\n",
    "for thing in itertools.combinations(x_coords, 2):\n",
    "    l.append((abs(thing[1] - thing[0])))\n",
    "\n",
    "\n",
    "l2 = []\n",
    "for element_1 in l:\n",
    "    boolean = True\n",
    "    for element_2 in l2:\n",
    "        lower_bound = (1 - tolerance_parameter) * element_2\n",
    "        upper_bound = (1 + tolerance_parameter) * element_2\n",
    "        if lower_bound < element_1 < upper_bound:\n",
    "            boolean = False\n",
    "    if boolean is True:\n",
    "        l2.append(element_1)\n",
    "        \n",
    "l2.sort()\n",
    "\n",
    "index_initial = 0\n",
    "\n",
    "while index_initial < len(l2):\n",
    "    index_after = index_initial + 1\n",
    "    while index_after < len(l2):\n",
    "        near_zero = tolerance_parameter * l2[index_initial]\n",
    "        near_smaller = (1 - tolerance_parameter) * l2[index_initial]\n",
    "        mod_val = l2[index_after] % l2[index_initial]\n",
    "        if mod_val < near_zero or mod_val >= near_smaller:\n",
    "            l2.remove(l2[index_after])\n",
    "        else:\n",
    "            index_after += 1\n",
    "    index_initial += 1\n",
    "\n",
    "no_planets = False\n",
    "minima_found = False\n",
    "\n",
    "if len(l2) == 0:\n",
    "    no_planets = True\n",
    "\n",
    "if len(l2) == 1:\n",
    "    minima_found = True\n",
    "    number_of_planets = 1\n",
    "\n",
    "elif len(l2) > 1:\n",
    "    segregated_fluxes = []\n",
    "    min_fluxes = minima_y\n",
    "    for index1 in range(len(min_fluxes)):\n",
    "        for index2 in range(index1 + 1, len(min_fluxes)):\n",
    "            if .9999*min_fluxes[index2] < min_fluxes[index1] < 1.0001*min_fluxes[index2]:\n",
    "                segregated_fluxes.append((min_fluxes[index1], min_fluxes[index2]))\n",
    "            \n",
    "    number_of_planets = len(segregated_fluxes)\n",
    "    \n",
    "    filtered_fluxes = [a_flux for a_class in segregated_fluxes for a_flux in a_class] \n",
    "    unmatched_fluxes = []\n",
    "\n",
    "    for a_flux in min_fluxes:\n",
    "        if not a_flux in filtered_fluxes:\n",
    "            unmatched_fluxes.append(a_flux)\n",
    "\n",
    "    if 1 < number_of_planets < 9:\n",
    "        minima_found = True\n",
    "        \n",
    "    unique_fluxes = []\n",
    "    for element_1 in min_fluxes:\n",
    "        boolean = True\n",
    "        for element_2 in unique_fluxes:\n",
    "            lower_bound = (1 - .0001) * element_2\n",
    "            upper_bound = (1 + .0001) * element_2\n",
    "            if lower_bound < element_1 < upper_bound:\n",
    "                boolean = False\n",
    "        if boolean is True:\n",
    "            unique_fluxes.append(element_1)\n",
    "    \n",
    "    print(unique_fluxes)\n",
    "    \n",
    "    # We have the base list\n",
    "    # We have the total flux list\n",
    "    # We start by removing from the flux list whatever is already in the base list\n",
    "\n",
    "    for value in unique_fluxes:\n",
    "        if value in min_fluxes:\n",
    "            min_fluxes.remove(value)\n",
    "    split_list = []\n",
    "    c = list(itertools.product(min_fluxes, unique_fluxes))\n",
    "    for index in range(0, len(c), len(unique_fluxes)):\n",
    "        split_list.append(c[index : index + len(c)])\n",
    "    print((split_list))\n",
    "    print(unique_fluxes)\n",
    "    print(dip_zones)"
   ]
  },
  {
   "cell_type": "code",
   "execution_count": 3,
   "metadata": {
    "scrolled": true
   },
   "outputs": [
    {
     "name": "stdout",
     "output_type": "stream",
     "text": [
      "[[2160.4282560649999, 1.000009085066204, 619, 2160.5304155150002, 0.99859591938153613, 624, 2160.6530067210001, 0.99988519379892471, 630, 29.60547057299982], [2190.0541599940002, 1.0001232637019668, 1891, 2190.135886088, 0.99866017148565545, 1894, 2190.2993382720001, 1.0000638248780793, 1901, 29.60547057299982]]\n",
      "[[2177.9382454199999, 0.99981520410864988, 1354, 2177.958676923, 0.99952370911155686, 1355, 2178.0199717300002, 1.0000483210697368, 1358, 28.645026927999879], [2206.4811145439999, 1.0000503234905507, 2587, 2206.6037038509999, 0.99956234254866916, 2592, 2206.6445670879998, 1.000005168783225, 2594, 28.645026927999879]]\n"
     ]
    }
   ],
   "source": [
    "unique_fluxes = unique_fluxes\n",
    "#(unique_fluxes)\n",
    "# any value in unique_fluxes is considered to be a \"base case\"\n",
    "# unqcomputed in the cell above = [0.9994737591114569, 0.9985959193815361]\n",
    "\n",
    "# not sure why but min_fluxes isn't printing correctly, so here it is being declared again\n",
    "\n",
    "min_fluxes = list(set(min_fluxes) - set(unique_fluxes)) # remove the base cases in unique_fluxes from min_fluxes\n",
    "\n",
    "correspondence_list = [] #will contain tuples of flux and its closest base match, unsorted, unmatched\n",
    "for value in min_fluxes:\n",
    "    list_of_differences = [] #list to contain base case, value, and difference for each value in min_fluxes (two each)\n",
    "    for value2 in unique_fluxes: # value2 is base case\n",
    "        information = (value2, value, abs(value - value2)) #create tuple to avoid syntax errors when appending\n",
    "        list_of_differences.append(information) #list will have len(unique_fluxes) elements\n",
    "    list_of_differences = sorted(list_of_differences, key = lambda x: x[2]) #sort list by smallest abs(value - value2)\n",
    "    minimum = [list_of_differences[0][0], list_of_differences[0][1]]  #tuple of flux and the base case closest to it\n",
    "    correspondence_list.append(minimum)\n",
    "\n",
    "list_of_classes = [[] for n in range(len(unique_fluxes))] #create list of lists with as many lists as unique_fluxes\n",
    "\n",
    "for index in range(len(list_of_classes)): #populate each blank list with one unqiue flux\n",
    "    list_of_classes[index].append(unique_fluxes[index]) #double loop not necessary because len(nested_list) == len(unique_fluxes)\n",
    "\n",
    "\n",
    "for a_class in list_of_classes: #each list will correspond to one class of flux\n",
    "    for value in correspondence_list:\n",
    "        if value[0] in a_class: #if the base case for each flux is equal to the base case in the list\n",
    "            a_class.append(value[1]) #append to the flux class the non-base flux\n",
    "\n",
    "\n",
    "for a_tuple in tuples:\n",
    "    for a_class in list_of_classes:\n",
    "        for element in a_class: \n",
    "            if element == a_tuple[1]: # if a flux in the internal list is equal to the flux of a single tuple\n",
    "                a_class.append(a_tuple[0]) # append to the class list the x coord associated with that flux\n",
    "\n",
    "        \n",
    "for index in range(len(list_of_classes)):\n",
    "    list_of_classes[index] = list_of_classes[index][len(list_of_classes[index])//2:] #split internal class lists in half so that only the x_coords remain, b/c as many x_coords as fluxes by def\n",
    "\n",
    "classified_times = list_of_classes \n",
    "del list_of_classes #dont want the same object in memory twice ?\n",
    "\n",
    "\n",
    "classified_times = classified_times #redeclare because of IDE issues, or something\n",
    "numeric_period = []\n",
    "periods = [] #will house period_guesses to be fed into bls\n",
    "for time_list in classified_times:\n",
    "    differences = [] \n",
    "    for element in itertools.combinations(time_list, 2):\n",
    "        differences.append((abs(element[0] - element[1])))#append to differences the difference between the two elements of every possible tuple\n",
    "    periods.append((min(differences), time_list)) #choose smallest of differences as period and associate it with the time_list i.e. minima that generated it\n",
    "    numeric_period.append((min(differences)))\n",
    "\n",
    "for period_and_time_list in periods:\n",
    "    for dip_zone in dip_zones:\n",
    "        if dip_zone[3] in period_and_time_list[1]:\n",
    "            period = period_and_time_list[0]\n",
    "            dip_zone += (period,) #make the tenth element of a dip zone the period with which the time is associated (classification)\n",
    "            \n",
    "classified_dip_zones = [[] for n in range(len(periods))]\n",
    "for dip_zone in dip_zones:\n",
    "    for index in range(len(numeric_period)):\n",
    "        if dip_zone[9] == numeric_period[index]: #dip zone 9 is the period, numeric period houses the periods only\n",
    "            classified_dip_zones[index].append(dip_zone) #now each dip zone is in a list with its class\n",
    "            \n",
    "for element in classified_dip_zones:\n",
    "    print(element)"
   ]
  },
  {
   "cell_type": "code",
   "execution_count": 17,
   "metadata": {},
   "outputs": [
    {
     "name": "stdout",
     "output_type": "stream",
     "text": [
      "[[[2160.4282560649999, 1.000009085066204, 619, 2160.5304155150002, 0.99859591938153613, 624, 2160.6530067210001, 0.99988519379892471, 630, 29.60547057299982], [2190.0541599940002, 1.0001232637019668, 1891, 2190.135886088, 0.99866017148565545, 1894, 2190.2993382720001, 1.0000638248780793, 1901, 29.60547057299982]], [[2177.9382454199999, 0.99981520410864988, 1354, 2177.958676923, 0.99952370911155686, 1355, 2178.0199717300002, 1.0000483210697368, 1358, 28.645026927999879], [2206.4811145439999, 1.0000503234905507, 2587, 2206.6037038509999, 0.99956234254866916, 2592, 2206.6445670879998, 1.000005168783225, 2594, 28.645026927999879]]]\n"
     ]
    }
   ],
   "source": [
    "for a_class in classified_dip_zones:\n",
    "    target = a_class\n",
    "    period_key = target[0][9]\n",
    "    for dip_zone in a_class:\n",
    "        if dip_zone[9] != period_key:\n",
    "            print(dip_zone)"
   ]
  },
  {
   "cell_type": "code",
   "execution_count": 18,
   "metadata": {},
   "outputs": [
    {
     "name": "stdout",
     "output_type": "stream",
     "text": [
      "[[2160.4282560649999, 1.000009085066204, 619, 2160.5304155150002, 0.99859591938153613, 624, 2160.6530067210001, 0.99988519379892471, 630, 29.60547057299982], [2190.0541599940002, 1.0001232637019668, 1891, 2190.135886088, 0.99866017148565545, 1894, 2190.2993382720001, 1.0000638248780793, 1901, 29.60547057299982]]\n",
      "[[2177.9382454199999, 0.99981520410864988, 1354, 2177.958676923, 0.99952370911155686, 1355, 2178.0199717300002, 1.0000483210697368, 1358, 28.645026927999879], [2206.4811145439999, 1.0000503234905507, 2587, 2206.6037038509999, 0.99956234254866916, 2592, 2206.6445670879998, 1.000005168783225, 2594, 28.645026927999879]]\n"
     ]
    }
   ],
   "source": [
    "for a_class in classified_dip_zones:\n",
    "    print(a_class)"
   ]
  },
  {
   "cell_type": "code",
   "execution_count": null,
   "metadata": {},
   "outputs": [],
   "source": []
  },
  {
   "cell_type": "code",
   "execution_count": null,
   "metadata": {},
   "outputs": [],
   "source": []
  },
  {
   "cell_type": "code",
   "execution_count": null,
   "metadata": {},
   "outputs": [],
   "source": []
  },
  {
   "cell_type": "code",
   "execution_count": null,
   "metadata": {},
   "outputs": [],
   "source": []
  },
  {
   "cell_type": "code",
   "execution_count": null,
   "metadata": {},
   "outputs": [],
   "source": []
  },
  {
   "cell_type": "code",
   "execution_count": null,
   "metadata": {},
   "outputs": [],
   "source": [
    "è"
   ]
  },
  {
   "cell_type": "code",
   "execution_count": null,
   "metadata": {},
   "outputs": [],
   "source": []
  },
  {
   "cell_type": "code",
   "execution_count": null,
   "metadata": {},
   "outputs": [],
   "source": [
    "sample = [1,2,3,4,5,6]\n",
    "sample[]\n"
   ]
  },
  {
   "cell_type": "code",
   "execution_count": 50,
   "metadata": {},
   "outputs": [
    {
     "name": "stdout",
     "output_type": "stream",
     "text": [
      "[[1200, 1220, 1239.5, 0.9500001, 0.9500002, 0.9500003], [1400, 1450, 1500.1, 0.9986765, 0.97889, 0.9986654, 0.9986768], [1324, 1400, 1476.1, 0.97886, 0.9986765, 0.97889, 0.978849], [1323, 1325, 1.000008, 1.000009]]\n"
     ]
    }
   ],
   "source": [
    "min_fluxes = [row[1] for row in tuples]\n",
    "print(classified_times)  \n",
    "for time_list in classified_times:\n",
    "    for time in time_list:\n",
    "        for coordinate in tuples:\n",
    "            if time == coordinate[0]:\n",
    "                time_list.append(coordinate[1])\n",
    "            "
   ]
  },
  {
   "cell_type": "code",
   "execution_count": null,
   "metadata": {},
   "outputs": [],
   "source": []
  },
  {
   "cell_type": "code",
   "execution_count": 105,
   "metadata": {},
   "outputs": [
    {
     "name": "stdout",
     "output_type": "stream",
     "text": [
      "[[2160.5304155150002, 2190.135886088], [2177.958676923, 2206.6037038509999]]\n"
     ]
    }
   ],
   "source": []
  },
  {
   "cell_type": "code",
   "execution_count": 112,
   "metadata": {},
   "outputs": [
    {
     "name": "stdout",
     "output_type": "stream",
     "text": [
      "<itertools.combinations object at 0x7fa2e41912c0>\n",
      "<itertools.combinations object at 0x7fa2e4191cc0>\n"
     ]
    }
   ],
   "source": []
  },
  {
   "cell_type": "code",
   "execution_count": 120,
   "metadata": {},
   "outputs": [
    {
     "name": "stdout",
     "output_type": "stream",
     "text": [
      "[29.60547057299982, 28.645026927999879]\n"
     ]
    }
   ],
   "source": []
  },
  {
   "cell_type": "code",
   "execution_count": null,
   "metadata": {},
   "outputs": [],
   "source": [
    "Ω"
   ]
  },
  {
   "cell_type": "code",
   "execution_count": null,
   "metadata": {},
   "outputs": [],
   "source": [
    "h = [[1,2,3], [4,5,6]]\n",
    "period = []\n",
    "for g in h:\n",
    "    blank = []\n",
    "    for element in itertools.combinations(g, 2):\n",
    "        blank.append((abs(element[0] - element[1])))\n",
    "    period.append(min(blank))\n",
    "    \n",
    "print(period)"
   ]
  },
  {
   "cell_type": "code",
   "execution_count": null,
   "metadata": {},
   "outputs": [],
   "source": []
  },
  {
   "cell_type": "code",
   "execution_count": null,
   "metadata": {},
   "outputs": [],
   "source": []
  },
  {
   "cell_type": "code",
   "execution_count": null,
   "metadata": {},
   "outputs": [],
   "source": []
  },
  {
   "cell_type": "code",
   "execution_count": null,
   "metadata": {},
   "outputs": [],
   "source": []
  },
  {
   "cell_type": "code",
   "execution_count": null,
   "metadata": {},
   "outputs": [],
   "source": []
  },
  {
   "cell_type": "code",
   "execution_count": null,
   "metadata": {},
   "outputs": [],
   "source": []
  },
  {
   "cell_type": "code",
   "execution_count": null,
   "metadata": {},
   "outputs": [],
   "source": []
  },
  {
   "cell_type": "code",
   "execution_count": null,
   "metadata": {},
   "outputs": [],
   "source": []
  },
  {
   "cell_type": "code",
   "execution_count": null,
   "metadata": {},
   "outputs": [],
   "source": []
  },
  {
   "cell_type": "code",
   "execution_count": null,
   "metadata": {},
   "outputs": [],
   "source": []
  },
  {
   "cell_type": "code",
   "execution_count": null,
   "metadata": {},
   "outputs": [],
   "source": []
  },
  {
   "cell_type": "code",
   "execution_count": null,
   "metadata": {},
   "outputs": [],
   "source": []
  },
  {
   "cell_type": "code",
   "execution_count": null,
   "metadata": {},
   "outputs": [],
   "source": []
  },
  {
   "cell_type": "code",
   "execution_count": null,
   "metadata": {},
   "outputs": [],
   "source": []
  },
  {
   "cell_type": "code",
   "execution_count": null,
   "metadata": {},
   "outputs": [],
   "source": []
  },
  {
   "cell_type": "code",
   "execution_count": null,
   "metadata": {},
   "outputs": [],
   "source": []
  },
  {
   "cell_type": "code",
   "execution_count": 42,
   "metadata": {},
   "outputs": [
    {
     "name": "stdout",
     "output_type": "stream",
     "text": [
      "[4, 3, 5]\n"
     ]
    },
    {
     "ename": "NameError",
     "evalue": "name 'x' is not defined",
     "output_type": "error",
     "traceback": [
      "\u001b[0;31m---------------------------------------------------------------------------\u001b[0m",
      "\u001b[0;31mNameError\u001b[0m                                 Traceback (most recent call last)",
      "\u001b[0;32m<ipython-input-42-d4ba78fa09d0>\u001b[0m in \u001b[0;36m<module>\u001b[0;34m\u001b[0m\n\u001b[1;32m      3\u001b[0m \u001b[0;32mdel\u001b[0m \u001b[0mx\u001b[0m\u001b[0;34m\u001b[0m\u001b[0;34m\u001b[0m\u001b[0m\n\u001b[1;32m      4\u001b[0m \u001b[0mprint\u001b[0m\u001b[0;34m(\u001b[0m\u001b[0my\u001b[0m\u001b[0;34m)\u001b[0m\u001b[0;34m\u001b[0m\u001b[0;34m\u001b[0m\u001b[0m\n\u001b[0;32m----> 5\u001b[0;31m \u001b[0mprint\u001b[0m\u001b[0;34m(\u001b[0m\u001b[0mx\u001b[0m\u001b[0;34m)\u001b[0m\u001b[0;34m\u001b[0m\u001b[0;34m\u001b[0m\u001b[0m\n\u001b[0m",
      "\u001b[0;31mNameError\u001b[0m: name 'x' is not defined"
     ]
    }
   ],
   "source": [
    "x = [4,3,5]\n",
    "y = x\n",
    "del x\n",
    "print(y)\n",
    "print(x)"
   ]
  },
  {
   "cell_type": "code",
   "execution_count": null,
   "metadata": {},
   "outputs": [],
   "source": []
  },
  {
   "cell_type": "code",
   "execution_count": null,
   "metadata": {},
   "outputs": [],
   "source": []
  },
  {
   "cell_type": "code",
   "execution_count": null,
   "metadata": {},
   "outputs": [],
   "source": []
  },
  {
   "cell_type": "code",
   "execution_count": null,
   "metadata": {},
   "outputs": [],
   "source": []
  },
  {
   "cell_type": "code",
   "execution_count": null,
   "metadata": {},
   "outputs": [],
   "source": []
  },
  {
   "cell_type": "code",
   "execution_count": null,
   "metadata": {},
   "outputs": [],
   "source": [
    "[1,2,]"
   ]
  },
  {
   "cell_type": "code",
   "execution_count": 1,
   "metadata": {},
   "outputs": [
    {
     "name": "stdout",
     "output_type": "stream",
     "text": [
      "[0, 1, 2, 3, 4, 5, 6, 7, 8, 9, 10, 11, 12, 13, 14, 15, 16, 17, 18, 19, 20, 21, 22, 23, 24, 25, 26, 27, 28, 29, 30, 31, 32, 33, 34, 35, 36, 37, 38, 39, 40, 41, 42, 43, 44, 45, 46, 47, 48, 49, 50, 51, 52, 53, 54, 55, 56, 57, 58, 59, 60, 61, 62, 63, 64, 65, 66, 67, 68, 69, 70, 71, 72, 73, 74, 75, 76, 77, 78, 79, 80, 81, 82, 83, 84, 85, 86, 87, 88, 89, 90, 91, 92, 93, 94, 95, 96, 97, 98, 99, 100, 101, 102, 103, 104, 105, 106, 107, 108, 109, 110, 111, 112, 113, 114, 115, 116, 117, 118, 119, 120, 121, 122, 123, 124, 125, 126, 127, 128, 129, 130, 131, 132, 133, 134, 135, 136, 137, 138, 139, 140, 141, 142, 143, 144, 145, 146, 147, 148, 149, 150, 151, 152, 153, 154, 155, 156, 157, 158, 159, 160, 161, 162, 163, 164, 165, 166, 167, 168, 169, 170, 171, 172, 173, 174, 175, 176, 177, 178, 179, 180, 181, 182, 183, 184, 185, 186, 187, 188, 189, 190, 191, 192, 193, 194, 195, 196, 197, 198, 199, 200, 201, 202, 203, 204, 205, 206, 207, 208, 209, 210, 211, 212, 213, 214, 215, 216, 217, 218, 219, 220, 221, 222, 223, 224, 225, 226, 227, 228, 229, 230, 231, 232, 233, 234, 235, 236, 237, 238, 239, 240, 241, 242, 243, 244, 245, 246, 247, 248, 249, 250, 251, 252, 253, 254, 255, 256, 257, 258, 259, 260, 261, 262, 263, 264, 265, 266, 267, 268, 269, 270, 271, 272, 273, 274, 275, 276, 277, 278, 279, 280, 281, 282, 283, 284, 285, 286, 287, 288, 289, 290, 291, 292, 293, 294, 295, 296, 297, 298, 299, 300, 301, 302, 303, 304, 305, 306, 307, 308, 309, 310, 311, 312, 313, 314, 315, 316, 317, 318, 319, 320, 321, 322, 323, 324, 325, 326, 327, 328, 329, 330, 331, 332, 333, 334, 335, 336, 337, 338, 339, 340, 341, 342, 343, 344, 345, 346, 347, 348, 349, 350, 351, 352, 353, 354, 355, 356, 357, 358, 359, 360, 361, 362, 363, 364, 365, 366, 367, 368, 369, 370, 371, 372, 373, 374, 375, 376, 377, 378, 379, 380, 381, 382, 383, 384, 385, 386, 387, 388, 389, 390, 391, 392, 393, 394, 395, 396, 397, 398, 399, 400, 401, 402, 403, 404, 405, 406, 407, 408, 409, 410, 411, 412, 413, 414, 415, 416, 417, 418, 419, 420, 421, 422, 423, 424, 425, 426, 427, 428, 429, 430, 431, 432, 433, 434, 435, 436, 437, 438, 439, 440, 441, 442, 443, 444, 445, 446, 447, 448, 449, 450, 451, 452, 453, 454, 455, 456, 457, 458, 459, 460, 461, 462, 463, 464, 465, 466, 467, 468, 469, 470, 471, 472, 473, 474, 475, 476, 477, 478, 479, 480, 481, 482, 483, 484, 485, 486, 487, 488, 489, 490, 491, 492, 493, 494, 495, 496, 497, 498, 499, 500, 501, 502, 503, 504, 505, 506, 507, 508, 509, 510, 511, 512, 513, 514, 515, 516, 517, 518, 519, 520, 521, 522, 523, 524, 525, 526, 527, 528, 529, 530, 531, 532, 533, 534, 535, 536, 537, 538, 539, 540, 541, 542, 543, 544, 545, 546, 547, 548, 549, 550, 551, 552, 553, 554, 555, 556, 557, 558, 559, 560, 561, 562, 563, 564, 565, 566, 567, 568, 569, 570, 571, 572, 573, 574, 575, 576, 577, 578, 579, 580, 581, 582, 583, 584, 585, 586, 587, 588, 589, 590, 591, 592, 593, 594, 595, 596, 597, 598, 599, 600, 601, 602, 603, 604, 605, 606, 607, 608, 609, 610, 611, 612, 613, 614, 615, 616, 617, 618, 619, 620, 621, 622, 623, 624, 625, 626, 627, 628, 629, 630, 631, 632, 633, 634, 635, 636, 637, 638, 639, 640, 641, 642, 643, 644, 645, 646, 647, 648, 649, 650, 651, 652, 653, 654, 655, 656, 657, 658, 659, 660, 661, 662, 663, 664, 665, 666, 667, 668, 669, 670, 671, 672, 673, 674, 675, 676, 677, 678, 679, 680, 681, 682, 683, 684, 685, 686, 687, 688, 689, 690, 691, 692, 693, 694, 695, 696, 697, 698, 699, 700, 701, 702, 703, 704, 705, 706, 707, 708, 709, 710, 711, 712, 713, 714, 715, 716, 717, 718, 719, 720, 721, 722, 723, 724, 725, 726, 727, 728, 729, 730, 731, 732, 733, 734, 735, 736, 737, 738, 739, 740, 741, 742, 743, 744, 745, 746, 747, 748, 749, 750, 751, 752, 753, 754, 755, 756, 757, 758, 759, 760, 761, 762, 763, 764, 765, 766, 767, 768, 769, 770, 771, 772, 773, 774, 775, 776, 777, 778, 779, 780, 781, 782, 783, 784, 785, 786, 787, 788, 789, 790, 791, 792, 793, 794, 795, 796, 797, 798, 799, 800, 801, 802, 803, 804, 805, 806, 807, 808, 809, 810, 811, 812, 813, 814, 815, 816, 817, 818, 819, 820, 821, 822, 823, 824, 825, 826, 827, 828, 829, 830, 831, 832, 833, 834, 835, 836, 837, 838, 839, 840, 841, 842, 843, 844, 845, 846, 847, 848, 849, 850, 851, 852, 853, 854, 855, 856, 857, 858, 859, 860, 861, 862, 863, 864, 865, 866, 867, 868, 869, 870, 871, 872, 873, 874, 875, 876, 877, 878, 879, 880, 881, 882, 883, 884, 885, 886, 887, 888, 889, 890, 891, 892, 893, 894, 895, 896, 897, 898, 899, 900, 901, 902, 903, 904, 905, 906, 907, 908, 909, 910, 911, 912, 913, 914, 915, 916, 917, 918, 919, 920, 921, 922, 923, 924, 925, 926, 927, 928, 929, 930, 931, 932, 933, 934, 935, 936, 937, 938, 939, 940, 941, 942, 943, 944, 945, 946, 947, 948, 949, 950, 951, 952, 953, 954, 955, 956, 957, 958, 959, 960, 961, 962, 963, 964, 965, 966, 967, 968, 969, 970, 971, 972, 973, 974, 975, 976, 977, 978, 979, 980, 981, 982, 983, 984, 985, 986, 987, 988, 989, 990, 991, 992, 993, 994, 995, 996, 997, 998, 999, 1000, 1001, 1002, 1003, 1004, 1005, 1006, 1007, 1008, 1009, 1010, 1011, 1012, 1013, 1014, 1015, 1016, 1017, 1018, 1019, 1020, 1021, 1022, 1023, 1024, 1025, 1026, 1027, 1028, 1029, 1030, 1031, 1032, 1033, 1034, 1035, 1036, 1037, 1038, 1039, 1040, 1041, 1042, 1043, 1044, 1045, 1046, 1047, 1048, 1049, 1050, 1051, 1052, 1053, 1054, 1055, 1056, 1057, 1058, 1059, 1060, 1061, 1062, 1063, 1064, 1065, 1066, 1067, 1068, 1069, 1070, 1071, 1072, 1073, 1074, 1075, 1076, 1077, 1078, 1079, 1080, 1081, 1082, 1083, 1084, 1085, 1086, 1087, 1088, 1089, 1090, 1091, 1092, 1093, 1094, 1095, 1096, 1097, 1098, 1099, 1100, 1101, 1102, 1103, 1104, 1105, 1106, 1107, 1108, 1109, 1110, 1111, 1112, 1113, 1114, 1115, 1116, 1117, 1118, 1119, 1120, 1121, 1122, 1123, 1124, 1125, 1126, 1127, 1128, 1129, 1130, 1131, 1132, 1133, 1134, 1135, 1136, 1137, 1138, 1139, 1140, 1141, 1142, 1143, 1144, 1145, 1146, 1147, 1148, 1149, 1150, 1151, 1152, 1153, 1154, 1155, 1156, 1157, 1158, 1159, 1160, 1161, 1162, 1163, 1164, 1165, 1166, 1167, 1168, 1169, 1170, 1171, 1172, 1173, 1174, 1175, 1176, 1177, 1178, 1179, 1180, 1181, 1182, 1183, 1184, 1185, 1186, 1187, 1188, 1189, 1190, 1191, 1192, 1193, 1194, 1195, 1196, 1197, 1198, 1199, 1200, 1201, 1202, 1203, 1204, 1205, 1206, 1207, 1208, 1209, 1210, 1211, 1212, 1213, 1214, 1215, 1216, 1217, 1218, 1219, 1220, 1221, 1222, 1223, 1224, 1225, 1226, 1227, 1228, 1229, 1230, 1231, 1232, 1233, 1234, 1235, 1236, 1237, 1238, 1239, 1240, 1241, 1242, 1243, 1244, 1245, 1246, 1247, 1248, 1249, 1250, 1251, 1252, 1253, 1254, 1255, 1256, 1257, 1258, 1259, 1260, 1261, 1262, 1263, 1264, 1265, 1266, 1267, 1268, 1269, 1270, 1271, 1272, 1273, 1274, 1275, 1276, 1277, 1278, 1279, 1280, 1281, 1282, 1283, 1284, 1285, 1286, 1287, 1288, 1289, 1290, 1291, 1292, 1293, 1294, 1295, 1296, 1297, 1298, 1299, 1300, 1301, 1302, 1303, 1304, 1305, 1306, 1307, 1308, 1309, 1310, 1311, 1312, 1313, 1314, 1315, 1316, 1317, 1318, 1319, 1320, 1321, 1322, 1323, 1324, 1325, 1326, 1327, 1328, 1329, 1330, 1331, 1332, 1333, 1334, 1335, 1336, 1337, 1338, 1339, 1340, 1341, 1342, 1343, 1344, 1345, 1346, 1347, 1348, 1349, 1350, 1351, 1352, 1353, 1354, 1355, 1356, 1357, 1358, 1359, 1360, 1361, 1362, 1363, 1364, 1365, 1366, 1367, 1368, 1369, 1370, 1371, 1372, 1373, 1374, 1375, 1376, 1377, 1378, 1379, 1380, 1381, 1382, 1383, 1384, 1385, 1386, 1387, 1388, 1389, 1390, 1391, 1392, 1393, 1394, 1395, 1396, 1397, 1398, 1399, 1400, 1401, 1402, 1403, 1404, 1405, 1406, 1407, 1408, 1409, 1410, 1411, 1412, 1413, 1414, 1415, 1416, 1417, 1418, 1419, 1420, 1421, 1422, 1423, 1424, 1425, 1426, 1427, 1428, 1429, 1430, 1431, 1432, 1433, 1434, 1435, 1436, 1437, 1438, 1439, 1440, 1441, 1442, 1443, 1444, 1445, 1446, 1447, 1448, 1449, 1450, 1451, 1452, 1453, 1454, 1455, 1456, 1457, 1458, 1459, 1460, 1461, 1462, 1463, 1464, 1465, 1466, 1467, 1468, 1469, 1470, 1471, 1472, 1473, 1474, 1475, 1476, 1477, 1478, 1479, 1480, 1481, 1482, 1483, 1484, 1485, 1486, 1487, 1488, 1489, 1490, 1491, 1492, 1493, 1494, 1495, 1496, 1497, 1498, 1499, 1500, 1501, 1502, 1503, 1504, 1505, 1506, 1507, 1508, 1509, 1510, 1511, 1512, 1513, 1514, 1515, 1516, 1517, 1518, 1519, 1520, 1521, 1522, 1523, 1524, 1525, 1526, 1527, 1528, 1529, 1530, 1531, 1532, 1533, 1534, 1535, 1536, 1537, 1538, 1539, 1540, 1541, 1542, 1543, 1544, 1545, 1546, 1547, 1548, 1549, 1550, 1551, 1552, 1553, 1554, 1555, 1556, 1557, 1558, 1559, 1560, 1561, 1562, 1563, 1564, 1565, 1566, 1567, 1568, 1569, 1570, 1571, 1572, 1573, 1574, 1575, 1576, 1577, 1578, 1579, 1580, 1581, 1582, 1583, 1584, 1585, 1586, 1587, 1588, 1589, 1590, 1591, 1592, 1593, 1594, 1595, 1596, 1597, 1598, 1599, 1600, 1601, 1602, 1603, 1604, 1605, 1606, 1607, 1608, 1609, 1610, 1611, 1612, 1613, 1614, 1615, 1616, 1617, 1618, 1619, 1620, 1621, 1622, 1623, 1624, 1625, 1626, 1627, 1628, 1629, 1630, 1631, 1632, 1633, 1634, 1635, 1636, 1637, 1638, 1639, 1640, 1641, 1642, 1643, 1644, 1645, 1646, 1647, 1648, 1649, 1650, 1651, 1652, 1653, 1654, 1655, 1656, 1657, 1658, 1659, 1660, 1661, 1662, 1663, 1664, 1665, 1666, 1667, 1668, 1669, 1670, 1671, 1672, 1673, 1674, 1675, 1676, 1677, 1678, 1679, 1680, 1681, 1682, 1683, 1684, 1685, 1686, 1687, 1688, 1689, 1690, 1691, 1692, 1693, 1694, 1695, 1696, 1697, 1698, 1699, 1700, 1701, 1702, 1703, 1704, 1705, 1706, 1707, 1708, 1709, 1710, 1711, 1712, 1713, 1714, 1715, 1716, 1717, 1718, 1719, 1720, 1721, 1722, 1723, 1724, 1725, 1726, 1727, 1728, 1729, 1730, 1731, 1732, 1733, 1734, 1735, 1736, 1737, 1738, 1739, 1740, 1741, 1742, 1743, 1744, 1745, 1746, 1747, 1748, 1749, 1750, 1751, 1752, 1753, 1754, 1755, 1756, 1757, 1758, 1759, 1760, 1761, 1762, 1763, 1764, 1765, 1766, 1767, 1768, 1769, 1770, 1771, 1772, 1773, 1774, 1775, 1776, 1777, 1778, 1779, 1780, 1781, 1782, 1783, 1784, 1785, 1786, 1787, 1788, 1789, 1790, 1791, 1792, 1793, 1794, 1795, 1796, 1797, 1798, 1799, 1800, 1801, 1802, 1803, 1804, 1805, 1806, 1807, 1808, 1809, 1810, 1811, 1812, 1813, 1814, 1815, 1816, 1817, 1818, 1819, 1820, 1821, 1822, 1823, 1824, 1825, 1826, 1827, 1828, 1829, 1830, 1831, 1832, 1833, 1834, 1835, 1836, 1837, 1838, 1839, 1840, 1841, 1842, 1843, 1844, 1845, 1846, 1847, 1848, 1849, 1850, 1851, 1852, 1853, 1854, 1855, 1856, 1857, 1858, 1859, 1860, 1861, 1862, 1863, 1864, 1865, 1866, 1867, 1868, 1869, 1870, 1871, 1872, 1873, 1874, 1875, 1876, 1877, 1878, 1879, 1880, 1881, 1882, 1883, 1884, 1885, 1886, 1887, 1888, 1889, 1890, 1891, 1892, 1893, 1894, 1895, 1896, 1897, 1898, 1899, 1900, 1901, 1902, 1903, 1904, 1905, 1906, 1907, 1908, 1909, 1910, 1911, 1912, 1913, 1914, 1915, 1916, 1917, 1918, 1919, 1920, 1921, 1922, 1923, 1924, 1925, 1926, 1927, 1928, 1929, 1930, 1931, 1932, 1933, 1934, 1935, 1936, 1937, 1938, 1939, 1940, 1941, 1942, 1943, 1944, 1945, 1946, 1947, 1948, 1949, 1950, 1951, 1952, 1953, 1954, 1955, 1956, 1957, 1958, 1959, 1960, 1961, 1962, 1963, 1964, 1965, 1966, 1967, 1968, 1969, 1970, 1971, 1972, 1973, 1974, 1975, 1976, 1977, 1978, 1979, 1980, 1981, 1982, 1983, 1984, 1985, 1986, 1987, 1988, 1989, 1990, 1991, 1992, 1993, 1994, 1995, 1996, 1997, 1998, 1999, 2000, 2001, 2002, 2003, 2004, 2005, 2006, 2007, 2008, 2009, 2010, 2011, 2012, 2013, 2014, 2015, 2016, 2017, 2018, 2019, 2020, 2021, 2022, 2023, 2024, 2025, 2026, 2027, 2028, 2029, 2030, 2031, 2032, 2033, 2034, 2035, 2036, 2037, 2038, 2039, 2040, 2041, 2042, 2043, 2044, 2045, 2046, 2047, 2048, 2049, 2050, 2051, 2052, 2053, 2054, 2055, 2056, 2057, 2058, 2059, 2060, 2061, 2062, 2063, 2064, 2065, 2066, 2067, 2068, 2069, 2070, 2071, 2072, 2073, 2074, 2075, 2076, 2077, 2078, 2079, 2080, 2081, 2082, 2083, 2084, 2085, 2086, 2087, 2088, 2089, 2090, 2091, 2092, 2093, 2094, 2095, 2096, 2097, 2098, 2099, 2100, 2101, 2102, 2103, 2104, 2105, 2106, 2107, 2108, 2109, 2110, 2111, 2112, 2113, 2114, 2115, 2116, 2117, 2118, 2119, 2120, 2121, 2122, 2123, 2124, 2125, 2126, 2127, 2128, 2129, 2130, 2131, 2132, 2133, 2134, 2135, 2136, 2137, 2138, 2139, 2140, 2141, 2142, 2143, 2144, 2145, 2146, 2147, 2148, 2149, 2150, 2151, 2152, 2153, 2154, 2155, 2156, 2157, 2158, 2159, 2160, 2161, 2162, 2163, 2164, 2165, 2166, 2167, 2168, 2169, 2170, 2171, 2172, 2173, 2174, 2175, 2176, 2177, 2178, 2179, 2180, 2181, 2182, 2183, 2184, 2185, 2186, 2187, 2188, 2189, 2190, 2191, 2192, 2193, 2194, 2195, 2196, 2197, 2198, 2199, 2200, 2201, 2202, 2203, 2204, 2205, 2206, 2207, 2208, 2209, 2210, 2211, 2212, 2213, 2214, 2215, 2216, 2217, 2218, 2219, 2220, 2221, 2222, 2223, 2224, 2225, 2226, 2227, 2228, 2229, 2230, 2231, 2232, 2233, 2234, 2235, 2236, 2237, 2238, 2239, 2240, 2241, 2242, 2243, 2244, 2245, 2246, 2247, 2248, 2249, 2250, 2251, 2252, 2253, 2254, 2255, 2256, 2257, 2258, 2259, 2260, 2261, 2262, 2263, 2264, 2265, 2266, 2267, 2268, 2269, 2270, 2271, 2272, 2273, 2274, 2275, 2276, 2277, 2278, 2279, 2280, 2281, 2282, 2283, 2284, 2285, 2286, 2287, 2288, 2289, 2290, 2291, 2292, 2293, 2294, 2295, 2296, 2297, 2298, 2299, 2300, 2301, 2302, 2303, 2304, 2305, 2306, 2307, 2308, 2309, 2310, 2311, 2312, 2313, 2314, 2315, 2316, 2317, 2318, 2319, 2320, 2321, 2322, 2323, 2324, 2325, 2326, 2327, 2328, 2329, 2330, 2331, 2332, 2333, 2334, 2335, 2336, 2337, 2338, 2339, 2340, 2341, 2342, 2343, 2344, 2345, 2346, 2347, 2348, 2349, 2350, 2351, 2352, 2353, 2354, 2355, 2356, 2357, 2358, 2359, 2360, 2361, 2362, 2363, 2364, 2365, 2366, 2367, 2368, 2369, 2370, 2371, 2372, 2373, 2374, 2375, 2376, 2377, 2378, 2379, 2380, 2381, 2382, 2383, 2384, 2385, 2386, 2387, 2388, 2389, 2390, 2391, 2392, 2393, 2394, 2395, 2396, 2397, 2398, 2399, 2400, 2401, 2402, 2403, 2404, 2405, 2406, 2407, 2408, 2409, 2410, 2411, 2412, 2413, 2414, 2415, 2416, 2417, 2418, 2419, 2420, 2421, 2422, 2423, 2424, 2425, 2426, 2427, 2428, 2429, 2430, 2431, 2432, 2433, 2434, 2435, 2436, 2437, 2438, 2439, 2440, 2441, 2442, 2443, 2444, 2445, 2446, 2447, 2448, 2449, 2450, 2451, 2452, 2453, 2454, 2455, 2456, 2457, 2458, 2459, 2460, 2461, 2462, 2463, 2464, 2465, 2466, 2467, 2468, 2469, 2470, 2471, 2472, 2473, 2474, 2475, 2476, 2477, 2478, 2479, 2480, 2481, 2482, 2483, 2484, 2485, 2486, 2487, 2488, 2489, 2490, 2491, 2492, 2493, 2494, 2495, 2496, 2497, 2498, 2499, 2500, 2501, 2502, 2503, 2504, 2505, 2506, 2507, 2508, 2509, 2510, 2511, 2512, 2513, 2514, 2515, 2516, 2517, 2518, 2519, 2520, 2521, 2522, 2523, 2524, 2525, 2526, 2527, 2528, 2529, 2530, 2531, 2532, 2533, 2534, 2535, 2536, 2537, 2538, 2539, 2540, 2541, 2542, 2543, 2544, 2545, 2546, 2547, 2548, 2549, 2550, 2551, 2552, 2553, 2554, 2555, 2556, 2557, 2558, 2559, 2560, 2561, 2562, 2563, 2564, 2565, 2566, 2567, 2568, 2569, 2570, 2571, 2572, 2573, 2574, 2575, 2576, 2577, 2578, 2579, 2580, 2581, 2582, 2583, 2584, 2585, 2586, 2587, 2588, 2589, 2590, 2591, 2592, 2593, 2594, 2595, 2596, 2597, 2598, 2599, 2600, 2601, 2602, 2603, 2604, 2605, 2606, 2607, 2608, 2609, 2610, 2611, 2612, 2613, 2614, 2615, 2616, 2617, 2618, 2619, 2620, 2621, 2622, 2623, 2624, 2625, 2626, 2627, 2628, 2629, 2630, 2631, 2632, 2633, 2634, 2635, 2636, 2637, 2638, 2639, 2640, 2641, 2642, 2643, 2644, 2645, 2646, 2647, 2648, 2649, 2650, 2651, 2652, 2653, 2654, 2655, 2656, 2657, 2658, 2659, 2660, 2661, 2662, 2663, 2664, 2665, 2666, 2667, 2668, 2669, 2670, 2671, 2672, 2673, 2674, 2675, 2676, 2677, 2678, 2679, 2680, 2681, 2682, 2683, 2684, 2685, 2686, 2687, 2688, 2689, 2690, 2691, 2692, 2693, 2694, 2695, 2696, 2697, 2698, 2699, 2700, 2701, 2702, 2703, 2704, 2705, 2706, 2707, 2708, 2709, 2710, 2711, 2712, 2713, 2714, 2715, 2716, 2717, 2718, 2719, 2720, 2721, 2722, 2723, 2724, 2725, 2726, 2727, 2728, 2729, 2730, 2731, 2732, 2733, 2734, 2735, 2736, 2737, 2738, 2739, 2740, 2741, 2742, 2743, 2744, 2745, 2746, 2747, 2748, 2749, 2750, 2751, 2752, 2753, 2754, 2755, 2756, 2757, 2758, 2759, 2760, 2761, 2762, 2763, 2764, 2765, 2766, 2767, 2768, 2769, 2770, 2771, 2772, 2773, 2774, 2775, 2776, 2777, 2778, 2779, 2780, 2781, 2782, 2783, 2784, 2785, 2786, 2787, 2788, 2789, 2790, 2791, 2792, 2793, 2794, 2795, 2796, 2797, 2798, 2799, 2800, 2801, 2802, 2803, 2804, 2805, 2806, 2807, 2808, 2809, 2810, 2811, 2812, 2813, 2814, 2815, 2816, 2817, 2818, 2819, 2820, 2821, 2822, 2823, 2824, 2825, 2826, 2827, 2828, 2829, 2830, 2831, 2832, 2833, 2834, 2835, 2836, 2837, 2838, 2839, 2840, 2841, 2842, 2843, 2844, 2845, 2846, 2847, 2848, 2849, 2850, 2851, 2852, 2853, 2854, 2855, 2856, 2857, 2858, 2859, 2860, 2861, 2862, 2863, 2864, 2865, 2866, 2867, 2868, 2869, 2870, 2871, 2872, 2873, 2874, 2875, 2876, 2877, 2878, 2879, 2880, 2881, 2882, 2883, 2884, 2885, 2886, 2887, 2888, 2889, 2890, 2891, 2892, 2893, 2894, 2895, 2896, 2897, 2898, 2899, 2900, 2901, 2902, 2903, 2904, 2905, 2906, 2907, 2908, 2909, 2910, 2911, 2912, 2913, 2914, 2915, 2916, 2917, 2918, 2919, 2920, 2921, 2922, 2923, 2924, 2925, 2926, 2927, 2928, 2929, 2930, 2931, 2932, 2933, 2934, 2935, 2936, 2937, 2938, 2939, 2940, 2941, 2942, 2943, 2944, 2945, 2946, 2947, 2948, 2949, 2950, 2951, 2952, 2953, 2954, 2955, 2956, 2957, 2958, 2959, 2960, 2961, 2962, 2963, 2964, 2965, 2966, 2967, 2968, 2969, 2970, 2971, 2972, 2973, 2974, 2975, 2976, 2977, 2978, 2979, 2980, 2981, 2982, 2983, 2984, 2985, 2986, 2987, 2988, 2989, 2990, 2991, 2992, 2993, 2994, 2995, 2996, 2997, 2998, 2999, 3000, 3001, 3002, 3003, 3004, 3005, 3006, 3007, 3008, 3009, 3010, 3011, 3012, 3013, 3014, 3015, 3016, 3017, 3018, 3019, 3020, 3021, 3022, 3023, 3024, 3025, 3026, 3027, 3028, 3029, 3030, 3031, 3032, 3033, 3034, 3035, 3036, 3037, 3038, 3039, 3040, 3041, 3042, 3043, 3044, 3045, 3046, 3047, 3048, 3049, 3050, 3051, 3052, 3053, 3054, 3055, 3056, 3057, 3058, 3059, 3060, 3061, 3062, 3063, 3064, 3065, 3066, 3067, 3068, 3069, 3070, 3071, 3072, 3073, 3074, 3075, 3076, 3077, 3078, 3079, 3080, 3081, 3082, 3083, 3084, 3085, 3086, 3087, 3088, 3089, 3090, 3091, 3092, 3093, 3094, 3095, 3096, 3097, 3098, 3099, 3100, 3101, 3102, 3103, 3104, 3105, 3106, 3107, 3108, 3109, 3110, 3111, 3112, 3113, 3114, 3115, 3116, 3117, 3118, 3119, 3120, 3121, 3122, 3123, 3124, 3125, 3126, 3127, 3128, 3129, 3130, 3131, 3132, 3133, 3134, 3135, 3136, 3137, 3138, 3139, 3140, 3141, 3142, 3143, 3144, 3145, 3146, 3147, 3148, 3149, 3150, 3151, 3152, 3153, 3154, 3155, 3156, 3157, 3158, 3159, 3160, 3161, 3162, 3163, 3164, 3165, 3166, 3167, 3168, 3169, 3170, 3171, 3172, 3173, 3174, 3175, 3176, 3177, 3178, 3179, 3180, 3181, 3182, 3183, 3184, 3185, 3186, 3187, 3188, 3189, 3190, 3191, 3192, 3193, 3194, 3195, 3196, 3197, 3198, 3199, 3200, 3201, 3202, 3203, 3204, 3205, 3206, 3207, 3208, 3209, 3210, 3211, 3212, 3213, 3214, 3215, 3216, 3217, 3218, 3219, 3220, 3221, 3222, 3223, 3224, 3225, 3226, 3227, 3228, 3229, 3230, 3231, 3232, 3233, 3234, 3235, 3236, 3237, 3238, 3239, 3240, 3241, 3242, 3243, 3244, 3245, 3246, 3247, 3248, 3249, 3250, 3251, 3252, 3253, 3254, 3255, 3256, 3257, 3258, 3259, 3260, 3261, 3262, 3263, 3264, 3265, 3266, 3267, 3268, 3269, 3270, 3271, 3272, 3273, 3274, 3275, 3276, 3277, 3278, 3279, 3280, 3281, 3282, 3283, 3284, 3285, 3286]\n",
      "3287\n"
     ]
    },
    {
     "ename": "NameError",
     "evalue": "name 'median' is not defined",
     "output_type": "error",
     "traceback": [
      "\u001b[0;31m---------------------------------------------------------------------------\u001b[0m",
      "\u001b[0;31mNameError\u001b[0m                                 Traceback (most recent call last)",
      "\u001b[0;32m<ipython-input-1-4848d30b57bb>\u001b[0m in \u001b[0;36m<module>\u001b[0;34m\u001b[0m\n\u001b[1;32m     26\u001b[0m \u001b[0mmedian_values\u001b[0m \u001b[0;34m=\u001b[0m \u001b[0;34m[\u001b[0m\u001b[0;34m]\u001b[0m\u001b[0;34m\u001b[0m\u001b[0;34m\u001b[0m\u001b[0m\n\u001b[1;32m     27\u001b[0m \u001b[0;32mfor\u001b[0m \u001b[0mx\u001b[0m \u001b[0;32min\u001b[0m \u001b[0mrange\u001b[0m\u001b[0;34m(\u001b[0m\u001b[0mlen\u001b[0m\u001b[0;34m(\u001b[0m\u001b[0mxs\u001b[0m\u001b[0;34m)\u001b[0m\u001b[0;34m)\u001b[0m\u001b[0;34m:\u001b[0m\u001b[0;34m\u001b[0m\u001b[0;34m\u001b[0m\u001b[0m\n\u001b[0;32m---> 28\u001b[0;31m     \u001b[0mmedian_values\u001b[0m\u001b[0;34m.\u001b[0m\u001b[0mappend\u001b[0m\u001b[0;34m(\u001b[0m\u001b[0mmedian\u001b[0m\u001b[0;34m)\u001b[0m\u001b[0;34m\u001b[0m\u001b[0;34m\u001b[0m\u001b[0m\n\u001b[0m\u001b[1;32m     29\u001b[0m \u001b[0mlc\u001b[0m \u001b[0;34m=\u001b[0m \u001b[0mlk\u001b[0m\u001b[0;34m.\u001b[0m\u001b[0mLightCurve\u001b[0m\u001b[0;34m(\u001b[0m\u001b[0mxs\u001b[0m\u001b[0;34m,\u001b[0m \u001b[0ml\u001b[0m\u001b[0;34m)\u001b[0m\u001b[0;34m\u001b[0m\u001b[0;34m\u001b[0m\u001b[0m\n\u001b[1;32m     30\u001b[0m \u001b[0mxy\u001b[0m \u001b[0;34m=\u001b[0m \u001b[0;34m[\u001b[0m\u001b[0mx\u001b[0m \u001b[0;32mfor\u001b[0m \u001b[0mx\u001b[0m \u001b[0;32min\u001b[0m \u001b[0mitertools\u001b[0m\u001b[0;34m.\u001b[0m\u001b[0mchain\u001b[0m\u001b[0;34m.\u001b[0m\u001b[0mfrom_iterable\u001b[0m\u001b[0;34m(\u001b[0m\u001b[0mitertools\u001b[0m\u001b[0;34m.\u001b[0m\u001b[0mzip_longest\u001b[0m\u001b[0;34m(\u001b[0m\u001b[0mxs\u001b[0m\u001b[0;34m,\u001b[0m \u001b[0ml\u001b[0m\u001b[0;34m)\u001b[0m\u001b[0;34m)\u001b[0m \u001b[0;32mif\u001b[0m \u001b[0mx\u001b[0m\u001b[0;34m]\u001b[0m\u001b[0;34m\u001b[0m\u001b[0;34m\u001b[0m\u001b[0m\n",
      "\u001b[0;31mNameError\u001b[0m: name 'median' is not defined"
     ]
    },
    {
     "data": {
      "text/plain": [
       "<Figure size 864x432 with 0 Axes>"
      ]
     },
     "metadata": {},
     "output_type": "display_data"
    }
   ],
   "source": [
    "import numpy as np\n",
    "from keplersplinev2 import *\n",
    "import itertools\n",
    "import lightkurve as lk\n",
    "import matplotlib.pyplot as plt\n",
    "%matplotlib inline\n",
    "plt.figure(figsize=(12,6))\n",
    "with open(\"hlsp_k2sff_k2_lightcurve_201613023-c01_kepler_v1_llc-default-aper.txt\", \"r\") as f:\n",
    "    data = np.genfromtxt(f, delimiter=',', usecols=[0, 1], names=[\"time\", \"flux\"], encoding=\"Latin_1\")\n",
    "data = np.delete(data, 0)\n",
    "input_mask = np.ones_like(data[\"time\"], dtype=np.bool)\n",
    "input_mask[595:625] = False\n",
    "s, metadata = choosekeplersplinev2(data[\"time\"], data[\"flux\"], return_metadata=True)\n",
    "l = list(data[\"flux\"] / s)\n",
    "h = 0\n",
    "index_list = []\n",
    "for point in l:\n",
    "    index_list.append(h)\n",
    "    h+=1\n",
    "print(index_list)\n",
    "print(len(index_list))\n",
    "percentile = np.percentile(l, 2.75)\n",
    "                      \n",
    "xs = list(data[\"time\"])\n",
    "some_xs = xs\n",
    "median_values = []\n",
    "for x in range(len(xs)):\n",
    "    median_values.append(median)\n",
    "lc = lk.LightCurve(xs, l)\n",
    "xy = [x for x in itertools.chain.from_iterable(itertools.zip_longest(xs, l)) if x]\n",
    "coords = [xy[x:x + 2] for x in range(0, len(xy), 2)]\n",
    "quartiles = np.percentile(l, [25, 50, 75])\n",
    "iqr = float(quartiles[2] - quartiles[0])\n",
    "outlier_threshold = float(1.5 * iqr) + float(quartiles[1])\n",
    "revised = [x for x in l if x < outlier_threshold]\n",
    "revised_x = []\n",
    "for x, y in coords:\n",
    "    if y in revised:\n",
    "        revised_x.append(x)\n",
    "xy2 = [x for x in itertools.chain.from_iterable(itertools.zip_longest(revised_x, revised)) if x]\n",
    "coords2 = [xy2[x:x + 2] for x in range(0, len(xy2), 2)]\n",
    "x_coordinates = [row[0] for row in coords2]\n",
    "y_coordinates = [row[1] for row in coords2]\n",
    "plt.scatter(x_coordinates, y_coordinates)\n",
    "list_of_lists = []\n",
    "for index in range(len(revised)):\n",
    "    if index > 19:\n",
    "        lower = index - 20\n",
    "        upper = index + 21\n",
    "        new_list = revised[lower:upper]\n",
    "        list_of_lists.append(new_list)\n",
    "    else:\n",
    "        new_list = revised[0:int(index + 21)]\n",
    "        list_of_lists.append(new_list)\n",
    "booleans = []\n",
    "for a, b in zip(revised, list_of_lists):\n",
    "    if a == min(b):\n",
    "        booleans.append(True)\n",
    "    else:\n",
    "        booleans.append(False)\n",
    "median_offsets = []\n",
    "for a, b in zip(booleans, list_of_lists):\n",
    "    if a is True:\n",
    "        offset = abs(np.median(b) - min(b))\n",
    "        median_offsets.append(offset)\n",
    "    else:\n",
    "        median_offsets.append(0)\n",
    "good_list = [x for x in median_offsets if x != 0]\n",
    "threshold = np.mean(good_list) + 0.8 * np.std(good_list)\n",
    "final_list = []\n",
    "for x in median_offsets:\n",
    "    if x >= threshold:\n",
    "        final_list.append(x)\n",
    "    else:\n",
    "        final_list.append(0)\n",
    "tuples = []\n",
    "for a, b in zip(final_list, revised):\n",
    "    if a != 0:\n",
    "        g = b\n",
    "        for x, y in coords2:\n",
    "            if y == g:\n",
    "                tuples.append((x, y))\n",
    "                tuples.append(coords2.index(x))\n",
    "print(tuples)\n",
    "x_coords = []\n",
    "for x, y in tuples:\n",
    "    x_coords.append(x)\n",
    "minima_x = [element[0] for element in tuples]\n",
    "minima_y = [element[1] for element in tuples]\n",
    "print(len(tuples))\n",
    "plt.scatter(minima_x, minima_y)\n",
    "plt.scatter(some_xs, median_values)\n",
    "l = [x2 - x for x, x2 in zip(x_coords[: -1], x_coords[1:])]\n",
    "tolerance_parameter = float(input('Tolerance Parameter (pct): ')) / 100\n",
    "l2 = []\n",
    "for element_1 in l:\n",
    "    boolean = True\n",
    "    for element_2 in l2:\n",
    "        lower_bound = (1 - tolerance_parameter) * element_2\n",
    "        upper_bound = (1 + tolerance_parameter) * element_2\n",
    "        if lower_bound < element_1 < upper_bound:\n",
    "            boolean = False\n",
    "    if boolean is True:\n",
    "        l2.append(element_1)\n",
    "l2.sort()\n",
    "index_initial = 0\n",
    "while index_initial < len(l2):\n",
    "    index_after = index_initial + 1\n",
    "    while index_after < len(l2):\n",
    "        near_zero = tolerance_parameter * l2[index_initial]\n",
    "        near_smaller = (1 - tolerance_parameter) * l2[index_initial]\n",
    "        mod_val = l2[index_after] % l2[index_initial]\n",
    "        if mod_val < near_zero or mod_val >= near_smaller:\n",
    "            l2.remove(l2[index_after])\n",
    "        else:\n",
    "            index_after += 1\n",
    "    index_initial += 1\n",
    "print(l2)\n",
    "if len(l2) == 1:\n",
    "    period_guess = l2[0]\n",
    "    period_overshoot = 1.10*period_guess\n",
    "    period_undershoot = 0.90*period_guess\n",
    "    \n",
    "periodogram = lc.to_periodogram(method=\"bls\", period=np.arange(period_undershoot, period_overshoot, 0.00001))\n",
    "best_fit_period = periodogram.period_at_max_power\n",
    "print('Best fit period: {:.3f}'.format(best_fit_period))\n",
    "lc = lc.fold(best_fit_period)\n",
    "lc.scatter();\n",
    "lc.to_csv(\"folded.csv\")\n",
    "\n",
    "\"\"\"import csv\n",
    "from collections import defaultdict\n",
    "columns = defaultdict(list)\n",
    "with open('folded.csv') as f:\n",
    "    reader = csv.DictReader(f) \n",
    "    for row in reader: \n",
    "        for (k,v) in row.items():\n",
    "            columns[k].append(v) \n",
    "median = np.median(columns['flux'])\n",
    "\"\"\"\n",
    "\"\"\"percentile = percentile\n",
    "list_of_indices = []\n",
    "for point in tuples:\n",
    "   list_of_indices.append(xs.index(point[0]))\n",
    "for index in list_of_indices:\n",
    "    for index_2 in index_list:\n",
    "        while \"\"\""
   ]
  },
  {
   "cell_type": "code",
   "execution_count": 4,
   "metadata": {},
   "outputs": [
    {
     "ename": "SearchError",
     "evalue": "Failed to open the downloaded file (/Users/sameersingh/.lightkurve-cache/mastDownload/Kepler/kplr006922244_lc_Q111111111111111111/kplr006922244-2010078095331_lpd-targ.fits.gz). The file was likely only partially downloaded. Please remove it from your disk and try again.",
     "output_type": "error",
     "traceback": [
      "\u001b[0;31m---------------------------------------------------------------------------\u001b[0m",
      "\u001b[0;31mKeyError\u001b[0m                                  Traceback (most recent call last)",
      "\u001b[0;32m/opt/miniconda3/lib/python3.6/site-packages/lightkurve/utils.py\u001b[0m in \u001b[0;36mcreate_quality_mask\u001b[0;34m(cls, quality_array, bitmask)\u001b[0m\n\u001b[1;32m     85\u001b[0m             \u001b[0;32mtry\u001b[0m\u001b[0;34m:\u001b[0m\u001b[0;34m\u001b[0m\u001b[0;34m\u001b[0m\u001b[0m\n\u001b[0;32m---> 86\u001b[0;31m                 \u001b[0mbitmask\u001b[0m \u001b[0;34m=\u001b[0m \u001b[0mcls\u001b[0m\u001b[0;34m.\u001b[0m\u001b[0mOPTIONS\u001b[0m\u001b[0;34m[\u001b[0m\u001b[0mbitmask\u001b[0m\u001b[0;34m]\u001b[0m\u001b[0;34m\u001b[0m\u001b[0;34m\u001b[0m\u001b[0m\n\u001b[0m\u001b[1;32m     87\u001b[0m             \u001b[0;32mexcept\u001b[0m \u001b[0mKeyError\u001b[0m\u001b[0;34m:\u001b[0m\u001b[0;34m\u001b[0m\u001b[0;34m\u001b[0m\u001b[0m\n",
      "\u001b[0;31mKeyError\u001b[0m: 'kic.fits'",
      "\nDuring handling of the above exception, another exception occurred:\n",
      "\u001b[0;31mValueError\u001b[0m                                Traceback (most recent call last)",
      "\u001b[0;32m/opt/miniconda3/lib/python3.6/site-packages/lightkurve/search.py\u001b[0m in \u001b[0;36m_open_downloaded_file\u001b[0;34m(path, **kwargs)\u001b[0m\n\u001b[1;32m   1047\u001b[0m     \u001b[0;32mtry\u001b[0m\u001b[0;34m:\u001b[0m\u001b[0;34m\u001b[0m\u001b[0;34m\u001b[0m\u001b[0m\n\u001b[0;32m-> 1048\u001b[0;31m         \u001b[0;32mreturn\u001b[0m \u001b[0mopen\u001b[0m\u001b[0;34m(\u001b[0m\u001b[0mpath\u001b[0m\u001b[0;34m,\u001b[0m \u001b[0;34m**\u001b[0m\u001b[0mkwargs\u001b[0m\u001b[0;34m)\u001b[0m\u001b[0;34m\u001b[0m\u001b[0;34m\u001b[0m\u001b[0m\n\u001b[0m\u001b[1;32m   1049\u001b[0m     \u001b[0;32mexcept\u001b[0m \u001b[0mValueError\u001b[0m\u001b[0;34m:\u001b[0m\u001b[0;34m\u001b[0m\u001b[0;34m\u001b[0m\u001b[0m\n",
      "\u001b[0;32m/opt/miniconda3/lib/python3.6/site-packages/lightkurve/search.py\u001b[0m in \u001b[0;36mopen\u001b[0;34m(path_or_url, **kwargs)\u001b[0m\n\u001b[1;32m   1035\u001b[0m     \u001b[0;32mif\u001b[0m \u001b[0mfiletype\u001b[0m \u001b[0;32mis\u001b[0m \u001b[0;32mnot\u001b[0m \u001b[0;32mNone\u001b[0m\u001b[0;34m:\u001b[0m\u001b[0;34m\u001b[0m\u001b[0;34m\u001b[0m\u001b[0m\n\u001b[0;32m-> 1036\u001b[0;31m         \u001b[0;32mreturn\u001b[0m \u001b[0mgetattr\u001b[0m\u001b[0;34m(\u001b[0m\u001b[0m__import__\u001b[0m\u001b[0;34m(\u001b[0m\u001b[0;34m'lightkurve'\u001b[0m\u001b[0;34m)\u001b[0m\u001b[0;34m,\u001b[0m \u001b[0mfiletype\u001b[0m\u001b[0;34m)\u001b[0m\u001b[0;34m(\u001b[0m\u001b[0mpath_or_url\u001b[0m\u001b[0;34m,\u001b[0m \u001b[0;34m**\u001b[0m\u001b[0mkwargs\u001b[0m\u001b[0;34m)\u001b[0m\u001b[0;34m\u001b[0m\u001b[0;34m\u001b[0m\u001b[0m\n\u001b[0m\u001b[1;32m   1037\u001b[0m     \u001b[0;32melse\u001b[0m\u001b[0;34m:\u001b[0m\u001b[0;34m\u001b[0m\u001b[0;34m\u001b[0m\u001b[0m\n",
      "\u001b[0;32m/opt/miniconda3/lib/python3.6/site-packages/lightkurve/targetpixelfile.py\u001b[0m in \u001b[0;36m__init__\u001b[0;34m(self, path, quality_bitmask, **kwargs)\u001b[0m\n\u001b[1;32m   1117\u001b[0m                                 \u001b[0mquality_array\u001b[0m\u001b[0;34m=\u001b[0m\u001b[0mself\u001b[0m\u001b[0;34m.\u001b[0m\u001b[0mhdu\u001b[0m\u001b[0;34m[\u001b[0m\u001b[0;36m1\u001b[0m\u001b[0;34m]\u001b[0m\u001b[0;34m.\u001b[0m\u001b[0mdata\u001b[0m\u001b[0;34m[\u001b[0m\u001b[0;34m'QUALITY'\u001b[0m\u001b[0;34m]\u001b[0m\u001b[0;34m,\u001b[0m\u001b[0;34m\u001b[0m\u001b[0;34m\u001b[0m\u001b[0m\n\u001b[0;32m-> 1118\u001b[0;31m                                 bitmask=quality_bitmask)\n\u001b[0m\u001b[1;32m   1119\u001b[0m \u001b[0;34m\u001b[0m\u001b[0m\n",
      "\u001b[0;32m/opt/miniconda3/lib/python3.6/site-packages/lightkurve/utils.py\u001b[0m in \u001b[0;36mcreate_quality_mask\u001b[0;34m(cls, quality_array, bitmask)\u001b[0m\n\u001b[1;32m     90\u001b[0m                                  \u001b[0;34m\"expected one of {}\"\u001b[0m\u001b[0;34m\u001b[0m\u001b[0;34m\u001b[0m\u001b[0m\n\u001b[0;32m---> 91\u001b[0;31m                                  \"\".format(bitmask, valid_options))\n\u001b[0m\u001b[1;32m     92\u001b[0m         \u001b[0;31m# The bitmask is applied using the bitwise AND operator\u001b[0m\u001b[0;34m\u001b[0m\u001b[0;34m\u001b[0m\u001b[0;34m\u001b[0m\u001b[0m\n",
      "\u001b[0;31mValueError\u001b[0m: quality_bitmask='kic.fits' is not supported, expected one of ('none', 'default', 'hard', 'hardest')",
      "\nDuring handling of the above exception, another exception occurred:\n",
      "\u001b[0;31mSearchError\u001b[0m                               Traceback (most recent call last)",
      "\u001b[0;32m<ipython-input-4-a39cee0a2811>\u001b[0m in \u001b[0;36m<module>\u001b[0;34m\u001b[0m\n\u001b[1;32m      1\u001b[0m \u001b[0;32mfrom\u001b[0m \u001b[0mlightkurve\u001b[0m \u001b[0;32mimport\u001b[0m \u001b[0msearch_targetpixelfile\u001b[0m\u001b[0;34m\u001b[0m\u001b[0;34m\u001b[0m\u001b[0m\n\u001b[0;32m----> 2\u001b[0;31m \u001b[0mtpf\u001b[0m \u001b[0;34m=\u001b[0m \u001b[0msearch_targetpixelfile\u001b[0m\u001b[0;34m(\u001b[0m\u001b[0;34m'KIC 6922244'\u001b[0m\u001b[0;34m,\u001b[0m \u001b[0mquarter\u001b[0m\u001b[0;34m=\u001b[0m\u001b[0;36m4\u001b[0m\u001b[0;34m)\u001b[0m\u001b[0;34m.\u001b[0m\u001b[0mdownload\u001b[0m\u001b[0;34m(\u001b[0m\u001b[0;34m\"kic.fits\"\u001b[0m\u001b[0;34m)\u001b[0m\u001b[0;34m\u001b[0m\u001b[0;34m\u001b[0m\u001b[0m\n\u001b[0m\u001b[1;32m      3\u001b[0m \u001b[0mlc\u001b[0m \u001b[0;34m=\u001b[0m \u001b[0mtpf\u001b[0m\u001b[0;34m.\u001b[0m\u001b[0mto_lightcurve\u001b[0m\u001b[0;34m(\u001b[0m\u001b[0maperture_mask\u001b[0m\u001b[0;34m=\u001b[0m\u001b[0mtpf\u001b[0m\u001b[0;34m.\u001b[0m\u001b[0mpipeline_mask\u001b[0m\u001b[0;34m)\u001b[0m\u001b[0;34m\u001b[0m\u001b[0;34m\u001b[0m\u001b[0m\n\u001b[1;32m      4\u001b[0m \u001b[0mget_ipython\u001b[0m\u001b[0;34m(\u001b[0m\u001b[0;34m)\u001b[0m\u001b[0;34m.\u001b[0m\u001b[0mrun_line_magic\u001b[0m\u001b[0;34m(\u001b[0m\u001b[0;34m'matplotlib'\u001b[0m\u001b[0;34m,\u001b[0m \u001b[0;34m'inline'\u001b[0m\u001b[0;34m)\u001b[0m\u001b[0;34m\u001b[0m\u001b[0;34m\u001b[0m\u001b[0m\n\u001b[1;32m      5\u001b[0m \u001b[0mlc\u001b[0m\u001b[0;34m.\u001b[0m\u001b[0mscatter\u001b[0m\u001b[0;34m(\u001b[0m\u001b[0;34m)\u001b[0m\u001b[0;34m;\u001b[0m\u001b[0;34m\u001b[0m\u001b[0;34m\u001b[0m\u001b[0m\n",
      "\u001b[0;32m/opt/miniconda3/lib/python3.6/site-packages/lightkurve/utils.py\u001b[0m in \u001b[0;36mwrapper\u001b[0;34m(*args, **kwargs)\u001b[0m\n\u001b[1;32m    477\u001b[0m             \u001b[0msys\u001b[0m\u001b[0;34m.\u001b[0m\u001b[0mstdout\u001b[0m \u001b[0;34m=\u001b[0m \u001b[0mdevnull\u001b[0m\u001b[0;34m\u001b[0m\u001b[0;34m\u001b[0m\u001b[0m\n\u001b[1;32m    478\u001b[0m             \u001b[0;32mtry\u001b[0m\u001b[0;34m:\u001b[0m\u001b[0;34m\u001b[0m\u001b[0;34m\u001b[0m\u001b[0m\n\u001b[0;32m--> 479\u001b[0;31m                 \u001b[0;32mreturn\u001b[0m \u001b[0mf\u001b[0m\u001b[0;34m(\u001b[0m\u001b[0;34m*\u001b[0m\u001b[0margs\u001b[0m\u001b[0;34m,\u001b[0m \u001b[0;34m**\u001b[0m\u001b[0mkwargs\u001b[0m\u001b[0;34m)\u001b[0m\u001b[0;34m\u001b[0m\u001b[0;34m\u001b[0m\u001b[0m\n\u001b[0m\u001b[1;32m    480\u001b[0m             \u001b[0;31m# restore to default\u001b[0m\u001b[0;34m\u001b[0m\u001b[0;34m\u001b[0m\u001b[0;34m\u001b[0m\u001b[0m\n\u001b[1;32m    481\u001b[0m             \u001b[0;32mfinally\u001b[0m\u001b[0;34m:\u001b[0m\u001b[0;34m\u001b[0m\u001b[0;34m\u001b[0m\u001b[0m\n",
      "\u001b[0;32m/opt/miniconda3/lib/python3.6/site-packages/lightkurve/search.py\u001b[0m in \u001b[0;36mdownload\u001b[0;34m(self, quality_bitmask, download_dir, cutout_size)\u001b[0m\n\u001b[1;32m    236\u001b[0m                                   \u001b[0mquality_bitmask\u001b[0m\u001b[0;34m=\u001b[0m\u001b[0mquality_bitmask\u001b[0m\u001b[0;34m,\u001b[0m\u001b[0;34m\u001b[0m\u001b[0;34m\u001b[0m\u001b[0m\n\u001b[1;32m    237\u001b[0m                                   \u001b[0mdownload_dir\u001b[0m\u001b[0;34m=\u001b[0m\u001b[0mdownload_dir\u001b[0m\u001b[0;34m,\u001b[0m\u001b[0;34m\u001b[0m\u001b[0;34m\u001b[0m\u001b[0m\n\u001b[0;32m--> 238\u001b[0;31m                                   cutout_size=cutout_size)\n\u001b[0m\u001b[1;32m    239\u001b[0m \u001b[0;34m\u001b[0m\u001b[0m\n\u001b[1;32m    240\u001b[0m     \u001b[0;34m@\u001b[0m\u001b[0msuppress_stdout\u001b[0m\u001b[0;34m\u001b[0m\u001b[0;34m\u001b[0m\u001b[0m\n",
      "\u001b[0;32m/opt/miniconda3/lib/python3.6/site-packages/lightkurve/search.py\u001b[0m in \u001b[0;36m_download_one\u001b[0;34m(self, table, quality_bitmask, download_dir, cutout_size)\u001b[0m\n\u001b[1;32m    177\u001b[0m             \u001b[0mlog\u001b[0m\u001b[0;34m.\u001b[0m\u001b[0mdebug\u001b[0m\u001b[0;34m(\u001b[0m\u001b[0;34m\"Finished downloading.\"\u001b[0m\u001b[0;34m)\u001b[0m\u001b[0;34m\u001b[0m\u001b[0;34m\u001b[0m\u001b[0m\n\u001b[1;32m    178\u001b[0m             \u001b[0;31m# open() will determine filetype and return\u001b[0m\u001b[0;34m\u001b[0m\u001b[0;34m\u001b[0m\u001b[0;34m\u001b[0m\u001b[0m\n\u001b[0;32m--> 179\u001b[0;31m             \u001b[0;32mreturn\u001b[0m \u001b[0m_open_downloaded_file\u001b[0m\u001b[0;34m(\u001b[0m\u001b[0mpath\u001b[0m\u001b[0;34m,\u001b[0m \u001b[0mquality_bitmask\u001b[0m\u001b[0;34m=\u001b[0m\u001b[0mquality_bitmask\u001b[0m\u001b[0;34m)\u001b[0m\u001b[0;34m\u001b[0m\u001b[0;34m\u001b[0m\u001b[0m\n\u001b[0m\u001b[1;32m    180\u001b[0m \u001b[0;34m\u001b[0m\u001b[0m\n\u001b[1;32m    181\u001b[0m     \u001b[0;34m@\u001b[0m\u001b[0msuppress_stdout\u001b[0m\u001b[0;34m\u001b[0m\u001b[0;34m\u001b[0m\u001b[0m\n",
      "\u001b[0;32m/opt/miniconda3/lib/python3.6/site-packages/lightkurve/search.py\u001b[0m in \u001b[0;36m_open_downloaded_file\u001b[0;34m(path, **kwargs)\u001b[0m\n\u001b[1;32m   1050\u001b[0m         raise SearchError(\"Failed to open the downloaded file ({}). \"\n\u001b[1;32m   1051\u001b[0m                           \u001b[0;34m\"The file was likely only partially downloaded. \"\u001b[0m\u001b[0;34m\u001b[0m\u001b[0;34m\u001b[0m\u001b[0m\n\u001b[0;32m-> 1052\u001b[0;31m                           \"Please remove it from your disk and try again.\".format(path))\n\u001b[0m\u001b[1;32m   1053\u001b[0m \u001b[0;34m\u001b[0m\u001b[0m\n\u001b[1;32m   1054\u001b[0m \u001b[0;34m\u001b[0m\u001b[0m\n",
      "\u001b[0;31mSearchError\u001b[0m: Failed to open the downloaded file (/Users/sameersingh/.lightkurve-cache/mastDownload/Kepler/kplr006922244_lc_Q111111111111111111/kplr006922244-2010078095331_lpd-targ.fits.gz). The file was likely only partially downloaded. Please remove it from your disk and try again."
     ]
    }
   ],
   "source": [
    "from lightkurve import search_targetpixelfile\n",
    "tpf = search_targetpixelfile('KIC 6922244', quarter=4).download(\"kic.fits\")\n",
    "lc = tpf.to_lightcurve(aperture_mask=tpf.pipeline_mask)\n",
    "%matplotlib inline\n",
    "lc.scatter();"
   ]
  },
  {
   "cell_type": "code",
   "execution_count": null,
   "metadata": {},
   "outputs": [],
   "source": [
    "x = 23\n",
    "epsilon = 0.01\n",
    "step = 0.00001\n",
    "guess = 0.0\n",
    "\n",
    "while abs(guess**2-x) >= epsilon:\n",
    "    if guess <= x:\n",
    "        guess += step\n",
    "    else:\n",
    "        break\n",
    "\n",
    "if abs(guess**2 - x) >= epsilon:\n",
    "    print('failed')\n",
    "else:\n",
    "    print('succeeded: ' + str(guess))"
   ]
  },
  {
   "cell_type": "code",
   "execution_count": 14,
   "metadata": {},
   "outputs": [
    {
     "name": "stdout",
     "output_type": "stream",
     "text": [
      "succeeded: 4.794789000316301\n"
     ]
    }
   ],
   "source": [
    "for i in range(101:\n",
    "              if i%2 != 0L"
   ]
  },
  {
   "cell_type": "code",
   "execution_count": null,
   "metadata": {},
   "outputs": [],
   "source": []
  }
 ],
 "metadata": {
  "kernelspec": {
   "display_name": "Python 3",
   "language": "python",
   "name": "python3"
  },
  "language_info": {
   "codemirror_mode": {
    "name": "ipython",
    "version": 3
   },
   "file_extension": ".py",
   "mimetype": "text/x-python",
   "name": "python",
   "nbconvert_exporter": "python",
   "pygments_lexer": "ipython3",
   "version": "3.9.1"
  }
 },
 "nbformat": 4,
 "nbformat_minor": 4
}
