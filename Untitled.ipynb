{
 "cells": [
  {
   "cell_type": "code",
   "execution_count": 125,
   "metadata": {},
   "outputs": [],
   "source": [
    "import fnmatch\n",
    "import os\n",
    "from astropy.timeseries import TimeSeries\n",
    "import lightkurve as lk\n",
    "import pandas as pd\n",
    "import itertools\n",
    "import shutil\n",
    "from lightkurve import search_lightcurvefile\n",
    "\n",
    "def batch_download(starting_planet, ending_planet, mission_name):\n",
    "    for identifier in range(int(starting_planet), int(ending_planet) + 1):\n",
    "        lpf_collection = search_lightcurvefile(str(mission_name) +\"-\" + str(identifier), mission = mission_name).download_all()\n",
    "        \n",
    "def file_pusher(source_dir, target_dir):\n",
    "    file_names = os.listdir(source_dir)\n",
    "    for file_name in file_names:\n",
    "        shutil.move(os.path.join(source_dir, file_name), target_dir)   "
   ]
  },
  {
   "cell_type": "code",
   "execution_count": 126,
   "metadata": {},
   "outputs": [],
   "source": [
    "batch_download(1,4,\"Kepler\")\n",
    "file_pusher(\"/Users/sameersingh/.lightkurve-cache\", \"/Volumes/ExtremeSSD/exo2\")"
   ]
  },
  {
   "cell_type": "code",
   "execution_count": 133,
   "metadata": {},
   "outputs": [],
   "source": [
    "parent_directory = \"/Volumes/ExtremeSSD/exo2/mastDownload/Kepler\"\n",
    "all_times = [[] for x in range(len(fnmatch.filter(os.listdir(parent_directory), 'kplr*')))]\n",
    "all_fluxes = [[] for x in range(len(fnmatch.filter(os.listdir(parent_directory), 'kplr*')))]\n",
    "list_of_kepler_ids = []\n",
    "\n",
    "for subdirectory in os.listdir(parent_directory):\n",
    "    if fnmatch.fnmatch(subdirectory, \"kplr*\"):\n",
    "        list_of_kepler_ids.append(subdirectory[:13])\n",
    "        jd_times = []\n",
    "        fluxes = []\n",
    "        for file in os.listdir(os.path.join(parent_directory, subdirectory)):\n",
    "            file = os.path.join(parent_directory, subdirectory, file)\n",
    "            ts = TimeSeries.read(file, format='kepler.fits') \n",
    "            times = ts.time.jd\n",
    "            df = ts.to_pandas()\n",
    "            pdcsap = (df[\"pdcsap_flux\"])\n",
    "            lc = lk.LightCurve(times, pdcsap).normalize()\n",
    "            lc = lc.remove_nans()\n",
    "            fluxes.append(lc.flux)\n",
    "            jd_times.append(lc.time)\n",
    "        jd_times = list(itertools.chain(*jd_times))\n",
    "        fluxes = list(itertools.chain(*fluxes))\n",
    "    all_times.append(jd_times)\n",
    "    all_fluxes.append(fluxes)\n",
    "    \n",
    "all_times.sort()    \n",
    "all_fluxes.sort()\n",
    "all_times = list(all_times for all_times,_ in itertools.groupby(all_times))\n",
    "all_fluxes = list(all_fluxes for all_fluxes,_ in itertools.groupby(all_fluxes))\n",
    "\n",
    "for element in all_times:\n",
    "    if len(element) == 0:\n",
    "        all_times.remove(element)\n",
    "        \n",
    "for element in all_fluxes:\n",
    "    if len(element) == 0:\n",
    "        all_fluxes.remove(element)"
   ]
  },
  {
   "cell_type": "code",
   "execution_count": 145,
   "metadata": {
    "scrolled": true
   },
   "outputs": [
    {
     "name": "stdout",
     "output_type": "stream",
     "text": [
      "65283 65283\n",
      "51973 51973\n",
      "52202 51970\n",
      "51970 52202\n"
     ]
    }
   ],
   "source": [
    "print(len(all_times[0]), len(all_fluxes[0]))\n",
    "print(len(all_times[1]), len(all_fluxes[1]))\n",
    "print(len(all_times[2]), len(all_fluxes[2]))\n",
    "print(len(all_times[3]), len(all_fluxes[3]))"
   ]
  },
  {
   "cell_type": "code",
   "execution_count": null,
   "metadata": {},
   "outputs": [],
   "source": []
  }
 ],
 "metadata": {
  "kernelspec": {
   "display_name": "Python 3",
   "language": "python",
   "name": "python3"
  },
  "language_info": {
   "codemirror_mode": {
    "name": "ipython",
    "version": 3
   },
   "file_extension": ".py",
   "mimetype": "text/x-python",
   "name": "python",
   "nbconvert_exporter": "python",
   "pygments_lexer": "ipython3",
   "version": "3.9.1"
  }
 },
 "nbformat": 4,
 "nbformat_minor": 4
}
