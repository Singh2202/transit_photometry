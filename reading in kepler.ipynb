{
 "cells": [
  {
   "cell_type": "code",
   "execution_count": 1,
   "id": "hidden-sierra",
   "metadata": {},
   "outputs": [],
   "source": [
    "import numpy as np \n",
    "import math\n",
    "from keplersplinev2 import *"
   ]
  },
  {
   "cell_type": "code",
   "execution_count": 2,
   "id": "convenient-twist",
   "metadata": {},
   "outputs": [],
   "source": [
    "data = list(map(tuple, np.genfromtxt(\"kplr011446443.txt\", usecols = [0,1])))\n",
    "data = [coordinate for coordinate in data if not math.isnan(coordinate[1])]\n",
    "data.sort(key = lambda x: x[0])"
   ]
  },
  {
   "cell_type": "code",
   "execution_count": 3,
   "id": "accomplished-sympathy",
   "metadata": {},
   "outputs": [],
   "source": [
    "times = np.array([row[0] for row in data])\n",
    "fluxes = np.array([row[1] for row in data])\n",
    "fluxes /= choosekeplersplinev2(times, fluxes)"
   ]
  }
 ],
 "metadata": {
  "kernelspec": {
   "display_name": "Python 3",
   "language": "python",
   "name": "python3"
  },
  "language_info": {
   "codemirror_mode": {
    "name": "ipython",
    "version": 3
   },
   "file_extension": ".py",
   "mimetype": "text/x-python",
   "name": "python",
   "nbconvert_exporter": "python",
   "pygments_lexer": "ipython3",
   "version": "3.9.1"
  }
 },
 "nbformat": 4,
 "nbformat_minor": 5
}
